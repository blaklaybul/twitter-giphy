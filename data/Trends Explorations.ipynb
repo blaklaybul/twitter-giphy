{
 "cells": [
  {
   "cell_type": "code",
   "execution_count": 3,
   "metadata": {
    "collapsed": false
   },
   "outputs": [],
   "source": [
    "%matplotlib inline\n",
    "\n",
    "import json\n",
    "import pandas as pd\n",
    "import matplotlib.pyplot as plt"
   ]
  },
  {
   "cell_type": "markdown",
   "metadata": {},
   "source": [
    "## Load the Twitter Trend Snapshots\n",
    "\n",
    "Take the raw fata from dynamoDB dump, clean it up, and load it into a pandas data frame."
   ]
  },
  {
   "cell_type": "code",
   "execution_count": 43,
   "metadata": {
    "collapsed": true
   },
   "outputs": [],
   "source": [
    "with open('output.json', 'rb') as f:\n",
    "    trends = json.load(f)"
   ]
  },
  {
   "cell_type": "code",
   "execution_count": 7,
   "metadata": {
    "collapsed": false
   },
   "outputs": [
    {
     "data": {
      "text/plain": [
       "{u'placeID': {u'N': u'2407517'},\n",
       " u'trend': {u'M': {u'date': {u'S': u'2016-03-03'},\n",
       "   u'mappedName': {u'S': u'world book day'},\n",
       "   u'placeName': {u'S': u'Fresno'},\n",
       "   u'tweetName': {u'S': u'#WorldBookDay'},\n",
       "   u'tweetVolume': {u'N': u'225775'},\n",
       "   u'url': {u'S': u'http://twitter.com/search?q=%23WorldBookDay'}}},\n",
       " u'trendTime': {u'N': u'1457022783'}}"
      ]
     },
     "execution_count": 7,
     "metadata": {},
     "output_type": "execute_result"
    }
   ],
   "source": [
    "# use this to inform cleanup process\n",
    "trends[\"Items\"][0]"
   ]
  },
  {
   "cell_type": "code",
   "execution_count": 44,
   "metadata": {
    "collapsed": true
   },
   "outputs": [],
   "source": [
    "trends_clean = []"
   ]
  },
  {
   "cell_type": "code",
   "execution_count": 45,
   "metadata": {
    "collapsed": true
   },
   "outputs": [],
   "source": [
    "for trend in trends[\"Items\"]:\n",
    "    new = {}\n",
    "    new[\"placeID\"] = trend[\"placeID\"][\"N\"]\n",
    "    new[\"trendMapped\"] = trend[\"trend\"][\"M\"][\"mappedName\"][\"S\"]\n",
    "    new[\"placeName\"] = trend[\"trend\"][\"M\"][\"placeName\"][\"S\"]\n",
    "    new[\"trendName\"] = trend[\"trend\"][\"M\"][\"tweetName\"][\"S\"]\n",
    "    new[\"trendVolume\"] = trend[\"trend\"][\"M\"][\"tweetVolume\"][\"N\"]\n",
    "    new[\"searchUrl\"] = trend[\"trend\"][\"M\"][\"url\"][\"S\"]\n",
    "    new[\"trendDate\"] = trend[\"trend\"][\"M\"][\"date\"][\"S\"]\n",
    "    new[\"trendTime\"] = trend[\"trendTime\"][\"N\"]\n",
    "    trends_clean.append(new)"
   ]
  },
  {
   "cell_type": "code",
   "execution_count": 46,
   "metadata": {
    "collapsed": false
   },
   "outputs": [
    {
     "data": {
      "text/plain": [
       "{'placeID': u'2407517',\n",
       " 'placeName': u'Fresno',\n",
       " 'searchUrl': u'http://twitter.com/search?q=%23WorldBookDay',\n",
       " 'trendDate': u'2016-03-03',\n",
       " 'trendMapped': u'world book day',\n",
       " 'trendName': u'#WorldBookDay',\n",
       " 'trendTime': u'1457022783',\n",
       " 'trendVolume': u'225775'}"
      ]
     },
     "execution_count": 46,
     "metadata": {},
     "output_type": "execute_result"
    }
   ],
   "source": [
    "# it worked\n",
    "trends_clean[0]"
   ]
  },
  {
   "cell_type": "code",
   "execution_count": 47,
   "metadata": {
    "collapsed": true
   },
   "outputs": [],
   "source": [
    "df_trends = pd.DataFrame(trends_clean)"
   ]
  },
  {
   "cell_type": "markdown",
   "metadata": {},
   "source": [
    "## Pandas Cleanup\n",
    "Converting columns and shit"
   ]
  },
  {
   "cell_type": "code",
   "execution_count": 48,
   "metadata": {
    "collapsed": false
   },
   "outputs": [],
   "source": [
    "df_trends.trendTime = df_trends.trendTime.astype(int)\n",
    "df_trends.trendVolume = df_trends.trendVolume.astype(int)\n",
    "df_trends.index = pd.to_datetime(df_trends.trendTime, unit = 's')\n",
    "df_trends = df_trends.drop(\"trendTime\", axis = 1)"
   ]
  },
  {
   "cell_type": "code",
   "execution_count": 49,
   "metadata": {
    "collapsed": true
   },
   "outputs": [
    {
     "data": {
      "text/html": [
       "<div>\n",
       "<table border=\"1\" class=\"dataframe\">\n",
       "  <thead>\n",
       "    <tr style=\"text-align: right;\">\n",
       "      <th></th>\n",
       "      <th>placeID</th>\n",
       "      <th>placeName</th>\n",
       "      <th>searchUrl</th>\n",
       "      <th>trendDate</th>\n",
       "      <th>trendMapped</th>\n",
       "      <th>trendName</th>\n",
       "      <th>trendVolume</th>\n",
       "    </tr>\n",
       "    <tr>\n",
       "      <th>trendTime</th>\n",
       "      <th></th>\n",
       "      <th></th>\n",
       "      <th></th>\n",
       "      <th></th>\n",
       "      <th></th>\n",
       "      <th></th>\n",
       "      <th></th>\n",
       "    </tr>\n",
       "  </thead>\n",
       "  <tbody>\n",
       "    <tr>\n",
       "      <th>2016-03-10 11:51:15</th>\n",
       "      <td>2459115</td>\n",
       "      <td>New York</td>\n",
       "      <td>http://twitter.com/search?q=%23DemDebate</td>\n",
       "      <td>2016-03-10</td>\n",
       "      <td>dem debate</td>\n",
       "      <td>#DemDebate</td>\n",
       "      <td>536268</td>\n",
       "    </tr>\n",
       "    <tr>\n",
       "      <th>2016-03-10 11:20:55</th>\n",
       "      <td>2459115</td>\n",
       "      <td>New York</td>\n",
       "      <td>http://twitter.com/search?q=%23DemDebate</td>\n",
       "      <td>2016-03-10</td>\n",
       "      <td>dem debate</td>\n",
       "      <td>#DemDebate</td>\n",
       "      <td>533930</td>\n",
       "    </tr>\n",
       "    <tr>\n",
       "      <th>2016-03-10 11:03:58</th>\n",
       "      <td>2459115</td>\n",
       "      <td>New York</td>\n",
       "      <td>http://twitter.com/search?q=%23DemDebate</td>\n",
       "      <td>2016-03-10</td>\n",
       "      <td>dem debate</td>\n",
       "      <td>#DemDebate</td>\n",
       "      <td>532758</td>\n",
       "    </tr>\n",
       "    <tr>\n",
       "      <th>2016-03-10 10:33:01</th>\n",
       "      <td>2459115</td>\n",
       "      <td>New York</td>\n",
       "      <td>http://twitter.com/search?q=%23DemDebate</td>\n",
       "      <td>2016-03-10</td>\n",
       "      <td>dem debate</td>\n",
       "      <td>#DemDebate</td>\n",
       "      <td>530332</td>\n",
       "    </tr>\n",
       "    <tr>\n",
       "      <th>2016-03-10 10:21:17</th>\n",
       "      <td>2459115</td>\n",
       "      <td>New York</td>\n",
       "      <td>http://twitter.com/search?q=%23DemDebate</td>\n",
       "      <td>2016-03-10</td>\n",
       "      <td>dem debate</td>\n",
       "      <td>#DemDebate</td>\n",
       "      <td>530020</td>\n",
       "    </tr>\n",
       "    <tr>\n",
       "      <th>2016-03-10 07:03:01</th>\n",
       "      <td>2459115</td>\n",
       "      <td>New York</td>\n",
       "      <td>http://twitter.com/search?q=%23DemDebate</td>\n",
       "      <td>2016-03-10</td>\n",
       "      <td>dem debate</td>\n",
       "      <td>#DemDebate</td>\n",
       "      <td>506155</td>\n",
       "    </tr>\n",
       "    <tr>\n",
       "      <th>2016-03-10 03:48:02</th>\n",
       "      <td>2459115</td>\n",
       "      <td>New York</td>\n",
       "      <td>http://twitter.com/search?q=%23DemDebate</td>\n",
       "      <td>2016-03-10</td>\n",
       "      <td>dem debate</td>\n",
       "      <td>#DemDebate</td>\n",
       "      <td>318096</td>\n",
       "    </tr>\n",
       "    <tr>\n",
       "      <th>2016-03-10 20:33:02</th>\n",
       "      <td>2459115</td>\n",
       "      <td>New York</td>\n",
       "      <td>http://twitter.com/search?q=%22Like+I+Would%22</td>\n",
       "      <td>2016-03-10</td>\n",
       "      <td>Like I Would</td>\n",
       "      <td>Like I Would</td>\n",
       "      <td>255270</td>\n",
       "    </tr>\n",
       "    <tr>\n",
       "      <th>2016-03-10 22:04:06</th>\n",
       "      <td>2459115</td>\n",
       "      <td>New York</td>\n",
       "      <td>http://twitter.com/search?q=Marvel</td>\n",
       "      <td>2016-03-10</td>\n",
       "      <td>marvel</td>\n",
       "      <td>Marvel</td>\n",
       "      <td>164611</td>\n",
       "    </tr>\n",
       "    <tr>\n",
       "      <th>2016-03-10 21:03:01</th>\n",
       "      <td>2459115</td>\n",
       "      <td>New York</td>\n",
       "      <td>http://twitter.com/search?q=Marvel</td>\n",
       "      <td>2016-03-10</td>\n",
       "      <td>marvel</td>\n",
       "      <td>Marvel</td>\n",
       "      <td>155876</td>\n",
       "    </tr>\n",
       "    <tr>\n",
       "      <th>2016-03-10 02:03:01</th>\n",
       "      <td>2459115</td>\n",
       "      <td>New York</td>\n",
       "      <td>http://twitter.com/search?q=Giants</td>\n",
       "      <td>2016-03-10</td>\n",
       "      <td>giants</td>\n",
       "      <td>Giants</td>\n",
       "      <td>146923</td>\n",
       "    </tr>\n",
       "    <tr>\n",
       "      <th>2016-03-10 19:33:01</th>\n",
       "      <td>2459115</td>\n",
       "      <td>New York</td>\n",
       "      <td>http://twitter.com/search?q=Marvel</td>\n",
       "      <td>2016-03-10</td>\n",
       "      <td>marvel</td>\n",
       "      <td>Marvel</td>\n",
       "      <td>132231</td>\n",
       "    </tr>\n",
       "    <tr>\n",
       "      <th>2016-03-10 17:05:56</th>\n",
       "      <td>2459115</td>\n",
       "      <td>New York</td>\n",
       "      <td>http://twitter.com/search?q=%23LikeIWould</td>\n",
       "      <td>2016-03-10</td>\n",
       "      <td>like i would</td>\n",
       "      <td>#LikeIWould</td>\n",
       "      <td>106240</td>\n",
       "    </tr>\n",
       "    <tr>\n",
       "      <th>2016-03-10 13:03:02</th>\n",
       "      <td>2459115</td>\n",
       "      <td>New York</td>\n",
       "      <td>http://twitter.com/search?q=OLLG</td>\n",
       "      <td>2016-03-10</td>\n",
       "      <td>ollg</td>\n",
       "      <td>OLLG</td>\n",
       "      <td>79984</td>\n",
       "    </tr>\n",
       "  </tbody>\n",
       "</table>\n",
       "</div>"
      ],
      "text/plain": [
       "                     placeID placeName  \\\n",
       "trendTime                                \n",
       "2016-03-10 11:51:15  2459115  New York   \n",
       "2016-03-10 11:20:55  2459115  New York   \n",
       "2016-03-10 11:03:58  2459115  New York   \n",
       "2016-03-10 10:33:01  2459115  New York   \n",
       "2016-03-10 10:21:17  2459115  New York   \n",
       "2016-03-10 07:03:01  2459115  New York   \n",
       "2016-03-10 03:48:02  2459115  New York   \n",
       "2016-03-10 20:33:02  2459115  New York   \n",
       "2016-03-10 22:04:06  2459115  New York   \n",
       "2016-03-10 21:03:01  2459115  New York   \n",
       "2016-03-10 02:03:01  2459115  New York   \n",
       "2016-03-10 19:33:01  2459115  New York   \n",
       "2016-03-10 17:05:56  2459115  New York   \n",
       "2016-03-10 13:03:02  2459115  New York   \n",
       "\n",
       "                                                          searchUrl  \\\n",
       "trendTime                                                             \n",
       "2016-03-10 11:51:15        http://twitter.com/search?q=%23DemDebate   \n",
       "2016-03-10 11:20:55        http://twitter.com/search?q=%23DemDebate   \n",
       "2016-03-10 11:03:58        http://twitter.com/search?q=%23DemDebate   \n",
       "2016-03-10 10:33:01        http://twitter.com/search?q=%23DemDebate   \n",
       "2016-03-10 10:21:17        http://twitter.com/search?q=%23DemDebate   \n",
       "2016-03-10 07:03:01        http://twitter.com/search?q=%23DemDebate   \n",
       "2016-03-10 03:48:02        http://twitter.com/search?q=%23DemDebate   \n",
       "2016-03-10 20:33:02  http://twitter.com/search?q=%22Like+I+Would%22   \n",
       "2016-03-10 22:04:06              http://twitter.com/search?q=Marvel   \n",
       "2016-03-10 21:03:01              http://twitter.com/search?q=Marvel   \n",
       "2016-03-10 02:03:01              http://twitter.com/search?q=Giants   \n",
       "2016-03-10 19:33:01              http://twitter.com/search?q=Marvel   \n",
       "2016-03-10 17:05:56       http://twitter.com/search?q=%23LikeIWould   \n",
       "2016-03-10 13:03:02                http://twitter.com/search?q=OLLG   \n",
       "\n",
       "                      trendDate   trendMapped     trendName  trendVolume  \n",
       "trendTime                                                                 \n",
       "2016-03-10 11:51:15  2016-03-10    dem debate    #DemDebate       536268  \n",
       "2016-03-10 11:20:55  2016-03-10    dem debate    #DemDebate       533930  \n",
       "2016-03-10 11:03:58  2016-03-10    dem debate    #DemDebate       532758  \n",
       "2016-03-10 10:33:01  2016-03-10    dem debate    #DemDebate       530332  \n",
       "2016-03-10 10:21:17  2016-03-10    dem debate    #DemDebate       530020  \n",
       "2016-03-10 07:03:01  2016-03-10    dem debate    #DemDebate       506155  \n",
       "2016-03-10 03:48:02  2016-03-10    dem debate    #DemDebate       318096  \n",
       "2016-03-10 20:33:02  2016-03-10  Like I Would  Like I Would       255270  \n",
       "2016-03-10 22:04:06  2016-03-10        marvel        Marvel       164611  \n",
       "2016-03-10 21:03:01  2016-03-10        marvel        Marvel       155876  \n",
       "2016-03-10 02:03:01  2016-03-10        giants        Giants       146923  \n",
       "2016-03-10 19:33:01  2016-03-10        marvel        Marvel       132231  \n",
       "2016-03-10 17:05:56  2016-03-10  like i would   #LikeIWould       106240  \n",
       "2016-03-10 13:03:02  2016-03-10          ollg          OLLG        79984  "
      ]
     },
     "execution_count": 49,
     "metadata": {},
     "output_type": "execute_result"
    }
   ],
   "source": [
    "df_trends[(df_trends[\"placeName\"] == \"New York\") & (df_trends[\"trendDate\"] == '2016-03-10')].sort_values(by = \"trendVolume\", ascending = False)"
   ]
  },
  {
   "cell_type": "code",
   "execution_count": 53,
   "metadata": {
    "collapsed": false
   },
   "outputs": [],
   "source": [
    "df_trends.to_json(\"cleaned_trends.json\",orient = 'records')\n"
   ]
  },
  {
   "cell_type": "code",
   "execution_count": null,
   "metadata": {
    "collapsed": true
   },
   "outputs": [],
   "source": []
  }
 ],
 "metadata": {
  "kernelspec": {
   "display_name": "Python 2",
   "language": "python",
   "name": "python2"
  },
  "language_info": {
   "codemirror_mode": {
    "name": "ipython",
    "version": 2
   },
   "file_extension": ".py",
   "mimetype": "text/x-python",
   "name": "python",
   "nbconvert_exporter": "python",
   "pygments_lexer": "ipython2",
   "version": "2.7.11"
  }
 },
 "nbformat": 4,
 "nbformat_minor": 0
}
