{
 "cells": [
  {
   "cell_type": "code",
   "execution_count": 476,
   "metadata": {
    "collapsed": false
   },
   "outputs": [],
   "source": [
    "%matplotlib inline\n",
    "\n",
    "import requests\n",
    "import shutil\n",
    "import json\n",
    "import pandas as pd\n",
    "import matplotlib.pyplot as plt\n",
    "import datetime"
   ]
  },
  {
   "cell_type": "markdown",
   "metadata": {},
   "source": [
    "## Load the Twitter Trend Snapshots\n",
    "\n",
    "Take the raw fata from dynamoDB dump, clean it up, and load it into a pandas data frame."
   ]
  },
  {
   "cell_type": "code",
   "execution_count": 219,
   "metadata": {
    "collapsed": true
   },
   "outputs": [],
   "source": [
    "with open('output.json', 'rb') as f:\n",
    "    trends = json.load(f)"
   ]
  },
  {
   "cell_type": "code",
   "execution_count": 220,
   "metadata": {
    "collapsed": false
   },
   "outputs": [
    {
     "data": {
      "text/plain": [
       "{u'placeID': {u'N': u'2407517'},\n",
       " u'trend': {u'M': {u'date': {u'S': u'2016-03-03'},\n",
       "   u'mappedName': {u'S': u'world book day'},\n",
       "   u'placeName': {u'S': u'Fresno'},\n",
       "   u'tweetName': {u'S': u'#WorldBookDay'},\n",
       "   u'tweetVolume': {u'N': u'225775'},\n",
       "   u'url': {u'S': u'http://twitter.com/search?q=%23WorldBookDay'}}},\n",
       " u'trendTime': {u'N': u'1457022783'}}"
      ]
     },
     "execution_count": 220,
     "metadata": {},
     "output_type": "execute_result"
    }
   ],
   "source": [
    "# use this to inform cleanup process\n",
    "trends[\"Items\"][0]"
   ]
  },
  {
   "cell_type": "code",
   "execution_count": 438,
   "metadata": {
    "collapsed": true
   },
   "outputs": [],
   "source": [
    "trends_clean = []"
   ]
  },
  {
   "cell_type": "code",
   "execution_count": 439,
   "metadata": {
    "collapsed": true
   },
   "outputs": [],
   "source": [
    "for trend in trends[\"Items\"]:\n",
    "    new = {}\n",
    "    new[\"placeID\"] = trend[\"placeID\"][\"N\"]\n",
    "    new[\"trendMapped\"] = trend[\"trend\"][\"M\"][\"mappedName\"][\"S\"]\n",
    "    new[\"placeName\"] = trend[\"trend\"][\"M\"][\"placeName\"][\"S\"]\n",
    "    new[\"trendName\"] = trend[\"trend\"][\"M\"][\"tweetName\"][\"S\"]\n",
    "    new[\"trendVolume\"] = trend[\"trend\"][\"M\"][\"tweetVolume\"][\"N\"]\n",
    "    new[\"searchUrl\"] = trend[\"trend\"][\"M\"][\"url\"][\"S\"]\n",
    "    new[\"trendDate\"] = trend[\"trend\"][\"M\"][\"date\"][\"S\"]\n",
    "    new[\"trendTime\"] = trend[\"trendTime\"][\"N\"]\n",
    "    trends_clean.append(new)"
   ]
  },
  {
   "cell_type": "code",
   "execution_count": 440,
   "metadata": {
    "collapsed": false
   },
   "outputs": [
    {
     "data": {
      "text/plain": [
       "{'placeID': u'2407517',\n",
       " 'placeName': u'Fresno',\n",
       " 'searchUrl': u'http://twitter.com/search?q=%23WorldBookDay',\n",
       " 'trendDate': u'2016-03-03',\n",
       " 'trendMapped': u'world book day',\n",
       " 'trendName': u'#WorldBookDay',\n",
       " 'trendTime': u'1457022783',\n",
       " 'trendVolume': u'225775'}"
      ]
     },
     "execution_count": 440,
     "metadata": {},
     "output_type": "execute_result"
    }
   ],
   "source": [
    "# it worked\n",
    "trends_clean[0]"
   ]
  },
  {
   "cell_type": "code",
   "execution_count": 444,
   "metadata": {
    "collapsed": true
   },
   "outputs": [],
   "source": [
    "df_trends = pd.DataFrame(trends_clean)"
   ]
  },
  {
   "cell_type": "code",
   "execution_count": 442,
   "metadata": {
    "collapsed": false
   },
   "outputs": [],
   "source": [
    "states = {\"New York\" : \"NY\",\n",
    "\"Albuquerque\" : \"NM\",\n",
    "\"United States\" : \"XX\",\n",
    "\"Fresno\" : \"CA\",\n",
    "\"Long Beach\" : \"CA\",\n",
    "\"Tucson\" : \"AZ\",\n",
    "\"Philadelphia\" : \"PA\",\n",
    "\"San Jose\" : \"CA\",\n",
    "\"Mesa\" : \"AZ\",\n",
    "\"Colorado Springs\" : \"CO\",\n",
    "\"Los Angeles\" : \"CA\",\n",
    "\"Washington\" : \"DC\",\n",
    "\"Virginia Beach\" : \"VA\",\n",
    "\"San Francisco\" : \"CA\",\n",
    "\"Chicago\" : \"IL\",\n",
    "\"Boston\" : \"MA\",\n",
    "\"Atlanta\" : \"GA\",\n",
    "\"Dallas-Ft. Worth\" : \"TX\",\n",
    "\"Houston\" : \"TX\",\n",
    "\"Miami\" : \"FL\",\n",
    "\"Denver\" : \"CO\",\n",
    "\"Cleveland\" : \"OH\",\n",
    "\"Seattle\" : \"WA\",\n",
    "\"Tampa\" : \"FL\",\n",
    "\"Phoenix\" : \"AZ\",\n",
    "\"Minneapolis\" : \"MN\",\n",
    "\"San Diego\" : \"CA\",\n",
    "\"Detroit\" : \"MI\",\n",
    "\"Las Vegas\" : \"NV\",\n",
    "\"St. Louis\" : \"MO\",\n",
    "\"New Haven\" : \"CT\",\n",
    "\"Charlotte\" : \"NC\",\n",
    "\"Indianapolis\" : \"IN\",\n",
    "\"Salt Lake City\" : \"UT\",\n",
    "\"Austin\" : \"TX\",\n",
    "\"Raleigh\" : \"NC\",\n",
    "\"Orlando\" : \"FL\",\n",
    "\"Louisville\" : \"KY\",\n",
    "\"Portland\" : \"OR\",\n",
    "\"Baton Rouge\" : \"LA\",\n",
    "\"Columbus\" : \"OH\",\n",
    "\"Pittsburgh\" : \"PA\",\n",
    "\"Baltimore\" : \"MD\",\n",
    "\"San Antonio\" : \"TX\",\n",
    "\"Omaha\" : \"NE\",\n",
    "\"Oklahoma City\" : \"OK\",\n",
    "\"Jackson\" : \"MS\",\n",
    "\"El Paso\" : \"TX\",\n",
    "\"Milwaukee\" : \"WI\",\n",
    "\"Memphis\" : \"TN\",\n",
    "\"Cincinnati\" : \"OH\",\n",
    "\"Providence\" : \"RI\",\n",
    "\"Tallahassee\" : \"FL\",\n",
    "\"Norfolk\" : \"VA\",\n",
    "\"Kansas City\" : \"MO\",\n",
    "\"Richmond\" : \"VA\",\n",
    "\"Harrisburg\" : \"PA\",\n",
    "\"Sacramento\" : \"CA\",\n",
    "\"Birmingham\" : \"AL\",\n",
    "\"Nashville\" : \"TN\",\n",
    "\"Honolulu\" : \"HI\",\n",
    "\"Greensboro\" : \"NC\",\n",
    "\"Jacksonville\" : \"FL\",\n",
    "\"New Orleans\" : \"LA\"}"
   ]
  },
  {
   "cell_type": "markdown",
   "metadata": {},
   "source": [
    "## Pandas Cleanup\n",
    "Converting columns and shit"
   ]
  },
  {
   "cell_type": "code",
   "execution_count": 445,
   "metadata": {
    "collapsed": false
   },
   "outputs": [],
   "source": [
    "df_trends.trendTime = df_trends.trendTime.astype(int)\n",
    "df_trends.trendVolume = df_trends.trendVolume.astype(int)\n",
    "df_trends.index = pd.to_datetime(df_trends.trendTime, unit = 's')\n",
    "df_trends = df_trends.drop(\"trendTime\", axis = 1)\n",
    "df_trends[\"stateName\"] = df_trends.placeName.apply(states.get)\n",
    "df_trends[\"trendMapped\"] = df_trends.trendMapped.str.replace(\" \", \"+\")"
   ]
  },
  {
   "cell_type": "code",
   "execution_count": 470,
   "metadata": {
    "collapsed": false,
    "scrolled": false
   },
   "outputs": [],
   "source": [
    "#group by state for full map\n",
    "trends_agg = df_trends[~(df_trends[\"trendName\"].str.contains(\"5SO|Leicester|ALDUB|iHeartAwards\"))].groupby([\"stateName\",\"trendDate\", \"trendName\"]).agg({\"trendVolume\": max})\n",
    "\n",
    "#group by city for hover\n",
    "trends_agg2= df_trends[~(df_trends[\"trendName\"].str.contains(\"5SO|Leicester|ALDUB|iHeartAwards\"))].groupby([\"trendDate\",\"stateName\",\"trendName\"]).max()"
   ]
  },
  {
   "cell_type": "code",
   "execution_count": 447,
   "metadata": {
    "collapsed": false,
    "scrolled": false
   },
   "outputs": [],
   "source": [
    "g = trends_agg['trendVolume'].groupby(level=[1,0], group_keys=False)"
   ]
  },
  {
   "cell_type": "code",
   "execution_count": 448,
   "metadata": {
    "collapsed": false
   },
   "outputs": [
    {
     "name": "stderr",
     "output_type": "stream",
     "text": [
      "/Users/michaelhi/anaconda/envs/twitter-giphy/lib/python2.7/site-packages/ipykernel/__main__.py:1: FutureWarning: order is deprecated, use sort_values(...)\n",
      "  if __name__ == '__main__':\n"
     ]
    }
   ],
   "source": [
    "res = g.apply(lambda x: x.order(ascending=False).head(1))"
   ]
  },
  {
   "cell_type": "code",
   "execution_count": 367,
   "metadata": {
    "collapsed": false
   },
   "outputs": [],
   "source": [
    "res2 = pd.DataFrame(res).reset_index()"
   ]
  },
  {
   "cell_type": "code",
   "execution_count": 390,
   "metadata": {
    "collapsed": false
   },
   "outputs": [],
   "source": [
    "res2.index = res2.trendDate"
   ]
  },
  {
   "cell_type": "code",
   "execution_count": 83,
   "metadata": {
    "collapsed": true
   },
   "outputs": [
    {
     "name": "stdout",
     "output_type": "stream",
     "text": [
      "New York            274\n",
      "Albuquerque         273\n",
      "United States       272\n",
      "Fresno              272\n",
      "Long Beach          271\n",
      "Tucson              270\n",
      "Philadelphia        267\n",
      "San Jose            267\n",
      "Mesa                266\n",
      "Colorado Springs    265\n",
      "Los Angeles         264\n",
      "Washington          256\n",
      "Virginia Beach      255\n",
      "San Francisco       251\n",
      "Chicago             242\n",
      "Boston              242\n",
      "Atlanta             238\n",
      "Dallas-Ft. Worth    229\n",
      "Houston             217\n",
      "Miami               216\n",
      "Denver              214\n",
      "Cleveland           210\n",
      "Seattle             205\n",
      "Tampa               203\n",
      "Phoenix             197\n",
      "Minneapolis         195\n",
      "San Diego           195\n",
      "Detroit             190\n",
      "Las Vegas           189\n",
      "St. Louis           189\n",
      "New Haven           189\n",
      "Charlotte           188\n",
      "Indianapolis        183\n",
      "Salt Lake City      182\n",
      "Austin              182\n",
      "Raleigh             182\n",
      "Orlando             177\n",
      "Louisville          177\n",
      "Portland            175\n",
      "Baton Rouge         174\n",
      "Columbus            174\n",
      "Pittsburgh          173\n",
      "Baltimore           171\n",
      "San Antonio         171\n",
      "Omaha               169\n",
      "Oklahoma City       169\n",
      "Jackson             168\n",
      "El Paso             167\n",
      "Milwaukee           166\n",
      "Memphis             165\n",
      "Cincinnati          165\n",
      "Providence          164\n",
      "Tallahassee         163\n",
      "Norfolk             163\n",
      "Kansas City         163\n",
      "Richmond            161\n",
      "Harrisburg          159\n",
      "Sacramento          157\n",
      "Birmingham          156\n",
      "Nashville           154\n",
      "Honolulu            150\n",
      "Greensboro          150\n",
      "Jacksonville        149\n",
      "New Orleans         149\n",
      "Name: placeName, dtype: int64\n"
     ]
    }
   ],
   "source": [
    "def print_full(x):\n",
    "    pd.set_option('display.max_rows', len(x))\n",
    "    print(x)\n",
    "    pd.reset_option('display.max_rows')\n",
    "\n",
    "print_full(trends_agg_322.index.get_level_values(\"placeName\").value_counts())\n",
    "\n",
    "#trends_agg_322[\"trendMapped\"].value_counts()"
   ]
  },
  {
   "cell_type": "markdown",
   "metadata": {},
   "source": [
    "Here we get the mapped names for giphy retrieval"
   ]
  },
  {
   "cell_type": "code",
   "execution_count": 123,
   "metadata": {
    "collapsed": false
   },
   "outputs": [],
   "source": [
    "mike = [ dude.replace(\" \", \"+\") for dude in list(set(trends_agg_322[\"trendMapped\"]))]\n",
    "responses = []"
   ]
  },
  {
   "cell_type": "code",
   "execution_count": 124,
   "metadata": {
    "collapsed": false
   },
   "outputs": [],
   "source": [
    "for trend in mike:\n",
    "    resp = requests.get(\"http://api.giphy.com/v1/gifs/search?q=\" + trend + \"&api_key=dc6zaTOxFJmzC&limit=1\")\n",
    "    data = resp.json()\n",
    "    data[\"trend\"] = trend\n",
    "    responses.append(data)\n",
    "    "
   ]
  },
  {
   "cell_type": "code",
   "execution_count": 138,
   "metadata": {
    "collapsed": true
   },
   "outputs": [
    {
     "ename": "ConnectionError",
     "evalue": "('Connection aborted.', BadStatusLine(\"''\",))",
     "output_type": "error",
     "traceback": [
      "\u001b[0;31m---------------------------------------------------------------------------\u001b[0m",
      "\u001b[0;31mConnectionError\u001b[0m                           Traceback (most recent call last)",
      "\u001b[0;32m<ipython-input-138-fea80f730cb3>\u001b[0m in \u001b[0;36m<module>\u001b[0;34m()\u001b[0m\n\u001b[1;32m      2\u001b[0m     \u001b[0;32mif\u001b[0m \u001b[0mresp\u001b[0m\u001b[0;34m[\u001b[0m\u001b[0;34m\"data\"\u001b[0m\u001b[0;34m]\u001b[0m\u001b[0;34m:\u001b[0m\u001b[0;34m\u001b[0m\u001b[0m\n\u001b[1;32m      3\u001b[0m         \u001b[0murl\u001b[0m \u001b[0;34m=\u001b[0m \u001b[0mresp\u001b[0m\u001b[0;34m[\u001b[0m\u001b[0;34m\"data\"\u001b[0m\u001b[0;34m]\u001b[0m\u001b[0;34m[\u001b[0m\u001b[0;36m0\u001b[0m\u001b[0;34m]\u001b[0m\u001b[0;34m[\u001b[0m\u001b[0;34m\"images\"\u001b[0m\u001b[0;34m]\u001b[0m\u001b[0;34m[\u001b[0m\u001b[0;34m\"downsized_large\"\u001b[0m\u001b[0;34m]\u001b[0m\u001b[0;34m[\u001b[0m\u001b[0;34m\"url\"\u001b[0m\u001b[0;34m]\u001b[0m\u001b[0;34m\u001b[0m\u001b[0m\n\u001b[0;32m----> 4\u001b[0;31m         \u001b[0mres\u001b[0m \u001b[0;34m=\u001b[0m \u001b[0mrequests\u001b[0m\u001b[0;34m.\u001b[0m\u001b[0mget\u001b[0m\u001b[0;34m(\u001b[0m\u001b[0murl\u001b[0m\u001b[0;34m,\u001b[0m \u001b[0mstream\u001b[0m\u001b[0;34m=\u001b[0m\u001b[0mTrue\u001b[0m\u001b[0;34m)\u001b[0m\u001b[0;34m\u001b[0m\u001b[0m\n\u001b[0m\u001b[1;32m      5\u001b[0m         \u001b[0;32mwith\u001b[0m \u001b[0mopen\u001b[0m\u001b[0;34m(\u001b[0m\u001b[0;34m\"gifs_full/\"\u001b[0m\u001b[0;34m+\u001b[0m\u001b[0mresp\u001b[0m\u001b[0;34m[\u001b[0m\u001b[0;34m\"trend\"\u001b[0m\u001b[0;34m]\u001b[0m\u001b[0;34m+\u001b[0m\u001b[0;34m'.gif'\u001b[0m\u001b[0;34m,\u001b[0m \u001b[0;34m'wb'\u001b[0m\u001b[0;34m)\u001b[0m \u001b[0;32mas\u001b[0m \u001b[0mout_file\u001b[0m\u001b[0;34m:\u001b[0m\u001b[0;34m\u001b[0m\u001b[0m\n\u001b[1;32m      6\u001b[0m             \u001b[0mshutil\u001b[0m\u001b[0;34m.\u001b[0m\u001b[0mcopyfileobj\u001b[0m\u001b[0;34m(\u001b[0m\u001b[0mres\u001b[0m\u001b[0;34m.\u001b[0m\u001b[0mraw\u001b[0m\u001b[0;34m,\u001b[0m \u001b[0mout_file\u001b[0m\u001b[0;34m)\u001b[0m\u001b[0;34m\u001b[0m\u001b[0m\n",
      "\u001b[0;32m/Users/michaelhi/anaconda/envs/twitter-giphy/lib/python2.7/site-packages/requests/api.pyc\u001b[0m in \u001b[0;36mget\u001b[0;34m(url, params, **kwargs)\u001b[0m\n\u001b[1;32m     65\u001b[0m \u001b[0;34m\u001b[0m\u001b[0m\n\u001b[1;32m     66\u001b[0m     \u001b[0mkwargs\u001b[0m\u001b[0;34m.\u001b[0m\u001b[0msetdefault\u001b[0m\u001b[0;34m(\u001b[0m\u001b[0;34m'allow_redirects'\u001b[0m\u001b[0;34m,\u001b[0m \u001b[0mTrue\u001b[0m\u001b[0;34m)\u001b[0m\u001b[0;34m\u001b[0m\u001b[0m\n\u001b[0;32m---> 67\u001b[0;31m     \u001b[0;32mreturn\u001b[0m \u001b[0mrequest\u001b[0m\u001b[0;34m(\u001b[0m\u001b[0;34m'get'\u001b[0m\u001b[0;34m,\u001b[0m \u001b[0murl\u001b[0m\u001b[0;34m,\u001b[0m \u001b[0mparams\u001b[0m\u001b[0;34m=\u001b[0m\u001b[0mparams\u001b[0m\u001b[0;34m,\u001b[0m \u001b[0;34m**\u001b[0m\u001b[0mkwargs\u001b[0m\u001b[0;34m)\u001b[0m\u001b[0;34m\u001b[0m\u001b[0m\n\u001b[0m\u001b[1;32m     68\u001b[0m \u001b[0;34m\u001b[0m\u001b[0m\n\u001b[1;32m     69\u001b[0m \u001b[0;34m\u001b[0m\u001b[0m\n",
      "\u001b[0;32m/Users/michaelhi/anaconda/envs/twitter-giphy/lib/python2.7/site-packages/requests/api.pyc\u001b[0m in \u001b[0;36mrequest\u001b[0;34m(method, url, **kwargs)\u001b[0m\n\u001b[1;32m     51\u001b[0m     \u001b[0;31m# cases, and look like a memory leak in others.\u001b[0m\u001b[0;34m\u001b[0m\u001b[0;34m\u001b[0m\u001b[0m\n\u001b[1;32m     52\u001b[0m     \u001b[0;32mwith\u001b[0m \u001b[0msessions\u001b[0m\u001b[0;34m.\u001b[0m\u001b[0mSession\u001b[0m\u001b[0;34m(\u001b[0m\u001b[0;34m)\u001b[0m \u001b[0;32mas\u001b[0m \u001b[0msession\u001b[0m\u001b[0;34m:\u001b[0m\u001b[0;34m\u001b[0m\u001b[0m\n\u001b[0;32m---> 53\u001b[0;31m         \u001b[0;32mreturn\u001b[0m \u001b[0msession\u001b[0m\u001b[0;34m.\u001b[0m\u001b[0mrequest\u001b[0m\u001b[0;34m(\u001b[0m\u001b[0mmethod\u001b[0m\u001b[0;34m=\u001b[0m\u001b[0mmethod\u001b[0m\u001b[0;34m,\u001b[0m \u001b[0murl\u001b[0m\u001b[0;34m=\u001b[0m\u001b[0murl\u001b[0m\u001b[0;34m,\u001b[0m \u001b[0;34m**\u001b[0m\u001b[0mkwargs\u001b[0m\u001b[0;34m)\u001b[0m\u001b[0;34m\u001b[0m\u001b[0m\n\u001b[0m\u001b[1;32m     54\u001b[0m \u001b[0;34m\u001b[0m\u001b[0m\n\u001b[1;32m     55\u001b[0m \u001b[0;34m\u001b[0m\u001b[0m\n",
      "\u001b[0;32m/Users/michaelhi/anaconda/envs/twitter-giphy/lib/python2.7/site-packages/requests/sessions.pyc\u001b[0m in \u001b[0;36mrequest\u001b[0;34m(self, method, url, params, data, headers, cookies, files, auth, timeout, allow_redirects, proxies, hooks, stream, verify, cert, json)\u001b[0m\n\u001b[1;32m    466\u001b[0m         }\n\u001b[1;32m    467\u001b[0m         \u001b[0msend_kwargs\u001b[0m\u001b[0;34m.\u001b[0m\u001b[0mupdate\u001b[0m\u001b[0;34m(\u001b[0m\u001b[0msettings\u001b[0m\u001b[0;34m)\u001b[0m\u001b[0;34m\u001b[0m\u001b[0m\n\u001b[0;32m--> 468\u001b[0;31m         \u001b[0mresp\u001b[0m \u001b[0;34m=\u001b[0m \u001b[0mself\u001b[0m\u001b[0;34m.\u001b[0m\u001b[0msend\u001b[0m\u001b[0;34m(\u001b[0m\u001b[0mprep\u001b[0m\u001b[0;34m,\u001b[0m \u001b[0;34m**\u001b[0m\u001b[0msend_kwargs\u001b[0m\u001b[0;34m)\u001b[0m\u001b[0;34m\u001b[0m\u001b[0m\n\u001b[0m\u001b[1;32m    469\u001b[0m \u001b[0;34m\u001b[0m\u001b[0m\n\u001b[1;32m    470\u001b[0m         \u001b[0;32mreturn\u001b[0m \u001b[0mresp\u001b[0m\u001b[0;34m\u001b[0m\u001b[0m\n",
      "\u001b[0;32m/Users/michaelhi/anaconda/envs/twitter-giphy/lib/python2.7/site-packages/requests/sessions.pyc\u001b[0m in \u001b[0;36msend\u001b[0;34m(self, request, **kwargs)\u001b[0m\n\u001b[1;32m    574\u001b[0m \u001b[0;34m\u001b[0m\u001b[0m\n\u001b[1;32m    575\u001b[0m         \u001b[0;31m# Send the request\u001b[0m\u001b[0;34m\u001b[0m\u001b[0;34m\u001b[0m\u001b[0m\n\u001b[0;32m--> 576\u001b[0;31m         \u001b[0mr\u001b[0m \u001b[0;34m=\u001b[0m \u001b[0madapter\u001b[0m\u001b[0;34m.\u001b[0m\u001b[0msend\u001b[0m\u001b[0;34m(\u001b[0m\u001b[0mrequest\u001b[0m\u001b[0;34m,\u001b[0m \u001b[0;34m**\u001b[0m\u001b[0mkwargs\u001b[0m\u001b[0;34m)\u001b[0m\u001b[0;34m\u001b[0m\u001b[0m\n\u001b[0m\u001b[1;32m    577\u001b[0m \u001b[0;34m\u001b[0m\u001b[0m\n\u001b[1;32m    578\u001b[0m         \u001b[0;31m# Total elapsed time of the request (approximately)\u001b[0m\u001b[0;34m\u001b[0m\u001b[0;34m\u001b[0m\u001b[0m\n",
      "\u001b[0;32m/Users/michaelhi/anaconda/envs/twitter-giphy/lib/python2.7/site-packages/requests/adapters.pyc\u001b[0m in \u001b[0;36msend\u001b[0;34m(self, request, stream, timeout, verify, cert, proxies)\u001b[0m\n\u001b[1;32m    424\u001b[0m \u001b[0;34m\u001b[0m\u001b[0m\n\u001b[1;32m    425\u001b[0m         \u001b[0;32mexcept\u001b[0m \u001b[0;34m(\u001b[0m\u001b[0mProtocolError\u001b[0m\u001b[0;34m,\u001b[0m \u001b[0msocket\u001b[0m\u001b[0;34m.\u001b[0m\u001b[0merror\u001b[0m\u001b[0;34m)\u001b[0m \u001b[0;32mas\u001b[0m \u001b[0merr\u001b[0m\u001b[0;34m:\u001b[0m\u001b[0;34m\u001b[0m\u001b[0m\n\u001b[0;32m--> 426\u001b[0;31m             \u001b[0;32mraise\u001b[0m \u001b[0mConnectionError\u001b[0m\u001b[0;34m(\u001b[0m\u001b[0merr\u001b[0m\u001b[0;34m,\u001b[0m \u001b[0mrequest\u001b[0m\u001b[0;34m=\u001b[0m\u001b[0mrequest\u001b[0m\u001b[0;34m)\u001b[0m\u001b[0;34m\u001b[0m\u001b[0m\n\u001b[0m\u001b[1;32m    427\u001b[0m \u001b[0;34m\u001b[0m\u001b[0m\n\u001b[1;32m    428\u001b[0m         \u001b[0;32mexcept\u001b[0m \u001b[0mMaxRetryError\u001b[0m \u001b[0;32mas\u001b[0m \u001b[0me\u001b[0m\u001b[0;34m:\u001b[0m\u001b[0;34m\u001b[0m\u001b[0m\n",
      "\u001b[0;31mConnectionError\u001b[0m: ('Connection aborted.', BadStatusLine(\"''\",))"
     ]
    }
   ],
   "source": [
    "for resp in responses:\n",
    "    if resp[\"data\"]:\n",
    "        url = resp[\"data\"][0][\"images\"][\"downsized_large\"][\"url\"]\n",
    "        res = requests.get(url, stream=True)\n",
    "        with open(\"gifs_full/\"+resp[\"trend\"]+'.gif', 'wb') as out_file:\n",
    "            shutil.copyfileobj(res.raw, out_file)\n",
    "        del res"
   ]
  },
  {
   "cell_type": "code",
   "execution_count": 88,
   "metadata": {
    "collapsed": false
   },
   "outputs": [],
   "source": [
    "dude = pd.Series([\"NY\",\"NM\",\"XX\",\"CA\",\"CA\",\"AZ\",\"PA\",\"CA\",\"AZ\",\"CO\",\n",
    "                  \"CA\",\"DC\",\"VA\",\"CA\",\"IL\",\"MA\",\"GA\",\"TX\",\"TX\",\"FL\",\n",
    "                  \"CO\",\"OH\",\"WA\",\"FL\",\"AZ\",\"MN\",\"CA\",\"MI\",\"NV\",\"MO\",\n",
    "                  \"CT\",\"NC\",\"IN\",\"UT\",\"TX\",\"NC\",\"FL\",\"KY\",\"OR\",\"LA\",\n",
    "                  \"OH\",\"PA\",\"MD\",\"TX\",\"NE\",\"OK\",\"MS\",\"TX\",\"WI\",\"TN\",\n",
    "                  \"OH\",\"RI\",\"FL\",\"VA\",\"MO\",\"VA\",\"PA\",\"CA\",\"AL\",\"TN\",\n",
    "                  \"HI\",\"NC\",\"FL\",\"LA\"])"
   ]
  },
  {
   "cell_type": "code",
   "execution_count": 471,
   "metadata": {
    "collapsed": false
   },
   "outputs": [
    {
     "data": {
      "text/html": [
       "<div>\n",
       "<table border=\"1\" class=\"dataframe\">\n",
       "  <thead>\n",
       "    <tr style=\"text-align: right;\">\n",
       "      <th></th>\n",
       "      <th></th>\n",
       "      <th></th>\n",
       "      <th>placeID</th>\n",
       "      <th>placeName</th>\n",
       "      <th>searchUrl</th>\n",
       "      <th>trendMapped</th>\n",
       "      <th>trendVolume</th>\n",
       "    </tr>\n",
       "    <tr>\n",
       "      <th>trendDate</th>\n",
       "      <th>stateName</th>\n",
       "      <th>trendName</th>\n",
       "      <th></th>\n",
       "      <th></th>\n",
       "      <th></th>\n",
       "      <th></th>\n",
       "      <th></th>\n",
       "    </tr>\n",
       "  </thead>\n",
       "  <tbody>\n",
       "    <tr>\n",
       "      <th rowspan=\"5\" valign=\"top\">2016-03-03</th>\n",
       "      <th>AL</th>\n",
       "      <th>Romney</th>\n",
       "      <td>2364559</td>\n",
       "      <td>Birmingham</td>\n",
       "      <td>http://twitter.com/search?q=Romney</td>\n",
       "      <td>romney</td>\n",
       "      <td>639465</td>\n",
       "    </tr>\n",
       "    <tr>\n",
       "      <th rowspan=\"3\" valign=\"top\">AZ</th>\n",
       "      <th>#GIFparty</th>\n",
       "      <td>2471390</td>\n",
       "      <td>Phoenix</td>\n",
       "      <td>http://twitter.com/search?q=%23GIFparty</td>\n",
       "      <td>gi+fparty</td>\n",
       "      <td>390881</td>\n",
       "    </tr>\n",
       "    <tr>\n",
       "      <th>#WorldBookDay</th>\n",
       "      <td>2508428</td>\n",
       "      <td>Tucson</td>\n",
       "      <td>http://twitter.com/search?q=%23WorldBookDay</td>\n",
       "      <td>world+book+day</td>\n",
       "      <td>297777</td>\n",
       "    </tr>\n",
       "    <tr>\n",
       "      <th>Romney</th>\n",
       "      <td>2449808</td>\n",
       "      <td>Mesa</td>\n",
       "      <td>http://twitter.com/search?q=Romney</td>\n",
       "      <td>romney</td>\n",
       "      <td>526206</td>\n",
       "    </tr>\n",
       "    <tr>\n",
       "      <th>CA</th>\n",
       "      <th>#GIFparty</th>\n",
       "      <td>2441472</td>\n",
       "      <td>Long Beach</td>\n",
       "      <td>http://twitter.com/search?q=%23GIFparty</td>\n",
       "      <td>gi+fparty</td>\n",
       "      <td>390881</td>\n",
       "    </tr>\n",
       "  </tbody>\n",
       "</table>\n",
       "</div>"
      ],
      "text/plain": [
       "                                    placeID   placeName  \\\n",
       "trendDate  stateName trendName                            \n",
       "2016-03-03 AL        Romney         2364559  Birmingham   \n",
       "           AZ        #GIFparty      2471390     Phoenix   \n",
       "                     #WorldBookDay  2508428      Tucson   \n",
       "                     Romney         2449808        Mesa   \n",
       "           CA        #GIFparty      2441472  Long Beach   \n",
       "\n",
       "                                                                      searchUrl  \\\n",
       "trendDate  stateName trendName                                                    \n",
       "2016-03-03 AL        Romney                  http://twitter.com/search?q=Romney   \n",
       "           AZ        #GIFparty          http://twitter.com/search?q=%23GIFparty   \n",
       "                     #WorldBookDay  http://twitter.com/search?q=%23WorldBookDay   \n",
       "                     Romney                  http://twitter.com/search?q=Romney   \n",
       "           CA        #GIFparty          http://twitter.com/search?q=%23GIFparty   \n",
       "\n",
       "                                       trendMapped  trendVolume  \n",
       "trendDate  stateName trendName                                   \n",
       "2016-03-03 AL        Romney                 romney       639465  \n",
       "           AZ        #GIFparty           gi+fparty       390881  \n",
       "                     #WorldBookDay  world+book+day       297777  \n",
       "                     Romney                 romney       526206  \n",
       "           CA        #GIFparty           gi+fparty       390881  "
      ]
     },
     "execution_count": 471,
     "metadata": {},
     "output_type": "execute_result"
    }
   ],
   "source": [
    "trends_agg2.head()"
   ]
  },
  {
   "cell_type": "code",
   "execution_count": 472,
   "metadata": {
    "collapsed": false
   },
   "outputs": [],
   "source": [
    "idx = trends_agg2.groupby(level=[0,1])[\"trendVolume\"].transform(max) == trends_agg2[\"trendVolume\"]"
   ]
  },
  {
   "cell_type": "code",
   "execution_count": 473,
   "metadata": {
    "collapsed": false
   },
   "outputs": [],
   "source": [
    "tops = trends_agg2[idx]"
   ]
  },
  {
   "cell_type": "code",
   "execution_count": 161,
   "metadata": {
    "collapsed": true
   },
   "outputs": [
    {
     "data": {
      "text/plain": [
       "'[{\"placeName\":\"Albuquerque\",\"trendDate\":\"2016-03-08\",\"trendName\":\"#DemTownHall\",\"placeID\":\"2352824\",\"searchUrl\":\"http:\\\\/\\\\/twitter.com\\\\/search?q=%23DemTownHall\",\"trendMapped\":\"dem town hall\",\"trendVolume\":77495},{\"placeName\":\"Albuquerque\",\"trendDate\":\"2016-03-08\",\"trendName\":\"#InternationalWomensDay\",\"placeID\":\"2352824\",\"searchUrl\":\"http:\\\\/\\\\/twitter.com\\\\/search?q=%23InternationalWomensDay\",\"trendMapped\":\"international womens day\",\"trendVolume\":1741308},{\"placeName\":\"Albuquerque\",\"trendDate\":\"2016-03-08\",\"trendName\":\"#TheBachelor\",\"placeID\":\"2352824\",\"searchUrl\":\"http:\\\\/\\\\/twitter.com\\\\/search?q=%23TheBachelor\",\"trendMapped\":\"the bachelor\",\"trendVolume\":69112},{\"placeName\":\"Albuquerque\",\"trendDate\":\"2016-03-08\",\"trendName\":\"APOYO MB\",\"placeID\":\"2352824\",\"searchUrl\":\"http:\\\\/\\\\/twitter.com\\\\/search?q=%22APOYO+MB%22\",\"trendMapped\":\"APOYO MB\",\"trendVolume\":135792},{\"placeName\":\"Albuquerque\",\"trendDate\":\"2016-03-08\",\"trendName\":\"Roma\",\"placeID\":\"2352824\",\"searchUrl\":\"http:\\\\/\\\\/twitter.com\\\\/search?q=Roma\",\"trendMapped\":\"roma\",\"trendVolume\":299064},{\"placeName\":\"Atlanta\",\"trendDate\":\"2016-03-08\",\"trendName\":\"#3DaysTilDangerousWoman\",\"placeID\":\"2357024\",\"searchUrl\":\"http:\\\\/\\\\/twitter.com\\\\/search?q=%233DaysTilDangerousWoman\",\"trendMapped\":\"3 days til dangerous woman\",\"trendVolume\":129142},{\"placeName\":\"Atlanta\",\"trendDate\":\"2016-03-08\",\"trendName\":\"#DemTownHall\",\"placeID\":\"2357024\",\"searchUrl\":\"http:\\\\/\\\\/twitter.com\\\\/search?q=%23DemTownHall\",\"trendMapped\":\"dem town hall\",\"trendVolume\":76781},{\"placeName\":\"Atlanta\",\"trendDate\":\"2016-03-08\",\"trendName\":\"#InternationalWomensDay\",\"placeID\":\"2357024\",\"searchUrl\":\"http:\\\\/\\\\/twitter.com\\\\/search?q=%23InternationalWomensDay\",\"trendMapped\":\"international womens day\",\"trendVolume\":1910609},{\"placeName\":\"Atlanta\",\"trendDate\":\"2016-03-08\",\"trendName\":\"Maria Sharapova\",\"placeID\":\"2357024\",\"searchUrl\":\"http:\\\\/\\\\/twitter.com\\\\/search?q=%22Maria+Sharapova%22\",\"trendMapped\":\"Maria Sharapova\",\"trendVolume\":121685},{\"placeName\":\"Atlanta\",\"trendDate\":\"2016-03-08\",\"trendName\":\"Roma\",\"placeID\":\"2357024\",\"searchUrl\":\"http:\\\\/\\\\/twitter.com\\\\/search?q=Roma\",\"trendMapped\":\"roma\",\"trendVolume\":297390},{\"placeName\":\"Austin\",\"trendDate\":\"2016-03-08\",\"trendName\":\"#DemDebate\",\"placeID\":\"2357536\",\"searchUrl\":\"http:\\\\/\\\\/twitter.com\\\\/search?q=%23DemDebate\",\"trendMapped\":\"dem debate\",\"trendVolume\":694356},{\"placeName\":\"Austin\",\"trendDate\":\"2016-03-08\",\"trendName\":\"#IWD2016\",\"placeID\":\"2357536\",\"searchUrl\":\"http:\\\\/\\\\/twitter.com\\\\/search?q=%23IWD2016\",\"trendMapped\":\"iwd2016\",\"trendVolume\":916285},{\"placeName\":\"Austin\",\"trendDate\":\"2016-03-08\",\"trendName\":\"#InternationalWomensDay\",\"placeID\":\"2357536\",\"searchUrl\":\"http:\\\\/\\\\/twitter.com\\\\/search?q=%23InternationalWomensDay\",\"trendMapped\":\"international womens day\",\"trendVolume\":1741308},{\"placeName\":\"Austin\",\"trendDate\":\"2016-03-08\",\"trendName\":\"Peyton Manning\",\"placeID\":\"2357536\",\"searchUrl\":\"http:\\\\/\\\\/twitter.com\\\\/search?q=%22Peyton+Manning%22\",\"trendMapped\":\"Peyton Manning\",\"trendVolume\":265213},{\"placeName\":\"Baltimore\",\"trendDate\":\"2016-03-08\",\"trendName\":\"#DemDebate\",\"placeID\":\"2358820\",\"searchUrl\":\"http:\\\\/\\\\/twitter.com\\\\/search?q=%23DemDebate\",\"trendMapped\":\"dem debate\",\"trendVolume\":829626},{\"placeName\":\"Baltimore\",\"trendDate\":\"2016-03-08\",\"trendName\":\"#IWD2016\",\"placeID\":\"2358820\",\"searchUrl\":\"http:\\\\/\\\\/twitter.com\\\\/search?q=%23IWD2016\",\"trendMapped\":\"iwd2016\",\"trendVolume\":862652},{\"placeName\":\"Baltimore\",\"trendDate\":\"2016-03-08\",\"trendName\":\"#InternationalWomensDay\",\"placeID\":\"2358820\",\"searchUrl\":\"http:\\\\/\\\\/twitter.com\\\\/search?q=%23InternationalWomensDay\",\"trendMapped\":\"international womens day\",\"trendVolume\":815160},{\"placeName\":\"Baltimore\",\"trendDate\":\"2016-03-08\",\"trendName\":\"Peyton Manning\",\"placeID\":\"2358820\",\"searchUrl\":\"http:\\\\/\\\\/twitter.com\\\\/search?q=%22Peyton+Manning%22\",\"trendMapped\":\"Peyton Manning\",\"trendVolume\":263997},{\"placeName\":\"Baton Rouge\",\"trendDate\":\"2016-03-08\",\"trendName\":\"#DemDebate\",\"placeID\":\"2359991\",\"searchUrl\":\"http:\\\\/\\\\/twitter.com\\\\/search?q=%23DemDebate\",\"trendMapped\":\"dem debate\",\"trendVolume\":611248},{\"placeName\":\"Baton Rouge\",\"trendDate\":\"2016-03-08\",\"trendName\":\"#DolceAmoreFirsts\",\"placeID\":\"2359991\",\"searchUrl\":\"http:\\\\/\\\\/twitter.com\\\\/search?q=%23DolceAmoreFirsts\",\"trendMapped\":\"dolce amore firsts\",\"trendVolume\":320409},{\"placeName\":\"Baton Rouge\",\"trendDate\":\"2016-03-08\",\"trendName\":\"#IWD2016\",\"placeID\":\"2359991\",\"searchUrl\":\"http:\\\\/\\\\/twitter.com\\\\/search?q=%23IWD2016\",\"trendMapped\":\"iwd2016\",\"trendVolume\":707263},{\"placeName\":\"Baton Rouge\",\"trendDate\":\"2016-03-08\",\"trendName\":\"#InternationalWomensDay\",\"placeID\":\"2359991\",\"searchUrl\":\"http:\\\\/\\\\/twitter.com\\\\/search?q=%23InternationalWomensDay\",\"trendMapped\":\"international womens day\",\"trendVolume\":1859685},{\"placeName\":\"Baton Rouge\",\"trendDate\":\"2016-03-08\",\"trendName\":\"Peyton Manning\",\"placeID\":\"2359991\",\"searchUrl\":\"http:\\\\/\\\\/twitter.com\\\\/search?q=%22Peyton+Manning%22\",\"trendMapped\":\"Peyton Manning\",\"trendVolume\":265213},{\"placeName\":\"Birmingham\",\"trendDate\":\"2016-03-08\",\"trendName\":\"#DemDebate\",\"placeID\":\"2364559\",\"searchUrl\":\"http:\\\\/\\\\/twitter.com\\\\/search?q=%23DemDebate\",\"trendMapped\":\"dem debate\",\"trendVolume\":815992},{\"placeName\":\"Birmingham\",\"trendDate\":\"2016-03-08\",\"trendName\":\"#InternationalWomensDay\",\"placeID\":\"2364559\",\"searchUrl\":\"http:\\\\/\\\\/twitter.com\\\\/search?q=%23InternationalWomensDay\",\"trendMapped\":\"international womens day\",\"trendVolume\":1814383},{\"placeName\":\"Birmingham\",\"trendDate\":\"2016-03-08\",\"trendName\":\"Peyton Manning\",\"placeID\":\"2364559\",\"searchUrl\":\"http:\\\\/\\\\/twitter.com\\\\/search?q=%22Peyton+Manning%22\",\"trendMapped\":\"Peyton Manning\",\"trendVolume\":264753},{\"placeName\":\"Boston\",\"trendDate\":\"2016-03-08\",\"trendName\":\"#3DaysTilDangerousWoman\",\"placeID\":\"2367105\",\"searchUrl\":\"http:\\\\/\\\\/twitter.com\\\\/search?q=%233DaysTilDangerousWoman\",\"trendMapped\":\"3 days til dangerous woman\",\"trendVolume\":129142},{\"placeName\":\"Boston\",\"trendDate\":\"2016-03-08\",\"trendName\":\"#Harmonizers\",\"placeID\":\"2367105\",\"searchUrl\":\"http:\\\\/\\\\/twitter.com\\\\/search?q=%23Harmonizers\",\"trendMapped\":\"harmonizers\",\"trendVolume\":1010496},{\"placeName\":\"Boston\",\"trendDate\":\"2016-03-08\",\"trendName\":\"#InternationalWomensDay\",\"placeID\":\"2367105\",\"searchUrl\":\"http:\\\\/\\\\/twitter.com\\\\/search?q=%23InternationalWomensDay\",\"trendMapped\":\"international womens day\",\"trendVolume\":1842078},{\"placeName\":\"Boston\",\"trendDate\":\"2016-03-08\",\"trendName\":\"Maria Sharapova\",\"placeID\":\"2367105\",\"searchUrl\":\"http:\\\\/\\\\/twitter.com\\\\/search?q=%22Maria+Sharapova%22\",\"trendMapped\":\"Maria Sharapova\",\"trendVolume\":121685},{\"placeName\":\"Charlotte\",\"trendDate\":\"2016-03-08\",\"trendName\":\"#DemDebate\",\"placeID\":\"2378426\",\"searchUrl\":\"http:\\\\/\\\\/twitter.com\\\\/search?q=%23DemDebate\",\"trendMapped\":\"dem debate\",\"trendVolume\":611248},{\"placeName\":\"Charlotte\",\"trendDate\":\"2016-03-08\",\"trendName\":\"#InternationalWomensDay\",\"placeID\":\"2378426\",\"searchUrl\":\"http:\\\\/\\\\/twitter.com\\\\/search?q=%23InternationalWomensDay\",\"trendMapped\":\"international womens day\",\"trendVolume\":1272255},{\"placeName\":\"Charlotte\",\"trendDate\":\"2016-03-08\",\"trendName\":\"Peyton Manning\",\"placeID\":\"2378426\",\"searchUrl\":\"http:\\\\/\\\\/twitter.com\\\\/search?q=%22Peyton+Manning%22\",\"trendMapped\":\"Peyton Manning\",\"trendVolume\":264982},{\"placeName\":\"Chicago\",\"trendDate\":\"2016-03-08\",\"trendName\":\"#InternationalWomensDay\",\"placeID\":\"2379574\",\"searchUrl\":\"http:\\\\/\\\\/twitter.com\\\\/search?q=%23InternationalWomensDay\",\"trendMapped\":\"international womens day\",\"trendVolume\":1910609},{\"placeName\":\"Chicago\",\"trendDate\":\"2016-03-08\",\"trendName\":\"#TheBachelor\",\"placeID\":\"2379574\",\"searchUrl\":\"http:\\\\/\\\\/twitter.com\\\\/search?q=%23TheBachelor\",\"trendMapped\":\"the bachelor\",\"trendVolume\":78761},{\"placeName\":\"Chicago\",\"trendDate\":\"2016-03-08\",\"trendName\":\"Eagles\",\"placeID\":\"2379574\",\"searchUrl\":\"http:\\\\/\\\\/twitter.com\\\\/search?q=Eagles\",\"trendMapped\":\"eagles\",\"trendVolume\":118746},{\"placeName\":\"Chicago\",\"trendDate\":\"2016-03-08\",\"trendName\":\"Maria Sharapova\",\"placeID\":\"2379574\",\"searchUrl\":\"http:\\\\/\\\\/twitter.com\\\\/search?q=%22Maria+Sharapova%22\",\"trendMapped\":\"Maria Sharapova\",\"trendVolume\":122916},{\"placeName\":\"Cincinnati\",\"trendDate\":\"2016-03-08\",\"trendName\":\"#DemDebate\",\"placeID\":\"2380358\",\"searchUrl\":\"http:\\\\/\\\\/twitter.com\\\\/search?q=%23DemDebate\",\"trendMapped\":\"dem debate\",\"trendVolume\":348482},{\"placeName\":\"Cincinnati\",\"trendDate\":\"2016-03-08\",\"trendName\":\"#IWD2016\",\"placeID\":\"2380358\",\"searchUrl\":\"http:\\\\/\\\\/twitter.com\\\\/search?q=%23IWD2016\",\"trendMapped\":\"iwd2016\",\"trendVolume\":919772},{\"placeName\":\"Cincinnati\",\"trendDate\":\"2016-03-08\",\"trendName\":\"#InternationalWomensDay\",\"placeID\":\"2380358\",\"searchUrl\":\"http:\\\\/\\\\/twitter.com\\\\/search?q=%23InternationalWomensDay\",\"trendMapped\":\"international womens day\",\"trendVolume\":1721641},{\"placeName\":\"Cincinnati\",\"trendDate\":\"2016-03-08\",\"trendName\":\"Peyton Manning\",\"placeID\":\"2380358\",\"searchUrl\":\"http:\\\\/\\\\/twitter.com\\\\/search?q=%22Peyton+Manning%22\",\"trendMapped\":\"Peyton Manning\",\"trendVolume\":264665},{\"placeName\":\"Cleveland\",\"trendDate\":\"2016-03-08\",\"trendName\":\"#DemDebate\",\"placeID\":\"2381475\",\"searchUrl\":\"http:\\\\/\\\\/twitter.com\\\\/search?q=%23DemDebate\",\"trendMapped\":\"dem debate\",\"trendVolume\":815104},{\"placeName\":\"Cleveland\",\"trendDate\":\"2016-03-08\",\"trendName\":\"#InternationalWomensDay\",\"placeID\":\"2381475\",\"searchUrl\":\"http:\\\\/\\\\/twitter.com\\\\/search?q=%23InternationalWomensDay\",\"trendMapped\":\"international womens day\",\"trendVolume\":1779929},{\"placeName\":\"Cleveland\",\"trendDate\":\"2016-03-08\",\"trendName\":\"Eagles\",\"placeID\":\"2381475\",\"searchUrl\":\"http:\\\\/\\\\/twitter.com\\\\/search?q=Eagles\",\"trendMapped\":\"eagles\",\"trendVolume\":117828},{\"placeName\":\"Cleveland\",\"trendDate\":\"2016-03-08\",\"trendName\":\"Maria Sharapova\",\"placeID\":\"2381475\",\"searchUrl\":\"http:\\\\/\\\\/twitter.com\\\\/search?q=%22Maria+Sharapova%22\",\"trendMapped\":\"Maria Sharapova\",\"trendVolume\":119502},{\"placeName\":\"Colorado Springs\",\"trendDate\":\"2016-03-08\",\"trendName\":\"#DemTownHall\",\"placeID\":\"2383489\",\"searchUrl\":\"http:\\\\/\\\\/twitter.com\\\\/search?q=%23DemTownHall\",\"trendMapped\":\"dem town hall\",\"trendVolume\":77848},{\"placeName\":\"Colorado Springs\",\"trendDate\":\"2016-03-08\",\"trendName\":\"#InternationalWomensDay\",\"placeID\":\"2383489\",\"searchUrl\":\"http:\\\\/\\\\/twitter.com\\\\/search?q=%23InternationalWomensDay\",\"trendMapped\":\"international womens day\",\"trendVolume\":1880702},{\"placeName\":\"Colorado Springs\",\"trendDate\":\"2016-03-08\",\"trendName\":\"Maria Sharapova\",\"placeID\":\"2383489\",\"searchUrl\":\"http:\\\\/\\\\/twitter.com\\\\/search?q=%22Maria+Sharapova%22\",\"trendMapped\":\"Maria Sharapova\",\"trendVolume\":122916},{\"placeName\":\"Columbus\",\"trendDate\":\"2016-03-08\",\"trendName\":\"#DemDebate\",\"placeID\":\"2383660\",\"searchUrl\":\"http:\\\\/\\\\/twitter.com\\\\/search?q=%23DemDebate\",\"trendMapped\":\"dem debate\",\"trendVolume\":611248},{\"placeName\":\"Columbus\",\"trendDate\":\"2016-03-08\",\"trendName\":\"#InternationalWomensDay\",\"placeID\":\"2383660\",\"searchUrl\":\"http:\\\\/\\\\/twitter.com\\\\/search?q=%23InternationalWomensDay\",\"trendMapped\":\"international womens day\",\"trendVolume\":1509884},{\"placeName\":\"Dallas-Ft. Worth\",\"trendDate\":\"2016-03-08\",\"trendName\":\"#DemTownHall\",\"placeID\":\"2388929\",\"searchUrl\":\"http:\\\\/\\\\/twitter.com\\\\/search?q=%23DemTownHall\",\"trendMapped\":\"dem town hall\",\"trendVolume\":78023},{\"placeName\":\"Dallas-Ft. Worth\",\"trendDate\":\"2016-03-08\",\"trendName\":\"#IWD2016\",\"placeID\":\"2388929\",\"searchUrl\":\"http:\\\\/\\\\/twitter.com\\\\/search?q=%23IWD2016\",\"trendMapped\":\"iwd2016\",\"trendVolume\":932269},{\"placeName\":\"Dallas-Ft. Worth\",\"trendDate\":\"2016-03-08\",\"trendName\":\"#InternationalWomensDay\",\"placeID\":\"2388929\",\"searchUrl\":\"http:\\\\/\\\\/twitter.com\\\\/search?q=%23InternationalWomensDay\",\"trendMapped\":\"international womens day\",\"trendVolume\":1535548},{\"placeName\":\"Denver\",\"trendDate\":\"2016-03-08\",\"trendName\":\"#InternationalWomensDay\",\"placeID\":\"2391279\",\"searchUrl\":\"http:\\\\/\\\\/twitter.com\\\\/search?q=%23InternationalWomensDay\",\"trendMapped\":\"international womens day\",\"trendVolume\":1711627},{\"placeName\":\"Denver\",\"trendDate\":\"2016-03-08\",\"trendName\":\"Peyton Manning\",\"placeID\":\"2391279\",\"searchUrl\":\"http:\\\\/\\\\/twitter.com\\\\/search?q=%22Peyton+Manning%22\",\"trendMapped\":\"Peyton Manning\",\"trendVolume\":265168},{\"placeName\":\"Detroit\",\"trendDate\":\"2016-03-08\",\"trendName\":\"#InternationalWomensDay\",\"placeID\":\"2391585\",\"searchUrl\":\"http:\\\\/\\\\/twitter.com\\\\/search?q=%23InternationalWomensDay\",\"trendMapped\":\"international womens day\",\"trendVolume\":1946436},{\"placeName\":\"Detroit\",\"trendDate\":\"2016-03-08\",\"trendName\":\"Maria Sharapova\",\"placeID\":\"2391585\",\"searchUrl\":\"http:\\\\/\\\\/twitter.com\\\\/search?q=%22Maria+Sharapova%22\",\"trendMapped\":\"Maria Sharapova\",\"trendVolume\":122916},{\"placeName\":\"El Paso\",\"trendDate\":\"2016-03-08\",\"trendName\":\"#InternationalWomensDay\",\"placeID\":\"2397816\",\"searchUrl\":\"http:\\\\/\\\\/twitter.com\\\\/search?q=%23InternationalWomensDay\",\"trendMapped\":\"international womens day\",\"trendVolume\":1937749},{\"placeName\":\"El Paso\",\"trendDate\":\"2016-03-08\",\"trendName\":\"APOYO MB\",\"placeID\":\"2397816\",\"searchUrl\":\"http:\\\\/\\\\/twitter.com\\\\/search?q=%22APOYO+MB%22\",\"trendMapped\":\"APOYO MB\",\"trendVolume\":415628},{\"placeName\":\"El Paso\",\"trendDate\":\"2016-03-08\",\"trendName\":\"Bernie\",\"placeID\":\"2397816\",\"searchUrl\":\"http:\\\\/\\\\/twitter.com\\\\/search?q=Bernie\",\"trendMapped\":\"bernie\",\"trendVolume\":581303},{\"placeName\":\"El Paso\",\"trendDate\":\"2016-03-08\",\"trendName\":\"Peyton Manning\",\"placeID\":\"2397816\",\"searchUrl\":\"http:\\\\/\\\\/twitter.com\\\\/search?q=%22Peyton+Manning%22\",\"trendMapped\":\"Peyton Manning\",\"trendVolume\":263997},{\"placeName\":\"El Paso\",\"trendDate\":\"2016-03-08\",\"trendName\":\"VAMOS MB\",\"placeID\":\"2397816\",\"searchUrl\":\"http:\\\\/\\\\/twitter.com\\\\/search?q=%22VAMOS+MB%22\",\"trendMapped\":\"VAMOS MB\",\"trendVolume\":304546},{\"placeName\":\"Fresno\",\"trendDate\":\"2016-03-08\",\"trendName\":\"#3DaysTilDangerousWoman\",\"placeID\":\"2407517\",\"searchUrl\":\"http:\\\\/\\\\/twitter.com\\\\/search?q=%233DaysTilDangerousWoman\",\"trendMapped\":\"3 days til dangerous woman\",\"trendVolume\":128474},{\"placeName\":\"Fresno\",\"trendDate\":\"2016-03-08\",\"trendName\":\"#DemTownHall\",\"placeID\":\"2407517\",\"searchUrl\":\"http:\\\\/\\\\/twitter.com\\\\/search?q=%23DemTownHall\",\"trendMapped\":\"dem town hall\",\"trendVolume\":78533},{\"placeName\":\"Fresno\",\"trendDate\":\"2016-03-08\",\"trendName\":\"#InternationalWomensDay\",\"placeID\":\"2407517\",\"searchUrl\":\"http:\\\\/\\\\/twitter.com\\\\/search?q=%23InternationalWomensDay\",\"trendMapped\":\"international womens day\",\"trendVolume\":1567242},{\"placeName\":\"Fresno\",\"trendDate\":\"2016-03-08\",\"trendName\":\"Eagles\",\"placeID\":\"2407517\",\"searchUrl\":\"http:\\\\/\\\\/twitter.com\\\\/search?q=Eagles\",\"trendMapped\":\"eagles\",\"trendVolume\":118746},{\"placeName\":\"Fresno\",\"trendDate\":\"2016-03-08\",\"trendName\":\"Roma\",\"placeID\":\"2407517\",\"searchUrl\":\"http:\\\\/\\\\/twitter.com\\\\/search?q=Roma\",\"trendMapped\":\"roma\",\"trendVolume\":303336},{\"placeName\":\"Greensboro\",\"trendDate\":\"2016-03-08\",\"trendName\":\"#DemDebate\",\"placeID\":\"2414469\",\"searchUrl\":\"http:\\\\/\\\\/twitter.com\\\\/search?q=%23DemDebate\",\"trendMapped\":\"dem debate\",\"trendVolume\":816595},{\"placeName\":\"Greensboro\",\"trendDate\":\"2016-03-08\",\"trendName\":\"#IWD2016\",\"placeID\":\"2414469\",\"searchUrl\":\"http:\\\\/\\\\/twitter.com\\\\/search?q=%23IWD2016\",\"trendMapped\":\"iwd2016\",\"trendVolume\":932269},{\"placeName\":\"Greensboro\",\"trendDate\":\"2016-03-08\",\"trendName\":\"#InternationalWomensDay\",\"placeID\":\"2414469\",\"searchUrl\":\"http:\\\\/\\\\/twitter.com\\\\/search?q=%23InternationalWomensDay\",\"trendMapped\":\"international womens day\",\"trendVolume\":1721641},{\"placeName\":\"Greensboro\",\"trendDate\":\"2016-03-08\",\"trendName\":\"Kanye\",\"placeID\":\"2414469\",\"searchUrl\":\"http:\\\\/\\\\/twitter.com\\\\/search?q=Kanye\",\"trendMapped\":\"kanye\",\"trendVolume\":178781},{\"placeName\":\"Greensboro\",\"trendDate\":\"2016-03-08\",\"trendName\":\"Kim K\",\"placeID\":\"2414469\",\"searchUrl\":\"http:\\\\/\\\\/twitter.com\\\\/search?q=%22Kim+K%22\",\"trendMapped\":\"Kim K\",\"trendVolume\":106863},{\"placeName\":\"Harrisburg\",\"trendDate\":\"2016-03-08\",\"trendName\":\"#DemDebate\",\"placeID\":\"2418046\",\"searchUrl\":\"http:\\\\/\\\\/twitter.com\\\\/search?q=%23DemDebate\",\"trendMapped\":\"dem debate\",\"trendVolume\":816595},{\"placeName\":\"Harrisburg\",\"trendDate\":\"2016-03-08\",\"trendName\":\"#DolceAmoreFirsts\",\"placeID\":\"2418046\",\"searchUrl\":\"http:\\\\/\\\\/twitter.com\\\\/search?q=%23DolceAmoreFirsts\",\"trendMapped\":\"dolce amore firsts\",\"trendVolume\":357101},{\"placeName\":\"Harrisburg\",\"trendDate\":\"2016-03-08\",\"trendName\":\"#InternationalWomensDay\",\"placeID\":\"2418046\",\"searchUrl\":\"http:\\\\/\\\\/twitter.com\\\\/search?q=%23InternationalWomensDay\",\"trendMapped\":\"international womens day\",\"trendVolume\":1842078},{\"placeName\":\"Harrisburg\",\"trendDate\":\"2016-03-08\",\"trendName\":\"Peyton Manning\",\"placeID\":\"2418046\",\"searchUrl\":\"http:\\\\/\\\\/twitter.com\\\\/search?q=%22Peyton+Manning%22\",\"trendMapped\":\"Peyton Manning\",\"trendVolume\":264486},{\"placeName\":\"Honolulu\",\"trendDate\":\"2016-03-08\",\"trendName\":\"#DemDebate\",\"placeID\":\"2423945\",\"searchUrl\":\"http:\\\\/\\\\/twitter.com\\\\/search?q=%23DemDebate\",\"trendMapped\":\"dem debate\",\"trendVolume\":612091},{\"placeName\":\"Honolulu\",\"trendDate\":\"2016-03-08\",\"trendName\":\"#InternationalWomensDay\",\"placeID\":\"2423945\",\"searchUrl\":\"http:\\\\/\\\\/twitter.com\\\\/search?q=%23InternationalWomensDay\",\"trendMapped\":\"international womens day\",\"trendVolume\":1946436},{\"placeName\":\"Honolulu\",\"trendDate\":\"2016-03-08\",\"trendName\":\"#VoteDragMeDownUK\",\"placeID\":\"2423945\",\"searchUrl\":\"http:\\\\/\\\\/twitter.com\\\\/search?q=%23VoteDragMeDownUK\",\"trendMapped\":\"vote drag me down uk\",\"trendVolume\":399728},{\"placeName\":\"Honolulu\",\"trendDate\":\"2016-03-08\",\"trendName\":\"#VoteEnriqueFPP\",\"placeID\":\"2423945\",\"searchUrl\":\"http:\\\\/\\\\/twitter.com\\\\/search?q=%23VoteEnriqueFPP\",\"trendMapped\":\"vote enrique fpp\",\"trendVolume\":845723},{\"placeName\":\"Houston\",\"trendDate\":\"2016-03-08\",\"trendName\":\"#DemDebate\",\"placeID\":\"2424766\",\"searchUrl\":\"http:\\\\/\\\\/twitter.com\\\\/search?q=%23DemDebate\",\"trendMapped\":\"dem debate\",\"trendVolume\":813908},{\"placeName\":\"Houston\",\"trendDate\":\"2016-03-08\",\"trendName\":\"#DemTownHall\",\"placeID\":\"2424766\",\"searchUrl\":\"http:\\\\/\\\\/twitter.com\\\\/search?q=%23DemTownHall\",\"trendMapped\":\"dem town hall\",\"trendVolume\":71839},{\"placeName\":\"Houston\",\"trendDate\":\"2016-03-08\",\"trendName\":\"#InternationalWomensDay\",\"placeID\":\"2424766\",\"searchUrl\":\"http:\\\\/\\\\/twitter.com\\\\/search?q=%23InternationalWomensDay\",\"trendMapped\":\"international womens day\",\"trendVolume\":1752459},{\"placeName\":\"Houston\",\"trendDate\":\"2016-03-08\",\"trendName\":\"Maria Sharapova\",\"placeID\":\"2424766\",\"searchUrl\":\"http:\\\\/\\\\/twitter.com\\\\/search?q=%22Maria+Sharapova%22\",\"trendMapped\":\"Maria Sharapova\",\"trendVolume\":122034},{\"placeName\":\"Houston\",\"trendDate\":\"2016-03-08\",\"trendName\":\"Peyton Manning\",\"placeID\":\"2424766\",\"searchUrl\":\"http:\\\\/\\\\/twitter.com\\\\/search?q=%22Peyton+Manning%22\",\"trendMapped\":\"Peyton Manning\",\"trendVolume\":264982},{\"placeName\":\"Indianapolis\",\"trendDate\":\"2016-03-08\",\"trendName\":\"#DemDebate\",\"placeID\":\"2427032\",\"searchUrl\":\"http:\\\\/\\\\/twitter.com\\\\/search?q=%23DemDebate\",\"trendMapped\":\"dem debate\",\"trendVolume\":829262},{\"placeName\":\"Indianapolis\",\"trendDate\":\"2016-03-08\",\"trendName\":\"#IWD2016\",\"placeID\":\"2427032\",\"searchUrl\":\"http:\\\\/\\\\/twitter.com\\\\/search?q=%23IWD2016\",\"trendMapped\":\"iwd2016\",\"trendVolume\":867305},{\"placeName\":\"Indianapolis\",\"trendDate\":\"2016-03-08\",\"trendName\":\"#InternationalWomensDay\",\"placeID\":\"2427032\",\"searchUrl\":\"http:\\\\/\\\\/twitter.com\\\\/search?q=%23InternationalWomensDay\",\"trendMapped\":\"international womens day\",\"trendVolume\":1661095},{\"placeName\":\"Indianapolis\",\"trendDate\":\"2016-03-08\",\"trendName\":\"Peyton Manning\",\"placeID\":\"2427032\",\"searchUrl\":\"http:\\\\/\\\\/twitter.com\\\\/search?q=%22Peyton+Manning%22\",\"trendMapped\":\"Peyton Manning\",\"trendVolume\":264982},{\"placeName\":\"Jackson\",\"trendDate\":\"2016-03-08\",\"trendName\":\"#DemDebate\",\"placeID\":\"2428184\",\"searchUrl\":\"http:\\\\/\\\\/twitter.com\\\\/search?q=%23DemDebate\",\"trendMapped\":\"dem debate\",\"trendVolume\":814799},{\"placeName\":\"Jackson\",\"trendDate\":\"2016-03-08\",\"trendName\":\"#InternationalWomensDay\",\"placeID\":\"2428184\",\"searchUrl\":\"http:\\\\/\\\\/twitter.com\\\\/search?q=%23InternationalWomensDay\",\"trendMapped\":\"international womens day\",\"trendVolume\":1880702},{\"placeName\":\"Jackson\",\"trendDate\":\"2016-03-08\",\"trendName\":\"Donald Trump\",\"placeID\":\"2428184\",\"searchUrl\":\"http:\\\\/\\\\/twitter.com\\\\/search?q=%22Donald+Trump%22\",\"trendMapped\":\"Donald Trump\",\"trendVolume\":330013},{\"placeName\":\"Jacksonville\",\"trendDate\":\"2016-03-08\",\"trendName\":\"#DemDebate\",\"placeID\":\"2428344\",\"searchUrl\":\"http:\\\\/\\\\/twitter.com\\\\/search?q=%23DemDebate\",\"trendMapped\":\"dem debate\",\"trendVolume\":188995},{\"placeName\":\"Jacksonville\",\"trendDate\":\"2016-03-08\",\"trendName\":\"#InternationalWomensDay\",\"placeID\":\"2428344\",\"searchUrl\":\"http:\\\\/\\\\/twitter.com\\\\/search?q=%23InternationalWomensDay\",\"trendMapped\":\"international womens day\",\"trendVolume\":1946436},{\"placeName\":\"Kansas City\",\"trendDate\":\"2016-03-08\",\"trendName\":\"#DemDebate\",\"placeID\":\"2430683\",\"searchUrl\":\"http:\\\\/\\\\/twitter.com\\\\/search?q=%23DemDebate\",\"trendMapped\":\"dem debate\",\"trendVolume\":829262},{\"placeName\":\"Kansas City\",\"trendDate\":\"2016-03-08\",\"trendName\":\"#IWD2016\",\"placeID\":\"2430683\",\"searchUrl\":\"http:\\\\/\\\\/twitter.com\\\\/search?q=%23IWD2016\",\"trendMapped\":\"iwd2016\",\"trendVolume\":333461},{\"placeName\":\"Kansas City\",\"trendDate\":\"2016-03-08\",\"trendName\":\"#InternationalWomensDay\",\"placeID\":\"2430683\",\"searchUrl\":\"http:\\\\/\\\\/twitter.com\\\\/search?q=%23InternationalWomensDay\",\"trendMapped\":\"international womens day\",\"trendVolume\":1859685},{\"placeName\":\"Kansas City\",\"trendDate\":\"2016-03-08\",\"trendName\":\"Peyton Manning\",\"placeID\":\"2430683\",\"searchUrl\":\"http:\\\\/\\\\/twitter.com\\\\/search?q=%22Peyton+Manning%22\",\"trendMapped\":\"Peyton Manning\",\"trendVolume\":264486},{\"placeName\":\"Las Vegas\",\"trendDate\":\"2016-03-08\",\"trendName\":\"#InternationalWomensDay\",\"placeID\":\"2436704\",\"searchUrl\":\"http:\\\\/\\\\/twitter.com\\\\/search?q=%23InternationalWomensDay\",\"trendMapped\":\"international womens day\",\"trendVolume\":1814383},{\"placeName\":\"Las Vegas\",\"trendDate\":\"2016-03-08\",\"trendName\":\"Kanye\",\"placeID\":\"2436704\",\"searchUrl\":\"http:\\\\/\\\\/twitter.com\\\\/search?q=Kanye\",\"trendMapped\":\"kanye\",\"trendVolume\":181073},{\"placeName\":\"Las Vegas\",\"trendDate\":\"2016-03-08\",\"trendName\":\"Peyton Manning\",\"placeID\":\"2436704\",\"searchUrl\":\"http:\\\\/\\\\/twitter.com\\\\/search?q=%22Peyton+Manning%22\",\"trendMapped\":\"Peyton Manning\",\"trendVolume\":263616},{\"placeName\":\"Long Beach\",\"trendDate\":\"2016-03-08\",\"trendName\":\"#3DaysTilDangerousWoman\",\"placeID\":\"2441472\",\"searchUrl\":\"http:\\\\/\\\\/twitter.com\\\\/search?q=%233DaysTilDangerousWoman\",\"trendMapped\":\"3 days til dangerous woman\",\"trendVolume\":126761},{\"placeName\":\"Long Beach\",\"trendDate\":\"2016-03-08\",\"trendName\":\"#InternationalWomensDay\",\"placeID\":\"2441472\",\"searchUrl\":\"http:\\\\/\\\\/twitter.com\\\\/search?q=%23InternationalWomensDay\",\"trendMapped\":\"international womens day\",\"trendVolume\":1859685},{\"placeName\":\"Long Beach\",\"trendDate\":\"2016-03-08\",\"trendName\":\"Eagles\",\"placeID\":\"2441472\",\"searchUrl\":\"http:\\\\/\\\\/twitter.com\\\\/search?q=Eagles\",\"trendMapped\":\"eagles\",\"trendVolume\":120690},{\"placeName\":\"Long Beach\",\"trendDate\":\"2016-03-08\",\"trendName\":\"Maria Sharapova\",\"placeID\":\"2441472\",\"searchUrl\":\"http:\\\\/\\\\/twitter.com\\\\/search?q=%22Maria+Sharapova%22\",\"trendMapped\":\"Maria Sharapova\",\"trendVolume\":122916},{\"placeName\":\"Long Beach\",\"trendDate\":\"2016-03-08\",\"trendName\":\"Roma\",\"placeID\":\"2441472\",\"searchUrl\":\"http:\\\\/\\\\/twitter.com\\\\/search?q=Roma\",\"trendMapped\":\"roma\",\"trendVolume\":303336},{\"placeName\":\"Los Angeles\",\"trendDate\":\"2016-03-08\",\"trendName\":\"#3DaysTilDangerousWoman\",\"placeID\":\"2442047\",\"searchUrl\":\"http:\\\\/\\\\/twitter.com\\\\/search?q=%233DaysTilDangerousWoman\",\"trendMapped\":\"3 days til dangerous woman\",\"trendVolume\":125613},{\"placeName\":\"Los Angeles\",\"trendDate\":\"2016-03-08\",\"trendName\":\"#DemTownHall\",\"placeID\":\"2442047\",\"searchUrl\":\"http:\\\\/\\\\/twitter.com\\\\/search?q=%23DemTownHall\",\"trendMapped\":\"dem town hall\",\"trendVolume\":72127},{\"placeName\":\"Los Angeles\",\"trendDate\":\"2016-03-08\",\"trendName\":\"#InternationalWomensDay\",\"placeID\":\"2442047\",\"searchUrl\":\"http:\\\\/\\\\/twitter.com\\\\/search?q=%23InternationalWomensDay\",\"trendMapped\":\"international womens day\",\"trendVolume\":1188116},{\"placeName\":\"Los Angeles\",\"trendDate\":\"2016-03-08\",\"trendName\":\"Maria Sharapova\",\"placeID\":\"2442047\",\"searchUrl\":\"http:\\\\/\\\\/twitter.com\\\\/search?q=%22Maria+Sharapova%22\",\"trendMapped\":\"Maria Sharapova\",\"trendVolume\":116241},{\"placeName\":\"Louisville\",\"trendDate\":\"2016-03-08\",\"trendName\":\"#DemDebate\",\"placeID\":\"2442327\",\"searchUrl\":\"http:\\\\/\\\\/twitter.com\\\\/search?q=%23DemDebate\",\"trendMapped\":\"dem debate\",\"trendVolume\":609681},{\"placeName\":\"Louisville\",\"trendDate\":\"2016-03-08\",\"trendName\":\"#InternationalWomensDay\",\"placeID\":\"2442327\",\"searchUrl\":\"http:\\\\/\\\\/twitter.com\\\\/search?q=%23InternationalWomensDay\",\"trendMapped\":\"international womens day\",\"trendVolume\":1833275},{\"placeName\":\"Memphis\",\"trendDate\":\"2016-03-08\",\"trendName\":\"#InternationalWomensDay\",\"placeID\":\"2449323\",\"searchUrl\":\"http:\\\\/\\\\/twitter.com\\\\/search?q=%23InternationalWomensDay\",\"trendMapped\":\"international womens day\",\"trendVolume\":1599203},{\"placeName\":\"Memphis\",\"trendDate\":\"2016-03-08\",\"trendName\":\"Hillary\",\"placeID\":\"2449323\",\"searchUrl\":\"http:\\\\/\\\\/twitter.com\\\\/search?q=Hillary\",\"trendMapped\":\"hillary\",\"trendVolume\":499367},{\"placeName\":\"Memphis\",\"trendDate\":\"2016-03-08\",\"trendName\":\"Peyton\",\"placeID\":\"2449323\",\"searchUrl\":\"http:\\\\/\\\\/twitter.com\\\\/search?q=Peyton\",\"trendMapped\":\"peyton\",\"trendVolume\":378144},{\"placeName\":\"Memphis\",\"trendDate\":\"2016-03-08\",\"trendName\":\"Peyton Manning\",\"placeID\":\"2449323\",\"searchUrl\":\"http:\\\\/\\\\/twitter.com\\\\/search?q=%22Peyton+Manning%22\",\"trendMapped\":\"Peyton Manning\",\"trendVolume\":265146},{\"placeName\":\"Mesa\",\"trendDate\":\"2016-03-08\",\"trendName\":\"#InternationalWomensDay\",\"placeID\":\"2449808\",\"searchUrl\":\"http:\\\\/\\\\/twitter.com\\\\/search?q=%23InternationalWomensDay\",\"trendMapped\":\"international womens day\",\"trendVolume\":1535548},{\"placeName\":\"Mesa\",\"trendDate\":\"2016-03-08\",\"trendName\":\"Eagles\",\"placeID\":\"2449808\",\"searchUrl\":\"http:\\\\/\\\\/twitter.com\\\\/search?q=Eagles\",\"trendMapped\":\"eagles\",\"trendVolume\":117828},{\"placeName\":\"Miami\",\"trendDate\":\"2016-03-08\",\"trendName\":\"#DemDebate\",\"placeID\":\"2450022\",\"searchUrl\":\"http:\\\\/\\\\/twitter.com\\\\/search?q=%23DemDebate\",\"trendMapped\":\"dem debate\",\"trendVolume\":829626},{\"placeName\":\"Miami\",\"trendDate\":\"2016-03-08\",\"trendName\":\"#DemTownHall\",\"placeID\":\"2450022\",\"searchUrl\":\"http:\\\\/\\\\/twitter.com\\\\/search?q=%23DemTownHall\",\"trendMapped\":\"dem town hall\",\"trendVolume\":72646},{\"placeName\":\"Miami\",\"trendDate\":\"2016-03-08\",\"trendName\":\"#IWD2016\",\"placeID\":\"2450022\",\"searchUrl\":\"http:\\\\/\\\\/twitter.com\\\\/search?q=%23IWD2016\",\"trendMapped\":\"iwd2016\",\"trendVolume\":903746},{\"placeName\":\"Miami\",\"trendDate\":\"2016-03-08\",\"trendName\":\"#InternationalWomensDay\",\"placeID\":\"2450022\",\"searchUrl\":\"http:\\\\/\\\\/twitter.com\\\\/search?q=%23InternationalWomensDay\",\"trendMapped\":\"international womens day\",\"trendVolume\":930759},{\"placeName\":\"Miami\",\"trendDate\":\"2016-03-08\",\"trendName\":\"Eagles\",\"placeID\":\"2450022\",\"searchUrl\":\"http:\\\\/\\\\/twitter.com\\\\/search?q=Eagles\",\"trendMapped\":\"eagles\",\"trendVolume\":119346},{\"placeName\":\"Miami\",\"trendDate\":\"2016-03-08\",\"trendName\":\"Maria Sharapova\",\"placeID\":\"2450022\",\"searchUrl\":\"http:\\\\/\\\\/twitter.com\\\\/search?q=%22Maria+Sharapova%22\",\"trendMapped\":\"Maria Sharapova\",\"trendVolume\":122916},{\"placeName\":\"Miami\",\"trendDate\":\"2016-03-08\",\"trendName\":\"Peyton Manning\",\"placeID\":\"2450022\",\"searchUrl\":\"http:\\\\/\\\\/twitter.com\\\\/search?q=%22Peyton+Manning%22\",\"trendMapped\":\"Peyton Manning\",\"trendVolume\":264753},{\"placeName\":\"Milwaukee\",\"trendDate\":\"2016-03-08\",\"trendName\":\"#DemDebate\",\"placeID\":\"2451822\",\"searchUrl\":\"http:\\\\/\\\\/twitter.com\\\\/search?q=%23DemDebate\",\"trendMapped\":\"dem debate\",\"trendVolume\":814203},{\"placeName\":\"Milwaukee\",\"trendDate\":\"2016-03-08\",\"trendName\":\"#InternationalWomensDay\",\"placeID\":\"2451822\",\"searchUrl\":\"http:\\\\/\\\\/twitter.com\\\\/search?q=%23InternationalWomensDay\",\"trendMapped\":\"international womens day\",\"trendVolume\":1910609},{\"placeName\":\"Milwaukee\",\"trendDate\":\"2016-03-08\",\"trendName\":\"Peyton Manning\",\"placeID\":\"2451822\",\"searchUrl\":\"http:\\\\/\\\\/twitter.com\\\\/search?q=%22Peyton+Manning%22\",\"trendMapped\":\"Peyton Manning\",\"trendVolume\":261403},{\"placeName\":\"Minneapolis\",\"trendDate\":\"2016-03-08\",\"trendName\":\"#InternationalWomensDay\",\"placeID\":\"2452078\",\"searchUrl\":\"http:\\\\/\\\\/twitter.com\\\\/search?q=%23InternationalWomensDay\",\"trendMapped\":\"international womens day\",\"trendVolume\":1691604},{\"placeName\":\"Minneapolis\",\"trendDate\":\"2016-03-08\",\"trendName\":\"Peyton Manning\",\"placeID\":\"2452078\",\"searchUrl\":\"http:\\\\/\\\\/twitter.com\\\\/search?q=%22Peyton+Manning%22\",\"trendMapped\":\"Peyton Manning\",\"trendVolume\":264982},{\"placeName\":\"Nashville\",\"trendDate\":\"2016-03-08\",\"trendName\":\"#InternationalWomensDay\",\"placeID\":\"2457170\",\"searchUrl\":\"http:\\\\/\\\\/twitter.com\\\\/search?q=%23InternationalWomensDay\",\"trendMapped\":\"international womens day\",\"trendVolume\":1833275},{\"placeName\":\"Nashville\",\"trendDate\":\"2016-03-08\",\"trendName\":\"Peyton Manning\",\"placeID\":\"2457170\",\"searchUrl\":\"http:\\\\/\\\\/twitter.com\\\\/search?q=%22Peyton+Manning%22\",\"trendMapped\":\"Peyton Manning\",\"trendVolume\":264982},{\"placeName\":\"Nashville\",\"trendDate\":\"2016-03-08\",\"trendName\":\"State\",\"placeID\":\"2457170\",\"searchUrl\":\"http:\\\\/\\\\/twitter.com\\\\/search?q=State\",\"trendMapped\":\"state\",\"trendVolume\":323378},{\"placeName\":\"New Haven\",\"trendDate\":\"2016-03-08\",\"trendName\":\"#DemDebate\",\"placeID\":\"2458410\",\"searchUrl\":\"http:\\\\/\\\\/twitter.com\\\\/search?q=%23DemDebate\",\"trendMapped\":\"dem debate\",\"trendVolume\":815992},{\"placeName\":\"New Haven\",\"trendDate\":\"2016-03-08\",\"trendName\":\"#IWD2016\",\"placeID\":\"2458410\",\"searchUrl\":\"http:\\\\/\\\\/twitter.com\\\\/search?q=%23IWD2016\",\"trendMapped\":\"iwd2016\",\"trendVolume\":880135},{\"placeName\":\"New Haven\",\"trendDate\":\"2016-03-08\",\"trendName\":\"#InternationalWomensDay\",\"placeID\":\"2458410\",\"searchUrl\":\"http:\\\\/\\\\/twitter.com\\\\/search?q=%23InternationalWomensDay\",\"trendMapped\":\"international womens day\",\"trendVolume\":1599203},{\"placeName\":\"New Haven\",\"trendDate\":\"2016-03-08\",\"trendName\":\"Peyton Manning\",\"placeID\":\"2458410\",\"searchUrl\":\"http:\\\\/\\\\/twitter.com\\\\/search?q=%22Peyton+Manning%22\",\"trendMapped\":\"Peyton Manning\",\"trendVolume\":264753},{\"placeName\":\"New Orleans\",\"trendDate\":\"2016-03-08\",\"trendName\":\"#DemDebate\",\"placeID\":\"2458833\",\"searchUrl\":\"http:\\\\/\\\\/twitter.com\\\\/search?q=%23DemDebate\",\"trendMapped\":\"dem debate\",\"trendVolume\":815992},{\"placeName\":\"New Orleans\",\"trendDate\":\"2016-03-08\",\"trendName\":\"#InternationalWomensDay\",\"placeID\":\"2458833\",\"searchUrl\":\"http:\\\\/\\\\/twitter.com\\\\/search?q=%23InternationalWomensDay\",\"trendMapped\":\"international womens day\",\"trendVolume\":1920267},{\"placeName\":\"New Orleans\",\"trendDate\":\"2016-03-08\",\"trendName\":\"Peyton Manning\",\"placeID\":\"2458833\",\"searchUrl\":\"http:\\\\/\\\\/twitter.com\\\\/search?q=%22Peyton+Manning%22\",\"trendMapped\":\"Peyton Manning\",\"trendVolume\":264982},{\"placeName\":\"New York\",\"trendDate\":\"2016-03-08\",\"trendName\":\"#DemTownHall\",\"placeID\":\"2459115\",\"searchUrl\":\"http:\\\\/\\\\/twitter.com\\\\/search?q=%23DemTownHall\",\"trendMapped\":\"dem town hall\",\"trendVolume\":77700},{\"placeName\":\"New York\",\"trendDate\":\"2016-03-08\",\"trendName\":\"#InternationalWomensDay\",\"placeID\":\"2459115\",\"searchUrl\":\"http:\\\\/\\\\/twitter.com\\\\/search?q=%23InternationalWomensDay\",\"trendMapped\":\"international womens day\",\"trendVolume\":1752459},{\"placeName\":\"New York\",\"trendDate\":\"2016-03-08\",\"trendName\":\"Eagles\",\"placeID\":\"2459115\",\"searchUrl\":\"http:\\\\/\\\\/twitter.com\\\\/search?q=Eagles\",\"trendMapped\":\"eagles\",\"trendVolume\":120379},{\"placeName\":\"New York\",\"trendDate\":\"2016-03-08\",\"trendName\":\"Roma\",\"placeID\":\"2459115\",\"searchUrl\":\"http:\\\\/\\\\/twitter.com\\\\/search?q=Roma\",\"trendMapped\":\"roma\",\"trendVolume\":300242},{\"placeName\":\"Norfolk\",\"trendDate\":\"2016-03-08\",\"trendName\":\"#DemDebate\",\"placeID\":\"2460389\",\"searchUrl\":\"http:\\\\/\\\\/twitter.com\\\\/search?q=%23DemDebate\",\"trendMapped\":\"dem debate\",\"trendVolume\":350753},{\"placeName\":\"Norfolk\",\"trendDate\":\"2016-03-08\",\"trendName\":\"#InternationalWomensDay\",\"placeID\":\"2460389\",\"searchUrl\":\"http:\\\\/\\\\/twitter.com\\\\/search?q=%23InternationalWomensDay\",\"trendMapped\":\"international womens day\",\"trendVolume\":1741308},{\"placeName\":\"Norfolk\",\"trendDate\":\"2016-03-08\",\"trendName\":\"Peyton Manning\",\"placeID\":\"2460389\",\"searchUrl\":\"http:\\\\/\\\\/twitter.com\\\\/search?q=%22Peyton+Manning%22\",\"trendMapped\":\"Peyton Manning\",\"trendVolume\":264486},{\"placeName\":\"Oklahoma City\",\"trendDate\":\"2016-03-08\",\"trendName\":\"#DemDebate\",\"placeID\":\"2464592\",\"searchUrl\":\"http:\\\\/\\\\/twitter.com\\\\/search?q=%23DemDebate\",\"trendMapped\":\"dem debate\",\"trendVolume\":611537},{\"placeName\":\"Oklahoma City\",\"trendDate\":\"2016-03-08\",\"trendName\":\"#IWD2016\",\"placeID\":\"2464592\",\"searchUrl\":\"http:\\\\/\\\\/twitter.com\\\\/search?q=%23IWD2016\",\"trendMapped\":\"iwd2016\",\"trendVolume\":744950},{\"placeName\":\"Oklahoma City\",\"trendDate\":\"2016-03-08\",\"trendName\":\"#InternationalWomensDay\",\"placeID\":\"2464592\",\"searchUrl\":\"http:\\\\/\\\\/twitter.com\\\\/search?q=%23InternationalWomensDay\",\"trendMapped\":\"international womens day\",\"trendVolume\":1535548},{\"placeName\":\"Oklahoma City\",\"trendDate\":\"2016-03-08\",\"trendName\":\"Peyton Manning\",\"placeID\":\"2464592\",\"searchUrl\":\"http:\\\\/\\\\/twitter.com\\\\/search?q=%22Peyton+Manning%22\",\"trendMapped\":\"Peyton Manning\",\"trendVolume\":264640},{\"placeName\":\"Omaha\",\"trendDate\":\"2016-03-08\",\"trendName\":\"#DemDebate\",\"placeID\":\"2465512\",\"searchUrl\":\"http:\\\\/\\\\/twitter.com\\\\/search?q=%23DemDebate\",\"trendMapped\":\"dem debate\",\"trendVolume\":350753},{\"placeName\":\"Omaha\",\"trendDate\":\"2016-03-08\",\"trendName\":\"#InternationalWomensDay\",\"placeID\":\"2465512\",\"searchUrl\":\"http:\\\\/\\\\/twitter.com\\\\/search?q=%23InternationalWomensDay\",\"trendMapped\":\"international womens day\",\"trendVolume\":1212945},{\"placeName\":\"Omaha\",\"trendDate\":\"2016-03-08\",\"trendName\":\"Black\",\"placeID\":\"2465512\",\"searchUrl\":\"http:\\\\/\\\\/twitter.com\\\\/search?q=Black\",\"trendMapped\":\"black\",\"trendVolume\":776549},{\"placeName\":\"Omaha\",\"trendDate\":\"2016-03-08\",\"trendName\":\"Peyton Manning\",\"placeID\":\"2465512\",\"searchUrl\":\"http:\\\\/\\\\/twitter.com\\\\/search?q=%22Peyton+Manning%22\",\"trendMapped\":\"Peyton Manning\",\"trendVolume\":264753},{\"placeName\":\"Orlando\",\"trendDate\":\"2016-03-08\",\"trendName\":\"#DemDebate\",\"placeID\":\"2466256\",\"searchUrl\":\"http:\\\\/\\\\/twitter.com\\\\/search?q=%23DemDebate\",\"trendMapped\":\"dem debate\",\"trendVolume\":611248},{\"placeName\":\"Orlando\",\"trendDate\":\"2016-03-08\",\"trendName\":\"#IWD2016\",\"placeID\":\"2466256\",\"searchUrl\":\"http:\\\\/\\\\/twitter.com\\\\/search?q=%23IWD2016\",\"trendMapped\":\"iwd2016\",\"trendVolume\":903746},{\"placeName\":\"Orlando\",\"trendDate\":\"2016-03-08\",\"trendName\":\"#InternationalWomensDay\",\"placeID\":\"2466256\",\"searchUrl\":\"http:\\\\/\\\\/twitter.com\\\\/search?q=%23InternationalWomensDay\",\"trendMapped\":\"international womens day\",\"trendVolume\":1509884},{\"placeName\":\"Orlando\",\"trendDate\":\"2016-03-08\",\"trendName\":\"Peyton Manning\",\"placeID\":\"2466256\",\"searchUrl\":\"http:\\\\/\\\\/twitter.com\\\\/search?q=%22Peyton+Manning%22\",\"trendMapped\":\"Peyton Manning\",\"trendVolume\":264621},{\"placeName\":\"Philadelphia\",\"trendDate\":\"2016-03-08\",\"trendName\":\"#3DaysTilDangerousWoman\",\"placeID\":\"2471217\",\"searchUrl\":\"http:\\\\/\\\\/twitter.com\\\\/search?q=%233DaysTilDangerousWoman\",\"trendMapped\":\"3 days til dangerous woman\",\"trendVolume\":126761},{\"placeName\":\"Philadelphia\",\"trendDate\":\"2016-03-08\",\"trendName\":\"#DemTownHall\",\"placeID\":\"2471217\",\"searchUrl\":\"http:\\\\/\\\\/twitter.com\\\\/search?q=%23DemTownHall\",\"trendMapped\":\"dem town hall\",\"trendVolume\":76781},{\"placeName\":\"Philadelphia\",\"trendDate\":\"2016-03-08\",\"trendName\":\"#InternationalWomensDay\",\"placeID\":\"2471217\",\"searchUrl\":\"http:\\\\/\\\\/twitter.com\\\\/search?q=%23InternationalWomensDay\",\"trendMapped\":\"international womens day\",\"trendVolume\":1880702},{\"placeName\":\"Philadelphia\",\"trendDate\":\"2016-03-08\",\"trendName\":\"Eagles\",\"placeID\":\"2471217\",\"searchUrl\":\"http:\\\\/\\\\/twitter.com\\\\/search?q=Eagles\",\"trendMapped\":\"eagles\",\"trendVolume\":119726},{\"placeName\":\"Philadelphia\",\"trendDate\":\"2016-03-08\",\"trendName\":\"Maria\",\"placeID\":\"2471217\",\"searchUrl\":\"http:\\\\/\\\\/twitter.com\\\\/search?q=Maria\",\"trendMapped\":\"maria\",\"trendVolume\":335895},{\"placeName\":\"Philadelphia\",\"trendDate\":\"2016-03-08\",\"trendName\":\"Maria Sharapova\",\"placeID\":\"2471217\",\"searchUrl\":\"http:\\\\/\\\\/twitter.com\\\\/search?q=%22Maria+Sharapova%22\",\"trendMapped\":\"Maria Sharapova\",\"trendVolume\":118957},{\"placeName\":\"Philadelphia\",\"trendDate\":\"2016-03-08\",\"trendName\":\"Roma\",\"placeID\":\"2471217\",\"searchUrl\":\"http:\\\\/\\\\/twitter.com\\\\/search?q=Roma\",\"trendMapped\":\"roma\",\"trendVolume\":300242},{\"placeName\":\"Phoenix\",\"trendDate\":\"2016-03-08\",\"trendName\":\"#InternationalWomensDay\",\"placeID\":\"2471390\",\"searchUrl\":\"http:\\\\/\\\\/twitter.com\\\\/search?q=%23InternationalWomensDay\",\"trendMapped\":\"international womens day\",\"trendVolume\":1628193},{\"placeName\":\"Pittsburgh\",\"trendDate\":\"2016-03-08\",\"trendName\":\"#InternationalWomensDay\",\"placeID\":\"2473224\",\"searchUrl\":\"http:\\\\/\\\\/twitter.com\\\\/search?q=%23InternationalWomensDay\",\"trendMapped\":\"international womens day\",\"trendVolume\":1300236},{\"placeName\":\"Pittsburgh\",\"trendDate\":\"2016-03-08\",\"trendName\":\"Peyton Manning\",\"placeID\":\"2473224\",\"searchUrl\":\"http:\\\\/\\\\/twitter.com\\\\/search?q=%22Peyton+Manning%22\",\"trendMapped\":\"Peyton Manning\",\"trendVolume\":264640},{\"placeName\":\"Portland\",\"trendDate\":\"2016-03-08\",\"trendName\":\"#DemDebate\",\"placeID\":\"2475687\",\"searchUrl\":\"http:\\\\/\\\\/twitter.com\\\\/search?q=%23DemDebate\",\"trendMapped\":\"dem debate\",\"trendVolume\":188796},{\"placeName\":\"Portland\",\"trendDate\":\"2016-03-08\",\"trendName\":\"#InternationalWomensDay\",\"placeID\":\"2475687\",\"searchUrl\":\"http:\\\\/\\\\/twitter.com\\\\/search?q=%23InternationalWomensDay\",\"trendMapped\":\"international womens day\",\"trendVolume\":1954959},{\"placeName\":\"Providence\",\"trendDate\":\"2016-03-08\",\"trendName\":\"#IWD2016\",\"placeID\":\"2477058\",\"searchUrl\":\"http:\\\\/\\\\/twitter.com\\\\/search?q=%23IWD2016\",\"trendMapped\":\"iwd2016\",\"trendVolume\":333461},{\"placeName\":\"Providence\",\"trendDate\":\"2016-03-08\",\"trendName\":\"#InternationalWomensDay\",\"placeID\":\"2477058\",\"searchUrl\":\"http:\\\\/\\\\/twitter.com\\\\/search?q=%23InternationalWomensDay\",\"trendMapped\":\"international womens day\",\"trendVolume\":1474974},{\"placeName\":\"Providence\",\"trendDate\":\"2016-03-08\",\"trendName\":\"Peyton Manning\",\"placeID\":\"2477058\",\"searchUrl\":\"http:\\\\/\\\\/twitter.com\\\\/search?q=%22Peyton+Manning%22\",\"trendMapped\":\"Peyton Manning\",\"trendVolume\":264798},{\"placeName\":\"Raleigh\",\"trendDate\":\"2016-03-08\",\"trendName\":\"#DemDebate\",\"placeID\":\"2478307\",\"searchUrl\":\"http:\\\\/\\\\/twitter.com\\\\/search?q=%23DemDebate\",\"trendMapped\":\"dem debate\",\"trendVolume\":815992},{\"placeName\":\"Raleigh\",\"trendDate\":\"2016-03-08\",\"trendName\":\"#IWD2016\",\"placeID\":\"2478307\",\"searchUrl\":\"http:\\\\/\\\\/twitter.com\\\\/search?q=%23IWD2016\",\"trendMapped\":\"iwd2016\",\"trendVolume\":862590},{\"placeName\":\"Raleigh\",\"trendDate\":\"2016-03-08\",\"trendName\":\"#InternationalWomensDay\",\"placeID\":\"2478307\",\"searchUrl\":\"http:\\\\/\\\\/twitter.com\\\\/search?q=%23InternationalWomensDay\",\"trendMapped\":\"international womens day\",\"trendVolume\":1920267},{\"placeName\":\"Raleigh\",\"trendDate\":\"2016-03-08\",\"trendName\":\"Peyton Manning\",\"placeID\":\"2478307\",\"searchUrl\":\"http:\\\\/\\\\/twitter.com\\\\/search?q=%22Peyton+Manning%22\",\"trendMapped\":\"Peyton Manning\",\"trendVolume\":264306},{\"placeName\":\"Richmond\",\"trendDate\":\"2016-03-08\",\"trendName\":\"#InternationalWomensDay\",\"placeID\":\"2480894\",\"searchUrl\":\"http:\\\\/\\\\/twitter.com\\\\/search?q=%23InternationalWomensDay\",\"trendMapped\":\"international womens day\",\"trendVolume\":1661095},{\"placeName\":\"Richmond\",\"trendDate\":\"2016-03-08\",\"trendName\":\"Peyton Manning\",\"placeID\":\"2480894\",\"searchUrl\":\"http:\\\\/\\\\/twitter.com\\\\/search?q=%22Peyton+Manning%22\",\"trendMapped\":\"Peyton Manning\",\"trendVolume\":264370},{\"placeName\":\"Sacramento\",\"trendDate\":\"2016-03-08\",\"trendName\":\"#DemDebate\",\"placeID\":\"2486340\",\"searchUrl\":\"http:\\\\/\\\\/twitter.com\\\\/search?q=%23DemDebate\",\"trendMapped\":\"dem debate\",\"trendVolume\":359396},{\"placeName\":\"Sacramento\",\"trendDate\":\"2016-03-08\",\"trendName\":\"#InternationalWomensDay\",\"placeID\":\"2486340\",\"searchUrl\":\"http:\\\\/\\\\/twitter.com\\\\/search?q=%23InternationalWomensDay\",\"trendMapped\":\"international womens day\",\"trendVolume\":1946436},{\"placeName\":\"Sacramento\",\"trendDate\":\"2016-03-08\",\"trendName\":\"Peyton Manning\",\"placeID\":\"2486340\",\"searchUrl\":\"http:\\\\/\\\\/twitter.com\\\\/search?q=%22Peyton+Manning%22\",\"trendMapped\":\"Peyton Manning\",\"trendVolume\":264533},{\"placeName\":\"Salt Lake City\",\"trendDate\":\"2016-03-08\",\"trendName\":\"#DemDebate\",\"placeID\":\"2487610\",\"searchUrl\":\"http:\\\\/\\\\/twitter.com\\\\/search?q=%23DemDebate\",\"trendMapped\":\"dem debate\",\"trendVolume\":815992},{\"placeName\":\"Salt Lake City\",\"trendDate\":\"2016-03-08\",\"trendName\":\"#DolceAmoreFirsts\",\"placeID\":\"2487610\",\"searchUrl\":\"http:\\\\/\\\\/twitter.com\\\\/search?q=%23DolceAmoreFirsts\",\"trendMapped\":\"dolce amore firsts\",\"trendVolume\":357101},{\"placeName\":\"Salt Lake City\",\"trendDate\":\"2016-03-08\",\"trendName\":\"#IWD2016\",\"placeID\":\"2487610\",\"searchUrl\":\"http:\\\\/\\\\/twitter.com\\\\/search?q=%23IWD2016\",\"trendMapped\":\"iwd2016\",\"trendVolume\":399364},{\"placeName\":\"Salt Lake City\",\"trendDate\":\"2016-03-08\",\"trendName\":\"#InternationalWomensDay\",\"placeID\":\"2487610\",\"searchUrl\":\"http:\\\\/\\\\/twitter.com\\\\/search?q=%23InternationalWomensDay\",\"trendMapped\":\"international womens day\",\"trendVolume\":1920267},{\"placeName\":\"Salt Lake City\",\"trendDate\":\"2016-03-08\",\"trendName\":\"Peyton Manning\",\"placeID\":\"2487610\",\"searchUrl\":\"http:\\\\/\\\\/twitter.com\\\\/search?q=%22Peyton+Manning%22\",\"trendMapped\":\"Peyton Manning\",\"trendVolume\":263025},{\"placeName\":\"San Antonio\",\"trendDate\":\"2016-03-08\",\"trendName\":\"#DemDebate\",\"placeID\":\"2487796\",\"searchUrl\":\"http:\\\\/\\\\/twitter.com\\\\/search?q=%23DemDebate\",\"trendMapped\":\"dem debate\",\"trendVolume\":829262},{\"placeName\":\"San Antonio\",\"trendDate\":\"2016-03-08\",\"trendName\":\"#InternationalWomensDay\",\"placeID\":\"2487796\",\"searchUrl\":\"http:\\\\/\\\\/twitter.com\\\\/search?q=%23InternationalWomensDay\",\"trendMapped\":\"international womens day\",\"trendVolume\":1814383},{\"placeName\":\"San Antonio\",\"trendDate\":\"2016-03-08\",\"trendName\":\"Bernie\",\"placeID\":\"2487796\",\"searchUrl\":\"http:\\\\/\\\\/twitter.com\\\\/search?q=Bernie\",\"trendMapped\":\"bernie\",\"trendVolume\":330877},{\"placeName\":\"San Antonio\",\"trendDate\":\"2016-03-08\",\"trendName\":\"Peyton Manning\",\"placeID\":\"2487796\",\"searchUrl\":\"http:\\\\/\\\\/twitter.com\\\\/search?q=%22Peyton+Manning%22\",\"trendMapped\":\"Peyton Manning\",\"trendVolume\":264114},{\"placeName\":\"San Diego\",\"trendDate\":\"2016-03-08\",\"trendName\":\"#DemDebate\",\"placeID\":\"2487889\",\"searchUrl\":\"http:\\\\/\\\\/twitter.com\\\\/search?q=%23DemDebate\",\"trendMapped\":\"dem debate\",\"trendVolume\":815104},{\"placeName\":\"San Diego\",\"trendDate\":\"2016-03-08\",\"trendName\":\"#InternationalWomensDay\",\"placeID\":\"2487889\",\"searchUrl\":\"http:\\\\/\\\\/twitter.com\\\\/search?q=%23InternationalWomensDay\",\"trendMapped\":\"international womens day\",\"trendVolume\":1946436},{\"placeName\":\"San Diego\",\"trendDate\":\"2016-03-08\",\"trendName\":\"Peyton Manning\",\"placeID\":\"2487889\",\"searchUrl\":\"http:\\\\/\\\\/twitter.com\\\\/search?q=%22Peyton+Manning%22\",\"trendMapped\":\"Peyton Manning\",\"trendVolume\":264457},{\"placeName\":\"San Francisco\",\"trendDate\":\"2016-03-08\",\"trendName\":\"#InternationalWomensDay\",\"placeID\":\"2487956\",\"searchUrl\":\"http:\\\\/\\\\/twitter.com\\\\/search?q=%23InternationalWomensDay\",\"trendMapped\":\"international womens day\",\"trendVolume\":1920267},{\"placeName\":\"San Francisco\",\"trendDate\":\"2016-03-08\",\"trendName\":\"#TheBachelor\",\"placeID\":\"2487956\",\"searchUrl\":\"http:\\\\/\\\\/twitter.com\\\\/search?q=%23TheBachelor\",\"trendMapped\":\"the bachelor\",\"trendVolume\":78761},{\"placeName\":\"San Francisco\",\"trendDate\":\"2016-03-08\",\"trendName\":\"Eagles\",\"placeID\":\"2487956\",\"searchUrl\":\"http:\\\\/\\\\/twitter.com\\\\/search?q=Eagles\",\"trendMapped\":\"eagles\",\"trendVolume\":119726},{\"placeName\":\"San Jose\",\"trendDate\":\"2016-03-08\",\"trendName\":\"#3DaysTilDangerousWoman\",\"placeID\":\"2488042\",\"searchUrl\":\"http:\\\\/\\\\/twitter.com\\\\/search?q=%233DaysTilDangerousWoman\",\"trendMapped\":\"3 days til dangerous woman\",\"trendVolume\":128474},{\"placeName\":\"San Jose\",\"trendDate\":\"2016-03-08\",\"trendName\":\"#InternationalWomensDay\",\"placeID\":\"2488042\",\"searchUrl\":\"http:\\\\/\\\\/twitter.com\\\\/search?q=%23InternationalWomensDay\",\"trendMapped\":\"international womens day\",\"trendVolume\":1648962},{\"placeName\":\"San Jose\",\"trendDate\":\"2016-03-08\",\"trendName\":\"Eagles\",\"placeID\":\"2488042\",\"searchUrl\":\"http:\\\\/\\\\/twitter.com\\\\/search?q=Eagles\",\"trendMapped\":\"eagles\",\"trendVolume\":120379},{\"placeName\":\"San Jose\",\"trendDate\":\"2016-03-08\",\"trendName\":\"Maria Sharapova\",\"placeID\":\"2488042\",\"searchUrl\":\"http:\\\\/\\\\/twitter.com\\\\/search?q=%22Maria+Sharapova%22\",\"trendMapped\":\"Maria Sharapova\",\"trendVolume\":119502},{\"placeName\":\"Seattle\",\"trendDate\":\"2016-03-08\",\"trendName\":\"#DemDebate\",\"placeID\":\"2490383\",\"searchUrl\":\"http:\\\\/\\\\/twitter.com\\\\/search?q=%23DemDebate\",\"trendMapped\":\"dem debate\",\"trendVolume\":815992},{\"placeName\":\"Seattle\",\"trendDate\":\"2016-03-08\",\"trendName\":\"#InternationalWomensDay\",\"placeID\":\"2490383\",\"searchUrl\":\"http:\\\\/\\\\/twitter.com\\\\/search?q=%23InternationalWomensDay\",\"trendMapped\":\"international womens day\",\"trendVolume\":1890285},{\"placeName\":\"Seattle\",\"trendDate\":\"2016-03-08\",\"trendName\":\"#NationalCerealDay\",\"placeID\":\"2490383\",\"searchUrl\":\"http:\\\\/\\\\/twitter.com\\\\/search?q=%23NationalCerealDay\",\"trendMapped\":\"national cereal day\",\"trendVolume\":83188},{\"placeName\":\"Seattle\",\"trendDate\":\"2016-03-08\",\"trendName\":\"#mondaymotivation\",\"placeID\":\"2490383\",\"searchUrl\":\"http:\\\\/\\\\/twitter.com\\\\/search?q=%23mondaymotivation\",\"trendMapped\":\"mondaymotivation\",\"trendVolume\":146618},{\"placeName\":\"St. Louis\",\"trendDate\":\"2016-03-08\",\"trendName\":\"#DemDebate\",\"placeID\":\"2486982\",\"searchUrl\":\"http:\\\\/\\\\/twitter.com\\\\/search?q=%23DemDebate\",\"trendMapped\":\"dem debate\",\"trendVolume\":813908},{\"placeName\":\"St. Louis\",\"trendDate\":\"2016-03-08\",\"trendName\":\"#InternationalWomensDay\",\"placeID\":\"2486982\",\"searchUrl\":\"http:\\\\/\\\\/twitter.com\\\\/search?q=%23InternationalWomensDay\",\"trendMapped\":\"international womens day\",\"trendVolume\":1920267},{\"placeName\":\"St. Louis\",\"trendDate\":\"2016-03-08\",\"trendName\":\"#mondaymotivation\",\"placeID\":\"2486982\",\"searchUrl\":\"http:\\\\/\\\\/twitter.com\\\\/search?q=%23mondaymotivation\",\"trendMapped\":\"mondaymotivation\",\"trendVolume\":146987},{\"placeName\":\"Tallahassee\",\"trendDate\":\"2016-03-08\",\"trendName\":\"#DemDebate\",\"placeID\":\"2503713\",\"searchUrl\":\"http:\\\\/\\\\/twitter.com\\\\/search?q=%23DemDebate\",\"trendMapped\":\"dem debate\",\"trendVolume\":815992},{\"placeName\":\"Tallahassee\",\"trendDate\":\"2016-03-08\",\"trendName\":\"#IWD2016\",\"placeID\":\"2503713\",\"searchUrl\":\"http:\\\\/\\\\/twitter.com\\\\/search?q=%23IWD2016\",\"trendMapped\":\"iwd2016\",\"trendVolume\":645255},{\"placeName\":\"Tallahassee\",\"trendDate\":\"2016-03-08\",\"trendName\":\"#InternationalWomensDay\",\"placeID\":\"2503713\",\"searchUrl\":\"http:\\\\/\\\\/twitter.com\\\\/search?q=%23InternationalWomensDay\",\"trendMapped\":\"international womens day\",\"trendVolume\":1946436},{\"placeName\":\"Tallahassee\",\"trendDate\":\"2016-03-08\",\"trendName\":\"Peyton Manning\",\"placeID\":\"2503713\",\"searchUrl\":\"http:\\\\/\\\\/twitter.com\\\\/search?q=%22Peyton+Manning%22\",\"trendMapped\":\"Peyton Manning\",\"trendVolume\":265213},{\"placeName\":\"Tampa\",\"trendDate\":\"2016-03-08\",\"trendName\":\"#DemTownHall\",\"placeID\":\"2503863\",\"searchUrl\":\"http:\\\\/\\\\/twitter.com\\\\/search?q=%23DemTownHall\",\"trendMapped\":\"dem town hall\",\"trendVolume\":68354},{\"placeName\":\"Tampa\",\"trendDate\":\"2016-03-08\",\"trendName\":\"#InternationalWomensDay\",\"placeID\":\"2503863\",\"searchUrl\":\"http:\\\\/\\\\/twitter.com\\\\/search?q=%23InternationalWomensDay\",\"trendMapped\":\"international womens day\",\"trendVolume\":1769107},{\"placeName\":\"Tampa\",\"trendDate\":\"2016-03-08\",\"trendName\":\"Eagles\",\"placeID\":\"2503863\",\"searchUrl\":\"http:\\\\/\\\\/twitter.com\\\\/search?q=Eagles\",\"trendMapped\":\"eagles\",\"trendVolume\":119726},{\"placeName\":\"Tampa\",\"trendDate\":\"2016-03-08\",\"trendName\":\"Maria Sharapova\",\"placeID\":\"2503863\",\"searchUrl\":\"http:\\\\/\\\\/twitter.com\\\\/search?q=%22Maria+Sharapova%22\",\"trendMapped\":\"Maria Sharapova\",\"trendVolume\":122034},{\"placeName\":\"Tampa\",\"trendDate\":\"2016-03-08\",\"trendName\":\"Peyton Manning\",\"placeID\":\"2503863\",\"searchUrl\":\"http:\\\\/\\\\/twitter.com\\\\/search?q=%22Peyton+Manning%22\",\"trendMapped\":\"Peyton Manning\",\"trendVolume\":264640},{\"placeName\":\"Tucson\",\"trendDate\":\"2016-03-08\",\"trendName\":\"#3DaysTilDangerousWoman\",\"placeID\":\"2508428\",\"searchUrl\":\"http:\\\\/\\\\/twitter.com\\\\/search?q=%233DaysTilDangerousWoman\",\"trendMapped\":\"3 days til dangerous woman\",\"trendVolume\":128989},{\"placeName\":\"Tucson\",\"trendDate\":\"2016-03-08\",\"trendName\":\"#DemTownHall\",\"placeID\":\"2508428\",\"searchUrl\":\"http:\\\\/\\\\/twitter.com\\\\/search?q=%23DemTownHall\",\"trendMapped\":\"dem town hall\",\"trendVolume\":78023},{\"placeName\":\"Tucson\",\"trendDate\":\"2016-03-08\",\"trendName\":\"#InternationalWomensDay\",\"placeID\":\"2508428\",\"searchUrl\":\"http:\\\\/\\\\/twitter.com\\\\/search?q=%23InternationalWomensDay\",\"trendMapped\":\"international womens day\",\"trendVolume\":1814383},{\"placeName\":\"Tucson\",\"trendDate\":\"2016-03-08\",\"trendName\":\"Eagles\",\"placeID\":\"2508428\",\"searchUrl\":\"http:\\\\/\\\\/twitter.com\\\\/search?q=Eagles\",\"trendMapped\":\"eagles\",\"trendVolume\":120379},{\"placeName\":\"Tucson\",\"trendDate\":\"2016-03-08\",\"trendName\":\"Maria Sharapova\",\"placeID\":\"2508428\",\"searchUrl\":\"http:\\\\/\\\\/twitter.com\\\\/search?q=%22Maria+Sharapova%22\",\"trendMapped\":\"Maria Sharapova\",\"trendVolume\":122916},{\"placeName\":\"Tucson\",\"trendDate\":\"2016-03-08\",\"trendName\":\"Roma\",\"placeID\":\"2508428\",\"searchUrl\":\"http:\\\\/\\\\/twitter.com\\\\/search?q=Roma\",\"trendMapped\":\"roma\",\"trendVolume\":303336},{\"placeName\":\"United States\",\"trendDate\":\"2016-03-08\",\"trendName\":\"#3DaysTilDangerousWoman\",\"placeID\":\"23424977\",\"searchUrl\":\"http:\\\\/\\\\/twitter.com\\\\/search?q=%233DaysTilDangerousWoman\",\"trendMapped\":\"3 days til dangerous woman\",\"trendVolume\":124616},{\"placeName\":\"United States\",\"trendDate\":\"2016-03-08\",\"trendName\":\"#DemTownHall\",\"placeID\":\"23424977\",\"searchUrl\":\"http:\\\\/\\\\/twitter.com\\\\/search?q=%23DemTownHall\",\"trendMapped\":\"dem town hall\",\"trendVolume\":68354},{\"placeName\":\"United States\",\"trendDate\":\"2016-03-08\",\"trendName\":\"#InternationalWomensDay\",\"placeID\":\"23424977\",\"searchUrl\":\"http:\\\\/\\\\/twitter.com\\\\/search?q=%23InternationalWomensDay\",\"trendMapped\":\"international womens day\",\"trendVolume\":1661095},{\"placeName\":\"United States\",\"trendDate\":\"2016-03-08\",\"trendName\":\"#TheBachelor\",\"placeID\":\"23424977\",\"searchUrl\":\"http:\\\\/\\\\/twitter.com\\\\/search?q=%23TheBachelor\",\"trendMapped\":\"the bachelor\",\"trendVolume\":78761},{\"placeName\":\"United States\",\"trendDate\":\"2016-03-08\",\"trendName\":\"APOYO MB\",\"placeID\":\"23424977\",\"searchUrl\":\"http:\\\\/\\\\/twitter.com\\\\/search?q=%22APOYO+MB%22\",\"trendMapped\":\"APOYO MB\",\"trendVolume\":135792},{\"placeName\":\"United States\",\"trendDate\":\"2016-03-08\",\"trendName\":\"Maria Sharapova\",\"placeID\":\"23424977\",\"searchUrl\":\"http:\\\\/\\\\/twitter.com\\\\/search?q=%22Maria+Sharapova%22\",\"trendMapped\":\"Maria Sharapova\",\"trendVolume\":121685},{\"placeName\":\"Virginia Beach\",\"trendDate\":\"2016-03-08\",\"trendName\":\"#3DaysTilDangerousWoman\",\"placeID\":\"2512636\",\"searchUrl\":\"http:\\\\/\\\\/twitter.com\\\\/search?q=%233DaysTilDangerousWoman\",\"trendMapped\":\"3 days til dangerous woman\",\"trendVolume\":129516},{\"placeName\":\"Virginia Beach\",\"trendDate\":\"2016-03-08\",\"trendName\":\"#DemTownHall\",\"placeID\":\"2512636\",\"searchUrl\":\"http:\\\\/\\\\/twitter.com\\\\/search?q=%23DemTownHall\",\"trendMapped\":\"dem town hall\",\"trendVolume\":71839},{\"placeName\":\"Virginia Beach\",\"trendDate\":\"2016-03-08\",\"trendName\":\"#InternationalWomensDay\",\"placeID\":\"2512636\",\"searchUrl\":\"http:\\\\/\\\\/twitter.com\\\\/search?q=%23InternationalWomensDay\",\"trendMapped\":\"international womens day\",\"trendVolume\":1691604},{\"placeName\":\"Washington\",\"trendDate\":\"2016-03-08\",\"trendName\":\"#3DaysTilDangerousWoman\",\"placeID\":\"2514815\",\"searchUrl\":\"http:\\\\/\\\\/twitter.com\\\\/search?q=%233DaysTilDangerousWoman\",\"trendMapped\":\"3 days til dangerous woman\",\"trendVolume\":129678},{\"placeName\":\"Washington\",\"trendDate\":\"2016-03-08\",\"trendName\":\"#IWD2016\",\"placeID\":\"2514815\",\"searchUrl\":\"http:\\\\/\\\\/twitter.com\\\\/search?q=%23IWD2016\",\"trendMapped\":\"iwd2016\",\"trendVolume\":803959},{\"placeName\":\"Washington\",\"trendDate\":\"2016-03-08\",\"trendName\":\"#InternationalWomensDay\",\"placeID\":\"2514815\",\"searchUrl\":\"http:\\\\/\\\\/twitter.com\\\\/search?q=%23InternationalWomensDay\",\"trendMapped\":\"international womens day\",\"trendVolume\":1842078},{\"placeName\":\"Washington\",\"trendDate\":\"2016-03-08\",\"trendName\":\"Maria Sharapova\",\"placeID\":\"2514815\",\"searchUrl\":\"http:\\\\/\\\\/twitter.com\\\\/search?q=%22Maria+Sharapova%22\",\"trendMapped\":\"Maria Sharapova\",\"trendVolume\":118957}]'"
      ]
     },
     "execution_count": 161,
     "metadata": {},
     "output_type": "execute_result"
    }
   ],
   "source": [
    "trends_agg_322.iloc[trends_agg_322.index.get_level_values('trendDate') == '2016-03-08'].reset_index().to_json(orient='records')"
   ]
  },
  {
   "cell_type": "code",
   "execution_count": 455,
   "metadata": {
    "collapsed": false
   },
   "outputs": [],
   "source": [
    "for day in list(set(list(trends_agg2.index.get_level_values(\"trendDate\")))):\n",
    "    \n",
    "    df = trends_agg2.iloc[trends_agg2.index.get_level_values('trendDate') == day]\n",
    "    df = df.reset_index()\n",
    "    df= df.drop(\"trendDate\",axis=1).to_json(\"bydate/\"+day+\".json\",orient=\"records\")"
   ]
  },
  {
   "cell_type": "code",
   "execution_count": 474,
   "metadata": {
    "collapsed": false
   },
   "outputs": [],
   "source": [
    "for day in list(set(list(tops.index.get_level_values(\"trendDate\")))):\n",
    "    df = tops.iloc[tops.index.get_level_values('trendDate') == day]\n",
    "    df=df.reset_index()\n",
    "    df.to_json(\"map/\"+day+\".json\", orient=\"records\")"
   ]
  },
  {
   "cell_type": "code",
   "execution_count": 469,
   "metadata": {
    "collapsed": false
   },
   "outputs": [
    {
     "data": {
      "text/html": [
       "<div>\n",
       "<table border=\"1\" class=\"dataframe\">\n",
       "  <thead>\n",
       "    <tr style=\"text-align: right;\">\n",
       "      <th></th>\n",
       "      <th>trendDate</th>\n",
       "      <th>stateName</th>\n",
       "      <th>trendName</th>\n",
       "      <th>placeID</th>\n",
       "      <th>placeName</th>\n",
       "      <th>searchUrl</th>\n",
       "      <th>trendMapped</th>\n",
       "      <th>trendVolume</th>\n",
       "    </tr>\n",
       "  </thead>\n",
       "  <tbody>\n",
       "    <tr>\n",
       "      <th>0</th>\n",
       "      <td>2016-03-12</td>\n",
       "      <td>AL</td>\n",
       "      <td>#MemeHistory</td>\n",
       "      <td>2364559</td>\n",
       "      <td>Birmingham</td>\n",
       "      <td>http://twitter.com/search?q=%23MemeHistory</td>\n",
       "      <td>meme+history</td>\n",
       "      <td>897049</td>\n",
       "    </tr>\n",
       "    <tr>\n",
       "      <th>1</th>\n",
       "      <td>2016-03-12</td>\n",
       "      <td>AZ</td>\n",
       "      <td>#TrumpRally</td>\n",
       "      <td>2508428</td>\n",
       "      <td>Tucson</td>\n",
       "      <td>http://twitter.com/search?q=%23TrumpRally</td>\n",
       "      <td>trump+rally</td>\n",
       "      <td>532096</td>\n",
       "    </tr>\n",
       "    <tr>\n",
       "      <th>2</th>\n",
       "      <td>2016-03-12</td>\n",
       "      <td>CA</td>\n",
       "      <td>#MemeHistory</td>\n",
       "      <td>2488042</td>\n",
       "      <td>San Jose</td>\n",
       "      <td>http://twitter.com/search?q=%23MemeHistory</td>\n",
       "      <td>meme+history</td>\n",
       "      <td>897049</td>\n",
       "    </tr>\n",
       "    <tr>\n",
       "      <th>3</th>\n",
       "      <td>2016-03-12</td>\n",
       "      <td>CO</td>\n",
       "      <td>#TrumpRally</td>\n",
       "      <td>2391279</td>\n",
       "      <td>Denver</td>\n",
       "      <td>http://twitter.com/search?q=%23TrumpRally</td>\n",
       "      <td>trump+rally</td>\n",
       "      <td>635436</td>\n",
       "    </tr>\n",
       "    <tr>\n",
       "      <th>4</th>\n",
       "      <td>2016-03-12</td>\n",
       "      <td>CT</td>\n",
       "      <td>#TrumpRally</td>\n",
       "      <td>2458410</td>\n",
       "      <td>New Haven</td>\n",
       "      <td>http://twitter.com/search?q=%23TrumpRally</td>\n",
       "      <td>trump+rally</td>\n",
       "      <td>647745</td>\n",
       "    </tr>\n",
       "    <tr>\n",
       "      <th>5</th>\n",
       "      <td>2016-03-12</td>\n",
       "      <td>DC</td>\n",
       "      <td>#SLFLManila</td>\n",
       "      <td>2514815</td>\n",
       "      <td>Washington</td>\n",
       "      <td>http://twitter.com/search?q=%23SLFLManila</td>\n",
       "      <td>slfl+manila</td>\n",
       "      <td>318155</td>\n",
       "    </tr>\n",
       "    <tr>\n",
       "      <th>6</th>\n",
       "      <td>2016-03-12</td>\n",
       "      <td>FL</td>\n",
       "      <td>#MemeHistory</td>\n",
       "      <td>2503863</td>\n",
       "      <td>Tampa</td>\n",
       "      <td>http://twitter.com/search?q=%23MemeHistory</td>\n",
       "      <td>meme+history</td>\n",
       "      <td>900298</td>\n",
       "    </tr>\n",
       "    <tr>\n",
       "      <th>7</th>\n",
       "      <td>2016-03-12</td>\n",
       "      <td>GA</td>\n",
       "      <td>#MemeHistory</td>\n",
       "      <td>2357024</td>\n",
       "      <td>Atlanta</td>\n",
       "      <td>http://twitter.com/search?q=%23MemeHistory</td>\n",
       "      <td>meme+history</td>\n",
       "      <td>524782</td>\n",
       "    </tr>\n",
       "    <tr>\n",
       "      <th>8</th>\n",
       "      <td>2016-03-12</td>\n",
       "      <td>HI</td>\n",
       "      <td>#MemeHistory</td>\n",
       "      <td>2423945</td>\n",
       "      <td>Honolulu</td>\n",
       "      <td>http://twitter.com/search?q=%23MemeHistory</td>\n",
       "      <td>meme+history</td>\n",
       "      <td>529146</td>\n",
       "    </tr>\n",
       "    <tr>\n",
       "      <th>9</th>\n",
       "      <td>2016-03-12</td>\n",
       "      <td>IL</td>\n",
       "      <td>#TrumpRally</td>\n",
       "      <td>2379574</td>\n",
       "      <td>Chicago</td>\n",
       "      <td>http://twitter.com/search?q=%23TrumpRally</td>\n",
       "      <td>trump+rally</td>\n",
       "      <td>530737</td>\n",
       "    </tr>\n",
       "    <tr>\n",
       "      <th>10</th>\n",
       "      <td>2016-03-12</td>\n",
       "      <td>IN</td>\n",
       "      <td>#GOPDebate</td>\n",
       "      <td>2427032</td>\n",
       "      <td>Indianapolis</td>\n",
       "      <td>http://twitter.com/search?q=%23GOPDebate</td>\n",
       "      <td>gop+debate</td>\n",
       "      <td>874752</td>\n",
       "    </tr>\n",
       "    <tr>\n",
       "      <th>11</th>\n",
       "      <td>2016-03-12</td>\n",
       "      <td>KY</td>\n",
       "      <td>#MemeHistory</td>\n",
       "      <td>2442327</td>\n",
       "      <td>Louisville</td>\n",
       "      <td>http://twitter.com/search?q=%23MemeHistory</td>\n",
       "      <td>meme+history</td>\n",
       "      <td>887267</td>\n",
       "    </tr>\n",
       "    <tr>\n",
       "      <th>12</th>\n",
       "      <td>2016-03-12</td>\n",
       "      <td>LA</td>\n",
       "      <td>#MemeHistory</td>\n",
       "      <td>2458833</td>\n",
       "      <td>New Orleans</td>\n",
       "      <td>http://twitter.com/search?q=%23MemeHistory</td>\n",
       "      <td>meme+history</td>\n",
       "      <td>900298</td>\n",
       "    </tr>\n",
       "    <tr>\n",
       "      <th>13</th>\n",
       "      <td>2016-03-12</td>\n",
       "      <td>MA</td>\n",
       "      <td>#TripleThreat</td>\n",
       "      <td>2367105</td>\n",
       "      <td>Boston</td>\n",
       "      <td>http://twitter.com/search?q=%23TripleThreat</td>\n",
       "      <td>triple+threat</td>\n",
       "      <td>1338452</td>\n",
       "    </tr>\n",
       "    <tr>\n",
       "      <th>14</th>\n",
       "      <td>2016-03-12</td>\n",
       "      <td>MD</td>\n",
       "      <td>#BestFanArmy</td>\n",
       "      <td>2358820</td>\n",
       "      <td>Baltimore</td>\n",
       "      <td>http://twitter.com/search?q=%23BestFanArmy</td>\n",
       "      <td>best+fan+army</td>\n",
       "      <td>2979830</td>\n",
       "    </tr>\n",
       "    <tr>\n",
       "      <th>15</th>\n",
       "      <td>2016-03-12</td>\n",
       "      <td>MI</td>\n",
       "      <td>#MemeHistory</td>\n",
       "      <td>2391585</td>\n",
       "      <td>Detroit</td>\n",
       "      <td>http://twitter.com/search?q=%23MemeHistory</td>\n",
       "      <td>meme+history</td>\n",
       "      <td>878707</td>\n",
       "    </tr>\n",
       "    <tr>\n",
       "      <th>16</th>\n",
       "      <td>2016-03-12</td>\n",
       "      <td>MN</td>\n",
       "      <td>#TrumpRally</td>\n",
       "      <td>2452078</td>\n",
       "      <td>Minneapolis</td>\n",
       "      <td>http://twitter.com/search?q=%23TrumpRally</td>\n",
       "      <td>trump+rally</td>\n",
       "      <td>608654</td>\n",
       "    </tr>\n",
       "    <tr>\n",
       "      <th>17</th>\n",
       "      <td>2016-03-12</td>\n",
       "      <td>MO</td>\n",
       "      <td>#TrumpRally</td>\n",
       "      <td>2486982</td>\n",
       "      <td>St. Louis</td>\n",
       "      <td>http://twitter.com/search?q=%23TrumpRally</td>\n",
       "      <td>trump+rally</td>\n",
       "      <td>638700</td>\n",
       "    </tr>\n",
       "    <tr>\n",
       "      <th>18</th>\n",
       "      <td>2016-03-12</td>\n",
       "      <td>MS</td>\n",
       "      <td>#MemeHistory</td>\n",
       "      <td>2428184</td>\n",
       "      <td>Jackson</td>\n",
       "      <td>http://twitter.com/search?q=%23MemeHistory</td>\n",
       "      <td>meme+history</td>\n",
       "      <td>895876</td>\n",
       "    </tr>\n",
       "    <tr>\n",
       "      <th>19</th>\n",
       "      <td>2016-03-12</td>\n",
       "      <td>NC</td>\n",
       "      <td>#MemeHistory</td>\n",
       "      <td>2478307</td>\n",
       "      <td>Raleigh</td>\n",
       "      <td>http://twitter.com/search?q=%23MemeHistory</td>\n",
       "      <td>meme+history</td>\n",
       "      <td>884692</td>\n",
       "    </tr>\n",
       "    <tr>\n",
       "      <th>20</th>\n",
       "      <td>2016-03-12</td>\n",
       "      <td>NE</td>\n",
       "      <td>#TrumpRally</td>\n",
       "      <td>2465512</td>\n",
       "      <td>Omaha</td>\n",
       "      <td>http://twitter.com/search?q=%23TrumpRally</td>\n",
       "      <td>trump+rally</td>\n",
       "      <td>662650</td>\n",
       "    </tr>\n",
       "    <tr>\n",
       "      <th>21</th>\n",
       "      <td>2016-03-12</td>\n",
       "      <td>NM</td>\n",
       "      <td>#MemeHistory</td>\n",
       "      <td>2352824</td>\n",
       "      <td>Albuquerque</td>\n",
       "      <td>http://twitter.com/search?q=%23MemeHistory</td>\n",
       "      <td>meme+history</td>\n",
       "      <td>527451</td>\n",
       "    </tr>\n",
       "    <tr>\n",
       "      <th>22</th>\n",
       "      <td>2016-03-12</td>\n",
       "      <td>NV</td>\n",
       "      <td>#TrumpRally</td>\n",
       "      <td>2436704</td>\n",
       "      <td>Las Vegas</td>\n",
       "      <td>http://twitter.com/search?q=%23TrumpRally</td>\n",
       "      <td>trump+rally</td>\n",
       "      <td>654674</td>\n",
       "    </tr>\n",
       "    <tr>\n",
       "      <th>23</th>\n",
       "      <td>2016-03-12</td>\n",
       "      <td>NY</td>\n",
       "      <td>#MemeHistory</td>\n",
       "      <td>2459115</td>\n",
       "      <td>New York</td>\n",
       "      <td>http://twitter.com/search?q=%23MemeHistory</td>\n",
       "      <td>meme+history</td>\n",
       "      <td>555865</td>\n",
       "    </tr>\n",
       "    <tr>\n",
       "      <th>24</th>\n",
       "      <td>2016-03-12</td>\n",
       "      <td>OH</td>\n",
       "      <td>#MemeHistory</td>\n",
       "      <td>2383660</td>\n",
       "      <td>Columbus</td>\n",
       "      <td>http://twitter.com/search?q=%23MemeHistory</td>\n",
       "      <td>meme+history</td>\n",
       "      <td>895876</td>\n",
       "    </tr>\n",
       "    <tr>\n",
       "      <th>25</th>\n",
       "      <td>2016-03-12</td>\n",
       "      <td>OK</td>\n",
       "      <td>#MemeHistory</td>\n",
       "      <td>2464592</td>\n",
       "      <td>Oklahoma City</td>\n",
       "      <td>http://twitter.com/search?q=%23MemeHistory</td>\n",
       "      <td>meme+history</td>\n",
       "      <td>897049</td>\n",
       "    </tr>\n",
       "    <tr>\n",
       "      <th>26</th>\n",
       "      <td>2016-03-12</td>\n",
       "      <td>OR</td>\n",
       "      <td>#GOPDebate</td>\n",
       "      <td>2475687</td>\n",
       "      <td>Portland</td>\n",
       "      <td>http://twitter.com/search?q=%23GOPDebate</td>\n",
       "      <td>gop+debate</td>\n",
       "      <td>874752</td>\n",
       "    </tr>\n",
       "    <tr>\n",
       "      <th>27</th>\n",
       "      <td>2016-03-12</td>\n",
       "      <td>PA</td>\n",
       "      <td>#MemeHistory</td>\n",
       "      <td>2473224</td>\n",
       "      <td>Pittsburgh</td>\n",
       "      <td>http://twitter.com/search?q=%23MemeHistory</td>\n",
       "      <td>meme+history</td>\n",
       "      <td>897049</td>\n",
       "    </tr>\n",
       "    <tr>\n",
       "      <th>28</th>\n",
       "      <td>2016-03-12</td>\n",
       "      <td>RI</td>\n",
       "      <td>#TrumpRally</td>\n",
       "      <td>2477058</td>\n",
       "      <td>Providence</td>\n",
       "      <td>http://twitter.com/search?q=%23TrumpRally</td>\n",
       "      <td>trump+rally</td>\n",
       "      <td>641074</td>\n",
       "    </tr>\n",
       "    <tr>\n",
       "      <th>29</th>\n",
       "      <td>2016-03-12</td>\n",
       "      <td>TN</td>\n",
       "      <td>#MemeHistory</td>\n",
       "      <td>2457170</td>\n",
       "      <td>Nashville</td>\n",
       "      <td>http://twitter.com/search?q=%23MemeHistory</td>\n",
       "      <td>meme+history</td>\n",
       "      <td>890835</td>\n",
       "    </tr>\n",
       "    <tr>\n",
       "      <th>30</th>\n",
       "      <td>2016-03-12</td>\n",
       "      <td>TX</td>\n",
       "      <td>#MemeHistory</td>\n",
       "      <td>2487796</td>\n",
       "      <td>San Antonio</td>\n",
       "      <td>http://twitter.com/search?q=%23MemeHistory</td>\n",
       "      <td>meme+history</td>\n",
       "      <td>895876</td>\n",
       "    </tr>\n",
       "    <tr>\n",
       "      <th>31</th>\n",
       "      <td>2016-03-12</td>\n",
       "      <td>UT</td>\n",
       "      <td>#GOPDebate</td>\n",
       "      <td>2487610</td>\n",
       "      <td>Salt Lake City</td>\n",
       "      <td>http://twitter.com/search?q=%23GOPDebate</td>\n",
       "      <td>gop+debate</td>\n",
       "      <td>874752</td>\n",
       "    </tr>\n",
       "    <tr>\n",
       "      <th>32</th>\n",
       "      <td>2016-03-12</td>\n",
       "      <td>VA</td>\n",
       "      <td>#MemeHistory</td>\n",
       "      <td>2512636</td>\n",
       "      <td>Virginia Beach</td>\n",
       "      <td>http://twitter.com/search?q=%23MemeHistory</td>\n",
       "      <td>meme+history</td>\n",
       "      <td>900298</td>\n",
       "    </tr>\n",
       "    <tr>\n",
       "      <th>33</th>\n",
       "      <td>2016-03-12</td>\n",
       "      <td>WA</td>\n",
       "      <td>#TrumpRally</td>\n",
       "      <td>2490383</td>\n",
       "      <td>Seattle</td>\n",
       "      <td>http://twitter.com/search?q=%23TrumpRally</td>\n",
       "      <td>trump+rally</td>\n",
       "      <td>554200</td>\n",
       "    </tr>\n",
       "    <tr>\n",
       "      <th>34</th>\n",
       "      <td>2016-03-12</td>\n",
       "      <td>WI</td>\n",
       "      <td>#MemeHistory</td>\n",
       "      <td>2451822</td>\n",
       "      <td>Milwaukee</td>\n",
       "      <td>http://twitter.com/search?q=%23MemeHistory</td>\n",
       "      <td>meme+history</td>\n",
       "      <td>891026</td>\n",
       "    </tr>\n",
       "    <tr>\n",
       "      <th>35</th>\n",
       "      <td>2016-03-12</td>\n",
       "      <td>XX</td>\n",
       "      <td>#TrumpRally</td>\n",
       "      <td>23424977</td>\n",
       "      <td>United States</td>\n",
       "      <td>http://twitter.com/search?q=%23TrumpRally</td>\n",
       "      <td>trump+rally</td>\n",
       "      <td>385197</td>\n",
       "    </tr>\n",
       "  </tbody>\n",
       "</table>\n",
       "</div>"
      ],
      "text/plain": [
       "     trendDate stateName      trendName   placeID       placeName  \\\n",
       "0   2016-03-12        AL   #MemeHistory   2364559      Birmingham   \n",
       "1   2016-03-12        AZ    #TrumpRally   2508428          Tucson   \n",
       "2   2016-03-12        CA   #MemeHistory   2488042        San Jose   \n",
       "3   2016-03-12        CO    #TrumpRally   2391279          Denver   \n",
       "4   2016-03-12        CT    #TrumpRally   2458410       New Haven   \n",
       "5   2016-03-12        DC    #SLFLManila   2514815      Washington   \n",
       "6   2016-03-12        FL   #MemeHistory   2503863           Tampa   \n",
       "7   2016-03-12        GA   #MemeHistory   2357024         Atlanta   \n",
       "8   2016-03-12        HI   #MemeHistory   2423945        Honolulu   \n",
       "9   2016-03-12        IL    #TrumpRally   2379574         Chicago   \n",
       "10  2016-03-12        IN     #GOPDebate   2427032    Indianapolis   \n",
       "11  2016-03-12        KY   #MemeHistory   2442327      Louisville   \n",
       "12  2016-03-12        LA   #MemeHistory   2458833     New Orleans   \n",
       "13  2016-03-12        MA  #TripleThreat   2367105          Boston   \n",
       "14  2016-03-12        MD   #BestFanArmy   2358820       Baltimore   \n",
       "15  2016-03-12        MI   #MemeHistory   2391585         Detroit   \n",
       "16  2016-03-12        MN    #TrumpRally   2452078     Minneapolis   \n",
       "17  2016-03-12        MO    #TrumpRally   2486982       St. Louis   \n",
       "18  2016-03-12        MS   #MemeHistory   2428184         Jackson   \n",
       "19  2016-03-12        NC   #MemeHistory   2478307         Raleigh   \n",
       "20  2016-03-12        NE    #TrumpRally   2465512           Omaha   \n",
       "21  2016-03-12        NM   #MemeHistory   2352824     Albuquerque   \n",
       "22  2016-03-12        NV    #TrumpRally   2436704       Las Vegas   \n",
       "23  2016-03-12        NY   #MemeHistory   2459115        New York   \n",
       "24  2016-03-12        OH   #MemeHistory   2383660        Columbus   \n",
       "25  2016-03-12        OK   #MemeHistory   2464592   Oklahoma City   \n",
       "26  2016-03-12        OR     #GOPDebate   2475687        Portland   \n",
       "27  2016-03-12        PA   #MemeHistory   2473224      Pittsburgh   \n",
       "28  2016-03-12        RI    #TrumpRally   2477058      Providence   \n",
       "29  2016-03-12        TN   #MemeHistory   2457170       Nashville   \n",
       "30  2016-03-12        TX   #MemeHistory   2487796     San Antonio   \n",
       "31  2016-03-12        UT     #GOPDebate   2487610  Salt Lake City   \n",
       "32  2016-03-12        VA   #MemeHistory   2512636  Virginia Beach   \n",
       "33  2016-03-12        WA    #TrumpRally   2490383         Seattle   \n",
       "34  2016-03-12        WI   #MemeHistory   2451822       Milwaukee   \n",
       "35  2016-03-12        XX    #TrumpRally  23424977   United States   \n",
       "\n",
       "                                      searchUrl    trendMapped  trendVolume  \n",
       "0    http://twitter.com/search?q=%23MemeHistory   meme+history       897049  \n",
       "1     http://twitter.com/search?q=%23TrumpRally    trump+rally       532096  \n",
       "2    http://twitter.com/search?q=%23MemeHistory   meme+history       897049  \n",
       "3     http://twitter.com/search?q=%23TrumpRally    trump+rally       635436  \n",
       "4     http://twitter.com/search?q=%23TrumpRally    trump+rally       647745  \n",
       "5     http://twitter.com/search?q=%23SLFLManila    slfl+manila       318155  \n",
       "6    http://twitter.com/search?q=%23MemeHistory   meme+history       900298  \n",
       "7    http://twitter.com/search?q=%23MemeHistory   meme+history       524782  \n",
       "8    http://twitter.com/search?q=%23MemeHistory   meme+history       529146  \n",
       "9     http://twitter.com/search?q=%23TrumpRally    trump+rally       530737  \n",
       "10     http://twitter.com/search?q=%23GOPDebate     gop+debate       874752  \n",
       "11   http://twitter.com/search?q=%23MemeHistory   meme+history       887267  \n",
       "12   http://twitter.com/search?q=%23MemeHistory   meme+history       900298  \n",
       "13  http://twitter.com/search?q=%23TripleThreat  triple+threat      1338452  \n",
       "14   http://twitter.com/search?q=%23BestFanArmy  best+fan+army      2979830  \n",
       "15   http://twitter.com/search?q=%23MemeHistory   meme+history       878707  \n",
       "16    http://twitter.com/search?q=%23TrumpRally    trump+rally       608654  \n",
       "17    http://twitter.com/search?q=%23TrumpRally    trump+rally       638700  \n",
       "18   http://twitter.com/search?q=%23MemeHistory   meme+history       895876  \n",
       "19   http://twitter.com/search?q=%23MemeHistory   meme+history       884692  \n",
       "20    http://twitter.com/search?q=%23TrumpRally    trump+rally       662650  \n",
       "21   http://twitter.com/search?q=%23MemeHistory   meme+history       527451  \n",
       "22    http://twitter.com/search?q=%23TrumpRally    trump+rally       654674  \n",
       "23   http://twitter.com/search?q=%23MemeHistory   meme+history       555865  \n",
       "24   http://twitter.com/search?q=%23MemeHistory   meme+history       895876  \n",
       "25   http://twitter.com/search?q=%23MemeHistory   meme+history       897049  \n",
       "26     http://twitter.com/search?q=%23GOPDebate     gop+debate       874752  \n",
       "27   http://twitter.com/search?q=%23MemeHistory   meme+history       897049  \n",
       "28    http://twitter.com/search?q=%23TrumpRally    trump+rally       641074  \n",
       "29   http://twitter.com/search?q=%23MemeHistory   meme+history       890835  \n",
       "30   http://twitter.com/search?q=%23MemeHistory   meme+history       895876  \n",
       "31     http://twitter.com/search?q=%23GOPDebate     gop+debate       874752  \n",
       "32   http://twitter.com/search?q=%23MemeHistory   meme+history       900298  \n",
       "33    http://twitter.com/search?q=%23TrumpRally    trump+rally       554200  \n",
       "34   http://twitter.com/search?q=%23MemeHistory   meme+history       891026  \n",
       "35    http://twitter.com/search?q=%23TrumpRally    trump+rally       385197  "
      ]
     },
     "execution_count": 469,
     "metadata": {},
     "output_type": "execute_result"
    }
   ],
   "source": [
    "df"
   ]
  },
  {
   "cell_type": "code",
   "execution_count": 257,
   "metadata": {
    "collapsed": true
   },
   "outputs": [
    {
     "data": {
      "text/plain": [
       "{'Albuquerque': 'NM',\n",
       " 'Atlanta': 'GA',\n",
       " 'Baltimore': 'MD',\n",
       " 'Birmingham': 'AL',\n",
       " 'Boston': 'MA',\n",
       " 'Chicago': 'IL',\n",
       " 'Cincinnati': 'OH',\n",
       " 'Denver': 'CO',\n",
       " 'Detroit': 'MI',\n",
       " 'El Paso': 'TX',\n",
       " 'Greensboro': 'NC',\n",
       " 'Harrisburg': 'PA',\n",
       " 'Honolulu': 'HI',\n",
       " 'Indianapolis': 'IN',\n",
       " 'Jackson': 'MS',\n",
       " 'Jacksonville': 'FL',\n",
       " 'Kansas City': 'MO',\n",
       " 'Las Vegas': 'NV',\n",
       " 'Louisville': 'KY',\n",
       " 'Milwaukee': 'WI',\n",
       " 'Minneapolis': 'MN',\n",
       " 'Nashville': 'TN',\n",
       " 'New Haven': 'CT',\n",
       " 'New Orleans': 'LA',\n",
       " 'New York': 'NY',\n",
       " 'Oklahoma City': 'OK',\n",
       " 'Omaha': 'NE',\n",
       " 'Phoenix': 'AZ',\n",
       " 'Portland': 'OR',\n",
       " 'Providence': 'RI',\n",
       " 'Richmond': 'VA',\n",
       " 'Sacramento': 'CA',\n",
       " 'Salt Lake City': 'UT',\n",
       " 'Seattle': 'WA',\n",
       " 'United States': 'XX',\n",
       " 'Washington': 'DC'}"
      ]
     },
     "execution_count": 257,
     "metadata": {},
     "output_type": "execute_result"
    }
   ],
   "source": [
    "states"
   ]
  },
  {
   "cell_type": "code",
   "execution_count": 478,
   "metadata": {
    "collapsed": false
   },
   "outputs": [],
   "source": [
    "base = datetime.datetime.today()\n",
    "date_list = [base - datetime.timedelta(days=x) for x in range(0, 10)]"
   ]
  },
  {
   "cell_type": "code",
   "execution_count": 482,
   "metadata": {
    "collapsed": false
   },
   "outputs": [],
   "source": [
    "import os"
   ]
  },
  {
   "cell_type": "code",
   "execution_count": 486,
   "metadata": {
    "collapsed": false
   },
   "outputs": [
    {
     "data": {
      "text/plain": [
       "['2016-03-03',\n",
       " '2016-03-04',\n",
       " '2016-03-05',\n",
       " '2016-03-06',\n",
       " '2016-03-07',\n",
       " '2016-03-08',\n",
       " '2016-03-09',\n",
       " '2016-03-10',\n",
       " '2016-03-11',\n",
       " '2016-03-12',\n",
       " '2016-03-13',\n",
       " '2016-03-14',\n",
       " '2016-03-15',\n",
       " '2016-03-16',\n",
       " '2016-03-17',\n",
       " '2016-03-18',\n",
       " '2016-03-19',\n",
       " '2016-03-20',\n",
       " '2016-03-21',\n",
       " '2016-03-22',\n",
       " '2016-03-23',\n",
       " '2016-03-24',\n",
       " '2016-03-25',\n",
       " '2016-03-26',\n",
       " '2016-03-27',\n",
       " '2016-03-28',\n",
       " '2016-03-29',\n",
       " '2016-03-30',\n",
       " '2016-03-31',\n",
       " '2016-04-01',\n",
       " '2016-04-02',\n",
       " '2016-04-03',\n",
       " '2016-04-04',\n",
       " '2016-04-05',\n",
       " '2016-04-06',\n",
       " '2016-04-07',\n",
       " '2016-04-08',\n",
       " '2016-04-09',\n",
       " '2016-04-10',\n",
       " '2016-04-11',\n",
       " '2016-04-12',\n",
       " '2016-04-13',\n",
       " '2016-04-14',\n",
       " '2016-04-15',\n",
       " '2016-04-16',\n",
       " '2016-04-17']"
      ]
     },
     "execution_count": 486,
     "metadata": {},
     "output_type": "execute_result"
    }
   ],
   "source": [
    "[ files.rstrip(\".json\") for files in os.listdir(\"map\")]"
   ]
  },
  {
   "cell_type": "code",
   "execution_count": null,
   "metadata": {
    "collapsed": true
   },
   "outputs": [],
   "source": []
  }
 ],
 "metadata": {
  "kernelspec": {
   "display_name": "Python 2",
   "language": "python",
   "name": "python2"
  },
  "language_info": {
   "codemirror_mode": {
    "name": "ipython",
    "version": 2
   },
   "file_extension": ".py",
   "mimetype": "text/x-python",
   "name": "python",
   "nbconvert_exporter": "python",
   "pygments_lexer": "ipython2",
   "version": "2.7.11"
  }
 },
 "nbformat": 4,
 "nbformat_minor": 0
}
