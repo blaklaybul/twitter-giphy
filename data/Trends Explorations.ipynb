{
 "cells": [
  {
   "cell_type": "code",
   "execution_count": 3,
   "metadata": {
    "collapsed": false
   },
   "outputs": [],
   "source": [
    "%matplotlib inline\n",
    "\n",
    "import json\n",
    "import pandas as pd\n",
    "import matplotlib.pyplot as plt"
   ]
  },
  {
   "cell_type": "markdown",
   "metadata": {},
   "source": [
    "## Load the Twitter Trend Snapshots\n",
    "\n",
    "Take the raw fata from dynamoDB dump, clean it up, and load it into a pandas data frame."
   ]
  },
  {
   "cell_type": "code",
   "execution_count": 43,
   "metadata": {
    "collapsed": true
   },
   "outputs": [],
   "source": [
    "with open('output.json', 'rb') as f:\n",
    "    trends = json.load(f)"
   ]
  },
  {
   "cell_type": "code",
   "execution_count": 7,
   "metadata": {
    "collapsed": false
   },
   "outputs": [
    {
     "data": {
      "text/plain": [
       "{u'placeID': {u'N': u'2407517'},\n",
       " u'trend': {u'M': {u'date': {u'S': u'2016-03-03'},\n",
       "   u'mappedName': {u'S': u'world book day'},\n",
       "   u'placeName': {u'S': u'Fresno'},\n",
       "   u'tweetName': {u'S': u'#WorldBookDay'},\n",
       "   u'tweetVolume': {u'N': u'225775'},\n",
       "   u'url': {u'S': u'http://twitter.com/search?q=%23WorldBookDay'}}},\n",
       " u'trendTime': {u'N': u'1457022783'}}"
      ]
     },
     "execution_count": 7,
     "metadata": {},
     "output_type": "execute_result"
    }
   ],
   "source": [
    "# use this to inform cleanup process\n",
    "trends[\"Items\"][0]"
   ]
  },
  {
   "cell_type": "code",
   "execution_count": 44,
   "metadata": {
    "collapsed": true
   },
   "outputs": [],
   "source": [
    "trends_clean = []"
   ]
  },
  {
   "cell_type": "code",
   "execution_count": 45,
   "metadata": {
    "collapsed": true
   },
   "outputs": [],
   "source": [
    "for trend in trends[\"Items\"]:\n",
    "    new = {}\n",
    "    new[\"placeID\"] = trend[\"placeID\"][\"N\"]\n",
    "    new[\"trendMapped\"] = trend[\"trend\"][\"M\"][\"mappedName\"][\"S\"]\n",
    "    new[\"placeName\"] = trend[\"trend\"][\"M\"][\"placeName\"][\"S\"]\n",
    "    new[\"trendName\"] = trend[\"trend\"][\"M\"][\"tweetName\"][\"S\"]\n",
    "    new[\"trendVolume\"] = trend[\"trend\"][\"M\"][\"tweetVolume\"][\"N\"]\n",
    "    new[\"searchUrl\"] = trend[\"trend\"][\"M\"][\"url\"][\"S\"]\n",
    "    new[\"trendDate\"] = trend[\"trend\"][\"M\"][\"date\"][\"S\"]\n",
    "    new[\"trendTime\"] = trend[\"trendTime\"][\"N\"]\n",
    "    trends_clean.append(new)"
   ]
  },
  {
   "cell_type": "code",
   "execution_count": 46,
   "metadata": {
    "collapsed": false
   },
   "outputs": [
    {
     "data": {
      "text/plain": [
       "{'placeID': u'2407517',\n",
       " 'placeName': u'Fresno',\n",
       " 'searchUrl': u'http://twitter.com/search?q=%23WorldBookDay',\n",
       " 'trendDate': u'2016-03-03',\n",
       " 'trendMapped': u'world book day',\n",
       " 'trendName': u'#WorldBookDay',\n",
       " 'trendTime': u'1457022783',\n",
       " 'trendVolume': u'225775'}"
      ]
     },
     "execution_count": 46,
     "metadata": {},
     "output_type": "execute_result"
    }
   ],
   "source": [
    "# it worked\n",
    "trends_clean[0]"
   ]
  },
  {
   "cell_type": "code",
   "execution_count": 47,
   "metadata": {
    "collapsed": true
   },
   "outputs": [],
   "source": [
    "df_trends = pd.DataFrame(trends_clean)"
   ]
  },
  {
   "cell_type": "markdown",
   "metadata": {},
   "source": [
    "## Pandas Cleanup\n",
    "Converting columns and shit"
   ]
  },
  {
   "cell_type": "code",
   "execution_count": 48,
   "metadata": {
    "collapsed": false
   },
   "outputs": [],
   "source": [
    "df_trends.trendTime = df_trends.trendTime.astype(int)\n",
    "df_trends.trendVolume = df_trends.trendVolume.astype(int)\n",
    "df_trends.index = pd.to_datetime(df_trends.trendTime, unit = 's')\n",
    "df_trends = df_trends.drop(\"trendTime\", axis = 1)"
   ]
  },
  {
   "cell_type": "code",
   "execution_count": 72,
   "metadata": {
    "collapsed": false
   },
   "outputs": [
    {
     "data": {
      "text/plain": [
       "placeName  trendName              \n",
       "Austin     #InternationalWomensDay    42256033\n",
       "           #GOPDebate                 15906327\n",
       "           #DemDebate                 15101032\n",
       "           #ALDUBMaineEvent           12680017\n",
       "           #UFC196                     7084952\n",
       "           #IWD2016                    4865321\n",
       "           #TrumpRally                 4265247\n",
       "           #ALDUBPaandarNiDudang       3964532\n",
       "           #GIFparty                   2951654\n",
       "           #ALDUBTheProposition        2923100\n",
       "           MANANALO SI KATH            2239664\n",
       "           #MemeHistory                2201516\n",
       "           #ALDUBAngPagdalaw           2179506\n",
       "           #DolceAmorePuSo             1694586\n",
       "           Kendrick                    1625493\n",
       "           #DangerousWomanTonight      1437080\n",
       "           Romney                      1075061\n",
       "           #WorldBookDay                783033\n",
       "           Ciara                        580942\n",
       "           Bankroll Fresh               540323\n",
       "           Peyton Manning               528238\n",
       "           Leicester                    388602\n",
       "           George Martin                358394\n",
       "           #BTS1000DAYS                 344070\n",
       "           #CallMeSeb                   307498\n",
       "           #MichiganPrimary             258944\n",
       "           Like I Would                 252969\n",
       "           Cristiano                    217433\n",
       "           #TrumpRallyChi               189178\n",
       "           Marvel                       117273\n",
       "           #5daysTilDangerouswoman      104282\n",
       "           Lukaku                        90689\n",
       "Name: trendVolume, dtype: int64"
      ]
     },
     "execution_count": 72,
     "metadata": {},
     "output_type": "execute_result"
    }
   ],
   "source": [
    "df_trends[df_trends[\"placeName\"] == 'Austin'].groupby([\"placeName\", \"trendName\"])[\"trendVolume\"].sum().sort_values(ascending=False)"
   ]
  },
  {
   "cell_type": "code",
   "execution_count": 84,
   "metadata": {
    "collapsed": false,
    "scrolled": false
   },
   "outputs": [
    {
     "data": {
      "text/html": [
       "<div>\n",
       "<table border=\"1\" class=\"dataframe\">\n",
       "  <thead>\n",
       "    <tr style=\"text-align: right;\">\n",
       "      <th></th>\n",
       "      <th>placeID</th>\n",
       "      <th>placeName</th>\n",
       "      <th>searchUrl</th>\n",
       "      <th>trendDate</th>\n",
       "      <th>trendMapped</th>\n",
       "      <th>trendName</th>\n",
       "      <th>trendVolume</th>\n",
       "    </tr>\n",
       "    <tr>\n",
       "      <th>trendTime</th>\n",
       "      <th></th>\n",
       "      <th></th>\n",
       "      <th></th>\n",
       "      <th></th>\n",
       "      <th></th>\n",
       "      <th></th>\n",
       "      <th></th>\n",
       "    </tr>\n",
       "  </thead>\n",
       "  <tbody>\n",
       "    <tr>\n",
       "      <th>2016-03-12 00:18:02</th>\n",
       "      <td>2357536</td>\n",
       "      <td>Austin</td>\n",
       "      <td>http://twitter.com/search?q=Ciara</td>\n",
       "      <td>2016-03-12</td>\n",
       "      <td>ciara</td>\n",
       "      <td>Ciara</td>\n",
       "      <td>180332</td>\n",
       "    </tr>\n",
       "    <tr>\n",
       "      <th>2016-03-12 01:19:07</th>\n",
       "      <td>2357536</td>\n",
       "      <td>Austin</td>\n",
       "      <td>http://twitter.com/search?q=Ciara</td>\n",
       "      <td>2016-03-12</td>\n",
       "      <td>ciara</td>\n",
       "      <td>Ciara</td>\n",
       "      <td>196724</td>\n",
       "    </tr>\n",
       "    <tr>\n",
       "      <th>2016-03-12 01:49:09</th>\n",
       "      <td>2357536</td>\n",
       "      <td>Austin</td>\n",
       "      <td>http://twitter.com/search?q=Ciara</td>\n",
       "      <td>2016-03-12</td>\n",
       "      <td>ciara</td>\n",
       "      <td>Ciara</td>\n",
       "      <td>203886</td>\n",
       "    </tr>\n",
       "    <tr>\n",
       "      <th>2016-03-12 03:33:01</th>\n",
       "      <td>2357536</td>\n",
       "      <td>Austin</td>\n",
       "      <td>http://twitter.com/search?q=%23TrumpRally</td>\n",
       "      <td>2016-03-12</td>\n",
       "      <td>trump rally</td>\n",
       "      <td>#TrumpRally</td>\n",
       "      <td>291580</td>\n",
       "    </tr>\n",
       "    <tr>\n",
       "      <th>2016-03-12 03:34:06</th>\n",
       "      <td>2357536</td>\n",
       "      <td>Austin</td>\n",
       "      <td>http://twitter.com/search?q=%23TrumpRally</td>\n",
       "      <td>2016-03-12</td>\n",
       "      <td>trump rally</td>\n",
       "      <td>#TrumpRally</td>\n",
       "      <td>291580</td>\n",
       "    </tr>\n",
       "    <tr>\n",
       "      <th>2016-03-12 04:48:02</th>\n",
       "      <td>2357536</td>\n",
       "      <td>Austin</td>\n",
       "      <td>http://twitter.com/search?q=%23TrumpRally</td>\n",
       "      <td>2016-03-12</td>\n",
       "      <td>trump rally</td>\n",
       "      <td>#TrumpRally</td>\n",
       "      <td>368615</td>\n",
       "    </tr>\n",
       "    <tr>\n",
       "      <th>2016-03-12 05:48:01</th>\n",
       "      <td>2357536</td>\n",
       "      <td>Austin</td>\n",
       "      <td>http://twitter.com/search?q=%23TrumpRally</td>\n",
       "      <td>2016-03-12</td>\n",
       "      <td>trump rally</td>\n",
       "      <td>#TrumpRally</td>\n",
       "      <td>408820</td>\n",
       "    </tr>\n",
       "    <tr>\n",
       "      <th>2016-03-12 07:36:19</th>\n",
       "      <td>2357536</td>\n",
       "      <td>Austin</td>\n",
       "      <td>http://twitter.com/search?q=%23ALDUBPaandarNiD...</td>\n",
       "      <td>2016-03-12</td>\n",
       "      <td>aldub paandar ni dudang</td>\n",
       "      <td>#ALDUBPaandarNiDudang</td>\n",
       "      <td>1186290</td>\n",
       "    </tr>\n",
       "    <tr>\n",
       "      <th>2016-03-12 10:33:03</th>\n",
       "      <td>2357536</td>\n",
       "      <td>Austin</td>\n",
       "      <td>http://twitter.com/search?q=%23ALDUBPaandarNiD...</td>\n",
       "      <td>2016-03-12</td>\n",
       "      <td>aldub paandar ni dudang</td>\n",
       "      <td>#ALDUBPaandarNiDudang</td>\n",
       "      <td>1365676</td>\n",
       "    </tr>\n",
       "    <tr>\n",
       "      <th>2016-03-12 12:03:03</th>\n",
       "      <td>2357536</td>\n",
       "      <td>Austin</td>\n",
       "      <td>http://twitter.com/search?q=%23ALDUBPaandarNiD...</td>\n",
       "      <td>2016-03-12</td>\n",
       "      <td>aldub paandar ni dudang</td>\n",
       "      <td>#ALDUBPaandarNiDudang</td>\n",
       "      <td>1412566</td>\n",
       "    </tr>\n",
       "    <tr>\n",
       "      <th>2016-03-12 13:04:09</th>\n",
       "      <td>2357536</td>\n",
       "      <td>Austin</td>\n",
       "      <td>http://twitter.com/search?q=%23MemeHistory</td>\n",
       "      <td>2016-03-12</td>\n",
       "      <td>meme history</td>\n",
       "      <td>#MemeHistory</td>\n",
       "      <td>556770</td>\n",
       "    </tr>\n",
       "    <tr>\n",
       "      <th>2016-03-12 13:33:01</th>\n",
       "      <td>2357536</td>\n",
       "      <td>Austin</td>\n",
       "      <td>http://twitter.com/search?q=%23TrumpRally</td>\n",
       "      <td>2016-03-12</td>\n",
       "      <td>trump rally</td>\n",
       "      <td>#TrumpRally</td>\n",
       "      <td>527808</td>\n",
       "    </tr>\n",
       "    <tr>\n",
       "      <th>2016-03-12 15:33:02</th>\n",
       "      <td>2357536</td>\n",
       "      <td>Austin</td>\n",
       "      <td>http://twitter.com/search?q=%23TrumpRally</td>\n",
       "      <td>2016-03-12</td>\n",
       "      <td>trump rally</td>\n",
       "      <td>#TrumpRally</td>\n",
       "      <td>561237</td>\n",
       "    </tr>\n",
       "    <tr>\n",
       "      <th>2016-03-12 16:33:01</th>\n",
       "      <td>2357536</td>\n",
       "      <td>Austin</td>\n",
       "      <td>http://twitter.com/search?q=%23TrumpRally</td>\n",
       "      <td>2016-03-12</td>\n",
       "      <td>trump rally</td>\n",
       "      <td>#TrumpRally</td>\n",
       "      <td>585249</td>\n",
       "    </tr>\n",
       "    <tr>\n",
       "      <th>2016-03-12 16:48:04</th>\n",
       "      <td>2357536</td>\n",
       "      <td>Austin</td>\n",
       "      <td>http://twitter.com/search?q=%23TrumpRally</td>\n",
       "      <td>2016-03-12</td>\n",
       "      <td>trump rally</td>\n",
       "      <td>#TrumpRally</td>\n",
       "      <td>590879</td>\n",
       "    </tr>\n",
       "    <tr>\n",
       "      <th>2016-03-12 20:19:02</th>\n",
       "      <td>2357536</td>\n",
       "      <td>Austin</td>\n",
       "      <td>http://twitter.com/search?q=%23TrumpRally</td>\n",
       "      <td>2016-03-12</td>\n",
       "      <td>trump rally</td>\n",
       "      <td>#TrumpRally</td>\n",
       "      <td>639479</td>\n",
       "    </tr>\n",
       "    <tr>\n",
       "      <th>2016-03-12 21:33:02</th>\n",
       "      <td>2357536</td>\n",
       "      <td>Austin</td>\n",
       "      <td>http://twitter.com/search?q=Lukaku</td>\n",
       "      <td>2016-03-12</td>\n",
       "      <td>lukaku</td>\n",
       "      <td>Lukaku</td>\n",
       "      <td>90689</td>\n",
       "    </tr>\n",
       "    <tr>\n",
       "      <th>2016-03-12 22:03:02</th>\n",
       "      <td>2357536</td>\n",
       "      <td>Austin</td>\n",
       "      <td>http://twitter.com/search?q=%23TrumpRallyChi</td>\n",
       "      <td>2016-03-12</td>\n",
       "      <td>trump rally chi</td>\n",
       "      <td>#TrumpRallyChi</td>\n",
       "      <td>93773</td>\n",
       "    </tr>\n",
       "    <tr>\n",
       "      <th>2016-03-12 22:18:02</th>\n",
       "      <td>2357536</td>\n",
       "      <td>Austin</td>\n",
       "      <td>http://twitter.com/search?q=%23TrumpRallyChi</td>\n",
       "      <td>2016-03-12</td>\n",
       "      <td>trump rally chi</td>\n",
       "      <td>#TrumpRallyChi</td>\n",
       "      <td>95405</td>\n",
       "    </tr>\n",
       "  </tbody>\n",
       "</table>\n",
       "</div>"
      ],
      "text/plain": [
       "                     placeID placeName  \\\n",
       "trendTime                                \n",
       "2016-03-12 00:18:02  2357536    Austin   \n",
       "2016-03-12 01:19:07  2357536    Austin   \n",
       "2016-03-12 01:49:09  2357536    Austin   \n",
       "2016-03-12 03:33:01  2357536    Austin   \n",
       "2016-03-12 03:34:06  2357536    Austin   \n",
       "2016-03-12 04:48:02  2357536    Austin   \n",
       "2016-03-12 05:48:01  2357536    Austin   \n",
       "2016-03-12 07:36:19  2357536    Austin   \n",
       "2016-03-12 10:33:03  2357536    Austin   \n",
       "2016-03-12 12:03:03  2357536    Austin   \n",
       "2016-03-12 13:04:09  2357536    Austin   \n",
       "2016-03-12 13:33:01  2357536    Austin   \n",
       "2016-03-12 15:33:02  2357536    Austin   \n",
       "2016-03-12 16:33:01  2357536    Austin   \n",
       "2016-03-12 16:48:04  2357536    Austin   \n",
       "2016-03-12 20:19:02  2357536    Austin   \n",
       "2016-03-12 21:33:02  2357536    Austin   \n",
       "2016-03-12 22:03:02  2357536    Austin   \n",
       "2016-03-12 22:18:02  2357536    Austin   \n",
       "\n",
       "                                                             searchUrl  \\\n",
       "trendTime                                                                \n",
       "2016-03-12 00:18:02                  http://twitter.com/search?q=Ciara   \n",
       "2016-03-12 01:19:07                  http://twitter.com/search?q=Ciara   \n",
       "2016-03-12 01:49:09                  http://twitter.com/search?q=Ciara   \n",
       "2016-03-12 03:33:01          http://twitter.com/search?q=%23TrumpRally   \n",
       "2016-03-12 03:34:06          http://twitter.com/search?q=%23TrumpRally   \n",
       "2016-03-12 04:48:02          http://twitter.com/search?q=%23TrumpRally   \n",
       "2016-03-12 05:48:01          http://twitter.com/search?q=%23TrumpRally   \n",
       "2016-03-12 07:36:19  http://twitter.com/search?q=%23ALDUBPaandarNiD...   \n",
       "2016-03-12 10:33:03  http://twitter.com/search?q=%23ALDUBPaandarNiD...   \n",
       "2016-03-12 12:03:03  http://twitter.com/search?q=%23ALDUBPaandarNiD...   \n",
       "2016-03-12 13:04:09         http://twitter.com/search?q=%23MemeHistory   \n",
       "2016-03-12 13:33:01          http://twitter.com/search?q=%23TrumpRally   \n",
       "2016-03-12 15:33:02          http://twitter.com/search?q=%23TrumpRally   \n",
       "2016-03-12 16:33:01          http://twitter.com/search?q=%23TrumpRally   \n",
       "2016-03-12 16:48:04          http://twitter.com/search?q=%23TrumpRally   \n",
       "2016-03-12 20:19:02          http://twitter.com/search?q=%23TrumpRally   \n",
       "2016-03-12 21:33:02                 http://twitter.com/search?q=Lukaku   \n",
       "2016-03-12 22:03:02       http://twitter.com/search?q=%23TrumpRallyChi   \n",
       "2016-03-12 22:18:02       http://twitter.com/search?q=%23TrumpRallyChi   \n",
       "\n",
       "                      trendDate              trendMapped  \\\n",
       "trendTime                                                  \n",
       "2016-03-12 00:18:02  2016-03-12                    ciara   \n",
       "2016-03-12 01:19:07  2016-03-12                    ciara   \n",
       "2016-03-12 01:49:09  2016-03-12                    ciara   \n",
       "2016-03-12 03:33:01  2016-03-12              trump rally   \n",
       "2016-03-12 03:34:06  2016-03-12              trump rally   \n",
       "2016-03-12 04:48:02  2016-03-12              trump rally   \n",
       "2016-03-12 05:48:01  2016-03-12              trump rally   \n",
       "2016-03-12 07:36:19  2016-03-12  aldub paandar ni dudang   \n",
       "2016-03-12 10:33:03  2016-03-12  aldub paandar ni dudang   \n",
       "2016-03-12 12:03:03  2016-03-12  aldub paandar ni dudang   \n",
       "2016-03-12 13:04:09  2016-03-12             meme history   \n",
       "2016-03-12 13:33:01  2016-03-12              trump rally   \n",
       "2016-03-12 15:33:02  2016-03-12              trump rally   \n",
       "2016-03-12 16:33:01  2016-03-12              trump rally   \n",
       "2016-03-12 16:48:04  2016-03-12              trump rally   \n",
       "2016-03-12 20:19:02  2016-03-12              trump rally   \n",
       "2016-03-12 21:33:02  2016-03-12                   lukaku   \n",
       "2016-03-12 22:03:02  2016-03-12          trump rally chi   \n",
       "2016-03-12 22:18:02  2016-03-12          trump rally chi   \n",
       "\n",
       "                                 trendName  trendVolume  \n",
       "trendTime                                                \n",
       "2016-03-12 00:18:02                  Ciara       180332  \n",
       "2016-03-12 01:19:07                  Ciara       196724  \n",
       "2016-03-12 01:49:09                  Ciara       203886  \n",
       "2016-03-12 03:33:01            #TrumpRally       291580  \n",
       "2016-03-12 03:34:06            #TrumpRally       291580  \n",
       "2016-03-12 04:48:02            #TrumpRally       368615  \n",
       "2016-03-12 05:48:01            #TrumpRally       408820  \n",
       "2016-03-12 07:36:19  #ALDUBPaandarNiDudang      1186290  \n",
       "2016-03-12 10:33:03  #ALDUBPaandarNiDudang      1365676  \n",
       "2016-03-12 12:03:03  #ALDUBPaandarNiDudang      1412566  \n",
       "2016-03-12 13:04:09           #MemeHistory       556770  \n",
       "2016-03-12 13:33:01            #TrumpRally       527808  \n",
       "2016-03-12 15:33:02            #TrumpRally       561237  \n",
       "2016-03-12 16:33:01            #TrumpRally       585249  \n",
       "2016-03-12 16:48:04            #TrumpRally       590879  \n",
       "2016-03-12 20:19:02            #TrumpRally       639479  \n",
       "2016-03-12 21:33:02                 Lukaku        90689  \n",
       "2016-03-12 22:03:02         #TrumpRallyChi        93773  \n",
       "2016-03-12 22:18:02         #TrumpRallyChi        95405  "
      ]
     },
     "execution_count": 84,
     "metadata": {},
     "output_type": "execute_result"
    }
   ],
   "source": [
    "df_trends[(df_trends.placeName == \"Austin\") & (df_trends.trendDate == \"2016-03-12\")]"
   ]
  },
  {
   "cell_type": "code",
   "execution_count": null,
   "metadata": {
    "collapsed": true
   },
   "outputs": [],
   "source": []
  },
  {
   "cell_type": "code",
   "execution_count": null,
   "metadata": {
    "collapsed": true
   },
   "outputs": [],
   "source": []
  },
  {
   "cell_type": "code",
   "execution_count": null,
   "metadata": {
    "collapsed": true
   },
   "outputs": [],
   "source": []
  },
  {
   "cell_type": "code",
   "execution_count": null,
   "metadata": {
    "collapsed": true
   },
   "outputs": [],
   "source": []
  },
  {
   "cell_type": "code",
   "execution_count": 53,
   "metadata": {
    "collapsed": false
   },
   "outputs": [],
   "source": [
    "df_trends.to_json(\"cleaned_trends.json\",orient = 'records')\n"
   ]
  },
  {
   "cell_type": "code",
   "execution_count": null,
   "metadata": {
    "collapsed": true
   },
   "outputs": [],
   "source": []
  }
 ],
 "metadata": {
  "kernelspec": {
   "display_name": "Python 2",
   "language": "python",
   "name": "python2"
  },
  "language_info": {
   "codemirror_mode": {
    "name": "ipython",
    "version": 2
   },
   "file_extension": ".py",
   "mimetype": "text/x-python",
   "name": "python",
   "nbconvert_exporter": "python",
   "pygments_lexer": "ipython2",
   "version": "2.7.11"
  }
 },
 "nbformat": 4,
 "nbformat_minor": 0
}
