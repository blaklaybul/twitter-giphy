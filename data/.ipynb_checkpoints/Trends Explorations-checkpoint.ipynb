{
 "cells": [
  {
   "cell_type": "code",
   "execution_count": 92,
   "metadata": {
    "collapsed": false
   },
   "outputs": [],
   "source": [
    "%matplotlib inline\n",
    "\n",
    "import requests\n",
    "import shutil\n",
    "import json\n",
    "import pandas as pd\n",
    "import matplotlib.pyplot as plt"
   ]
  },
  {
   "cell_type": "markdown",
   "metadata": {},
   "source": [
    "## Load the Twitter Trend Snapshots\n",
    "\n",
    "Take the raw fata from dynamoDB dump, clean it up, and load it into a pandas data frame."
   ]
  },
  {
   "cell_type": "code",
   "execution_count": 2,
   "metadata": {
    "collapsed": true
   },
   "outputs": [],
   "source": [
    "with open('output.json', 'rb') as f:\n",
    "    trends = json.load(f)"
   ]
  },
  {
   "cell_type": "code",
   "execution_count": 3,
   "metadata": {
    "collapsed": false
   },
   "outputs": [
    {
     "data": {
      "text/plain": [
       "{u'placeID': {u'N': u'2407517'},\n",
       " u'trend': {u'M': {u'date': {u'S': u'2016-03-03'},\n",
       "   u'mappedName': {u'S': u'world book day'},\n",
       "   u'placeName': {u'S': u'Fresno'},\n",
       "   u'tweetName': {u'S': u'#WorldBookDay'},\n",
       "   u'tweetVolume': {u'N': u'225775'},\n",
       "   u'url': {u'S': u'http://twitter.com/search?q=%23WorldBookDay'}}},\n",
       " u'trendTime': {u'N': u'1457022783'}}"
      ]
     },
     "execution_count": 3,
     "metadata": {},
     "output_type": "execute_result"
    }
   ],
   "source": [
    "# use this to inform cleanup process\n",
    "trends[\"Items\"][0]"
   ]
  },
  {
   "cell_type": "code",
   "execution_count": 4,
   "metadata": {
    "collapsed": true
   },
   "outputs": [],
   "source": [
    "trends_clean = []"
   ]
  },
  {
   "cell_type": "code",
   "execution_count": 5,
   "metadata": {
    "collapsed": true
   },
   "outputs": [],
   "source": [
    "for trend in trends[\"Items\"]:\n",
    "    new = {}\n",
    "    new[\"placeID\"] = trend[\"placeID\"][\"N\"]\n",
    "    new[\"trendMapped\"] = trend[\"trend\"][\"M\"][\"mappedName\"][\"S\"]\n",
    "    new[\"placeName\"] = trend[\"trend\"][\"M\"][\"placeName\"][\"S\"]\n",
    "    new[\"trendName\"] = trend[\"trend\"][\"M\"][\"tweetName\"][\"S\"]\n",
    "    new[\"trendVolume\"] = trend[\"trend\"][\"M\"][\"tweetVolume\"][\"N\"]\n",
    "    new[\"searchUrl\"] = trend[\"trend\"][\"M\"][\"url\"][\"S\"]\n",
    "    new[\"trendDate\"] = trend[\"trend\"][\"M\"][\"date\"][\"S\"]\n",
    "    new[\"trendTime\"] = trend[\"trendTime\"][\"N\"]\n",
    "    trends_clean.append(new)"
   ]
  },
  {
   "cell_type": "code",
   "execution_count": 6,
   "metadata": {
    "collapsed": false
   },
   "outputs": [
    {
     "data": {
      "text/plain": [
       "{'placeID': u'2407517',\n",
       " 'placeName': u'Fresno',\n",
       " 'searchUrl': u'http://twitter.com/search?q=%23WorldBookDay',\n",
       " 'trendDate': u'2016-03-03',\n",
       " 'trendMapped': u'world book day',\n",
       " 'trendName': u'#WorldBookDay',\n",
       " 'trendTime': u'1457022783',\n",
       " 'trendVolume': u'225775'}"
      ]
     },
     "execution_count": 6,
     "metadata": {},
     "output_type": "execute_result"
    }
   ],
   "source": [
    "# it worked\n",
    "trends_clean[0]"
   ]
  },
  {
   "cell_type": "code",
   "execution_count": 7,
   "metadata": {
    "collapsed": true
   },
   "outputs": [],
   "source": [
    "df_trends = pd.DataFrame(trends_clean)"
   ]
  },
  {
   "cell_type": "markdown",
   "metadata": {},
   "source": [
    "## Pandas Cleanup\n",
    "Converting columns and shit"
   ]
  },
  {
   "cell_type": "code",
   "execution_count": 8,
   "metadata": {
    "collapsed": false
   },
   "outputs": [],
   "source": [
    "df_trends.trendTime = df_trends.trendTime.astype(int)\n",
    "df_trends.trendVolume = df_trends.trendVolume.astype(int)\n",
    "df_trends.index = pd.to_datetime(df_trends.trendTime, unit = 's')\n",
    "df_trends = df_trends.drop(\"trendTime\", axis = 1)"
   ]
  },
  {
   "cell_type": "code",
   "execution_count": 54,
   "metadata": {
    "collapsed": false,
    "scrolled": false
   },
   "outputs": [],
   "source": [
    "trends_agg_322 = df_trends[(df_trends[\"trendDate\"] == '2016-04-17') & ~(df_trends[\"trendName\"].str.contains(\"ALDUB|iHeartAwards\"))].groupby([\"placeName\",\"trendName\"]).max()"
   ]
  },
  {
   "cell_type": "code",
   "execution_count": 10,
   "metadata": {
    "collapsed": false,
    "scrolled": false
   },
   "outputs": [],
   "source": [
    "test = trends_agg_322[\"trendVolume\"].groupby(level=0, group_keys=False)"
   ]
  },
  {
   "cell_type": "code",
   "execution_count": 11,
   "metadata": {
    "collapsed": false
   },
   "outputs": [],
   "source": [
    "res = test.apply(lambda x: x.sort_values(ascending=False).head(3))"
   ]
  },
  {
   "cell_type": "code",
   "execution_count": 51,
   "metadata": {
    "collapsed": false
   },
   "outputs": [],
   "source": [
    "trends_agg_322 = trends_agg_322.sort_values(\"trendVolume\", ascending=False)"
   ]
  },
  {
   "cell_type": "code",
   "execution_count": 61,
   "metadata": {
    "collapsed": false
   },
   "outputs": [],
   "source": [
    "trends_agg_322 = df_trends[~(df_trends[\"trendName\"].str.contains(\"ALDUB|iHeartAwards\"))].sort_values(\"trendVolume\", ascending=False).groupby([\"placeName\",\"trendDate\",\"trendName\"]).max()"
   ]
  },
  {
   "cell_type": "code",
   "execution_count": 43,
   "metadata": {
    "collapsed": false
   },
   "outputs": [],
   "source": [
    "test = trends_agg_322[\"trendVolume\"].groupby(level=0, group_keys=False)apply(lambda x: x.sort_values(ascending=False).head(3))"
   ]
  },
  {
   "cell_type": "code",
   "execution_count": 63,
   "metadata": {
    "collapsed": false,
    "scrolled": true
   },
   "outputs": [
    {
     "data": {
      "text/html": [
       "<div>\n",
       "<table border=\"1\" class=\"dataframe\">\n",
       "  <thead>\n",
       "    <tr style=\"text-align: right;\">\n",
       "      <th></th>\n",
       "      <th></th>\n",
       "      <th></th>\n",
       "      <th>placeID</th>\n",
       "      <th>searchUrl</th>\n",
       "      <th>trendMapped</th>\n",
       "      <th>trendVolume</th>\n",
       "    </tr>\n",
       "    <tr>\n",
       "      <th>placeName</th>\n",
       "      <th>trendDate</th>\n",
       "      <th>trendName</th>\n",
       "      <th></th>\n",
       "      <th></th>\n",
       "      <th></th>\n",
       "      <th></th>\n",
       "    </tr>\n",
       "  </thead>\n",
       "  <tbody>\n",
       "    <tr>\n",
       "      <th rowspan=\"20\" valign=\"top\">Albuquerque</th>\n",
       "      <th rowspan=\"3\" valign=\"top\">2016-03-03</th>\n",
       "      <th>#GIFparty</th>\n",
       "      <td>2352824</td>\n",
       "      <td>http://twitter.com/search?q=%23GIFparty</td>\n",
       "      <td>gi fparty</td>\n",
       "      <td>390881</td>\n",
       "    </tr>\n",
       "    <tr>\n",
       "      <th>#WorldBookDay</th>\n",
       "      <td>2352824</td>\n",
       "      <td>http://twitter.com/search?q=%23WorldBookDay</td>\n",
       "      <td>world book day</td>\n",
       "      <td>331571</td>\n",
       "    </tr>\n",
       "    <tr>\n",
       "      <th>Romney</th>\n",
       "      <td>2352824</td>\n",
       "      <td>http://twitter.com/search?q=Romney</td>\n",
       "      <td>romney</td>\n",
       "      <td>569239</td>\n",
       "    </tr>\n",
       "    <tr>\n",
       "      <th rowspan=\"7\" valign=\"top\">2016-03-04</th>\n",
       "      <th>#GIFparty</th>\n",
       "      <td>2352824</td>\n",
       "      <td>http://twitter.com/search?q=%23GIFparty</td>\n",
       "      <td>gi fparty</td>\n",
       "      <td>490108</td>\n",
       "    </tr>\n",
       "    <tr>\n",
       "      <th>#GOPDebate</th>\n",
       "      <td>2352824</td>\n",
       "      <td>http://twitter.com/search?q=%23GOPDebate</td>\n",
       "      <td>gop debate</td>\n",
       "      <td>1137559</td>\n",
       "    </tr>\n",
       "    <tr>\n",
       "      <th>#MagconFamily</th>\n",
       "      <td>2352824</td>\n",
       "      <td>http://twitter.com/search?q=%23MagconFamily</td>\n",
       "      <td>magcon family</td>\n",
       "      <td>123284</td>\n",
       "    </tr>\n",
       "    <tr>\n",
       "      <th>#WorkAcrossAmerica</th>\n",
       "      <td>2352824</td>\n",
       "      <td>http://twitter.com/search?q=%23WorkAcrossAmerica</td>\n",
       "      <td>work across america</td>\n",
       "      <td>308977</td>\n",
       "    </tr>\n",
       "    <tr>\n",
       "      <th>Kendrick</th>\n",
       "      <td>2352824</td>\n",
       "      <td>http://twitter.com/search?q=Kendrick</td>\n",
       "      <td>kendrick</td>\n",
       "      <td>277327</td>\n",
       "    </tr>\n",
       "    <tr>\n",
       "      <th>Lula</th>\n",
       "      <td>2352824</td>\n",
       "      <td>http://twitter.com/search?q=Lula</td>\n",
       "      <td>lula</td>\n",
       "      <td>736453</td>\n",
       "    </tr>\n",
       "    <tr>\n",
       "      <th>Zaman</th>\n",
       "      <td>2352824</td>\n",
       "      <td>http://twitter.com/search?q=Zaman</td>\n",
       "      <td>zaman</td>\n",
       "      <td>404039</td>\n",
       "    </tr>\n",
       "    <tr>\n",
       "      <th rowspan=\"8\" valign=\"top\">2016-03-05</th>\n",
       "      <th>#A3AnosDeTuSiembraComandante</th>\n",
       "      <td>2352824</td>\n",
       "      <td>http://twitter.com/search?q=%23A3AnosDeTuSiemb...</td>\n",
       "      <td>a3 anos de tu siembra comandante</td>\n",
       "      <td>209679</td>\n",
       "    </tr>\n",
       "    <tr>\n",
       "      <th>#CallMeSeb</th>\n",
       "      <td>2352824</td>\n",
       "      <td>http://twitter.com/search?q=%23CallMeSeb</td>\n",
       "      <td>call me seb</td>\n",
       "      <td>102164</td>\n",
       "    </tr>\n",
       "    <tr>\n",
       "      <th>#WorkFromTwitter</th>\n",
       "      <td>2352824</td>\n",
       "      <td>http://twitter.com/search?q=%23WorkFromTwitter</td>\n",
       "      <td>work from twitter</td>\n",
       "      <td>199867</td>\n",
       "    </tr>\n",
       "    <tr>\n",
       "      <th>Bankroll Fresh</th>\n",
       "      <td>2352824</td>\n",
       "      <td>http://twitter.com/search?q=%22Bankroll+Fresh%22</td>\n",
       "      <td>Bankroll Fresh</td>\n",
       "      <td>203144</td>\n",
       "    </tr>\n",
       "    <tr>\n",
       "      <th>Celta</th>\n",
       "      <td>2352824</td>\n",
       "      <td>http://twitter.com/search?q=Celta</td>\n",
       "      <td>celta</td>\n",
       "      <td>166872</td>\n",
       "    </tr>\n",
       "    <tr>\n",
       "      <th>Cristiano</th>\n",
       "      <td>2352824</td>\n",
       "      <td>http://twitter.com/search?q=Cristiano</td>\n",
       "      <td>cristiano</td>\n",
       "      <td>226787</td>\n",
       "    </tr>\n",
       "    <tr>\n",
       "      <th>Leicester</th>\n",
       "      <td>2352824</td>\n",
       "      <td>http://twitter.com/search?q=Leicester</td>\n",
       "      <td>leicester</td>\n",
       "      <td>198556</td>\n",
       "    </tr>\n",
       "    <tr>\n",
       "      <th>Zaman</th>\n",
       "      <td>2352824</td>\n",
       "      <td>http://twitter.com/search?q=Zaman</td>\n",
       "      <td>zaman</td>\n",
       "      <td>515370</td>\n",
       "    </tr>\n",
       "    <tr>\n",
       "      <th rowspan=\"2\" valign=\"top\">2016-03-06</th>\n",
       "      <th>#MADEFINALinSEOUL</th>\n",
       "      <td>2352824</td>\n",
       "      <td>http://twitter.com/search?q=%23MADEFINALinSEOUL</td>\n",
       "      <td>madefina lin seoul</td>\n",
       "      <td>227981</td>\n",
       "    </tr>\n",
       "    <tr>\n",
       "      <th>#TheVoiceKidsBr</th>\n",
       "      <td>2352824</td>\n",
       "      <td>http://twitter.com/search?q=%23TheVoiceKidsBr</td>\n",
       "      <td>the voice kids br</td>\n",
       "      <td>304776</td>\n",
       "    </tr>\n",
       "  </tbody>\n",
       "</table>\n",
       "</div>"
      ],
      "text/plain": [
       "                                                     placeID  \\\n",
       "placeName   trendDate  trendName                               \n",
       "Albuquerque 2016-03-03 #GIFparty                     2352824   \n",
       "                       #WorldBookDay                 2352824   \n",
       "                       Romney                        2352824   \n",
       "            2016-03-04 #GIFparty                     2352824   \n",
       "                       #GOPDebate                    2352824   \n",
       "                       #MagconFamily                 2352824   \n",
       "                       #WorkAcrossAmerica            2352824   \n",
       "                       Kendrick                      2352824   \n",
       "                       Lula                          2352824   \n",
       "                       Zaman                         2352824   \n",
       "            2016-03-05 #A3AnosDeTuSiembraComandante  2352824   \n",
       "                       #CallMeSeb                    2352824   \n",
       "                       #WorkFromTwitter              2352824   \n",
       "                       Bankroll Fresh                2352824   \n",
       "                       Celta                         2352824   \n",
       "                       Cristiano                     2352824   \n",
       "                       Leicester                     2352824   \n",
       "                       Zaman                         2352824   \n",
       "            2016-03-06 #MADEFINALinSEOUL             2352824   \n",
       "                       #TheVoiceKidsBr               2352824   \n",
       "\n",
       "                                                                                             searchUrl  \\\n",
       "placeName   trendDate  trendName                                                                         \n",
       "Albuquerque 2016-03-03 #GIFparty                               http://twitter.com/search?q=%23GIFparty   \n",
       "                       #WorldBookDay                       http://twitter.com/search?q=%23WorldBookDay   \n",
       "                       Romney                                       http://twitter.com/search?q=Romney   \n",
       "            2016-03-04 #GIFparty                               http://twitter.com/search?q=%23GIFparty   \n",
       "                       #GOPDebate                             http://twitter.com/search?q=%23GOPDebate   \n",
       "                       #MagconFamily                       http://twitter.com/search?q=%23MagconFamily   \n",
       "                       #WorkAcrossAmerica             http://twitter.com/search?q=%23WorkAcrossAmerica   \n",
       "                       Kendrick                                   http://twitter.com/search?q=Kendrick   \n",
       "                       Lula                                           http://twitter.com/search?q=Lula   \n",
       "                       Zaman                                         http://twitter.com/search?q=Zaman   \n",
       "            2016-03-05 #A3AnosDeTuSiembraComandante  http://twitter.com/search?q=%23A3AnosDeTuSiemb...   \n",
       "                       #CallMeSeb                             http://twitter.com/search?q=%23CallMeSeb   \n",
       "                       #WorkFromTwitter                 http://twitter.com/search?q=%23WorkFromTwitter   \n",
       "                       Bankroll Fresh                 http://twitter.com/search?q=%22Bankroll+Fresh%22   \n",
       "                       Celta                                         http://twitter.com/search?q=Celta   \n",
       "                       Cristiano                                 http://twitter.com/search?q=Cristiano   \n",
       "                       Leicester                                 http://twitter.com/search?q=Leicester   \n",
       "                       Zaman                                         http://twitter.com/search?q=Zaman   \n",
       "            2016-03-06 #MADEFINALinSEOUL               http://twitter.com/search?q=%23MADEFINALinSEOUL   \n",
       "                       #TheVoiceKidsBr                   http://twitter.com/search?q=%23TheVoiceKidsBr   \n",
       "\n",
       "                                                                          trendMapped  \\\n",
       "placeName   trendDate  trendName                                                        \n",
       "Albuquerque 2016-03-03 #GIFparty                                            gi fparty   \n",
       "                       #WorldBookDay                                   world book day   \n",
       "                       Romney                                                  romney   \n",
       "            2016-03-04 #GIFparty                                            gi fparty   \n",
       "                       #GOPDebate                                          gop debate   \n",
       "                       #MagconFamily                                    magcon family   \n",
       "                       #WorkAcrossAmerica                         work across america   \n",
       "                       Kendrick                                              kendrick   \n",
       "                       Lula                                                      lula   \n",
       "                       Zaman                                                    zaman   \n",
       "            2016-03-05 #A3AnosDeTuSiembraComandante  a3 anos de tu siembra comandante   \n",
       "                       #CallMeSeb                                         call me seb   \n",
       "                       #WorkFromTwitter                             work from twitter   \n",
       "                       Bankroll Fresh                                  Bankroll Fresh   \n",
       "                       Celta                                                    celta   \n",
       "                       Cristiano                                            cristiano   \n",
       "                       Leicester                                            leicester   \n",
       "                       Zaman                                                    zaman   \n",
       "            2016-03-06 #MADEFINALinSEOUL                           madefina lin seoul   \n",
       "                       #TheVoiceKidsBr                              the voice kids br   \n",
       "\n",
       "                                                     trendVolume  \n",
       "placeName   trendDate  trendName                                  \n",
       "Albuquerque 2016-03-03 #GIFparty                          390881  \n",
       "                       #WorldBookDay                      331571  \n",
       "                       Romney                             569239  \n",
       "            2016-03-04 #GIFparty                          490108  \n",
       "                       #GOPDebate                        1137559  \n",
       "                       #MagconFamily                      123284  \n",
       "                       #WorkAcrossAmerica                 308977  \n",
       "                       Kendrick                           277327  \n",
       "                       Lula                               736453  \n",
       "                       Zaman                              404039  \n",
       "            2016-03-05 #A3AnosDeTuSiembraComandante       209679  \n",
       "                       #CallMeSeb                         102164  \n",
       "                       #WorkFromTwitter                   199867  \n",
       "                       Bankroll Fresh                     203144  \n",
       "                       Celta                              166872  \n",
       "                       Cristiano                          226787  \n",
       "                       Leicester                          198556  \n",
       "                       Zaman                              515370  \n",
       "            2016-03-06 #MADEFINALinSEOUL                  227981  \n",
       "                       #TheVoiceKidsBr                    304776  "
      ]
     },
     "execution_count": 63,
     "metadata": {},
     "output_type": "execute_result"
    }
   ],
   "source": [
    "trends_agg_322.head(20)"
   ]
  },
  {
   "cell_type": "code",
   "execution_count": 83,
   "metadata": {
    "collapsed": true
   },
   "outputs": [
    {
     "name": "stdout",
     "output_type": "stream",
     "text": [
      "New York            274\n",
      "Albuquerque         273\n",
      "United States       272\n",
      "Fresno              272\n",
      "Long Beach          271\n",
      "Tucson              270\n",
      "Philadelphia        267\n",
      "San Jose            267\n",
      "Mesa                266\n",
      "Colorado Springs    265\n",
      "Los Angeles         264\n",
      "Washington          256\n",
      "Virginia Beach      255\n",
      "San Francisco       251\n",
      "Chicago             242\n",
      "Boston              242\n",
      "Atlanta             238\n",
      "Dallas-Ft. Worth    229\n",
      "Houston             217\n",
      "Miami               216\n",
      "Denver              214\n",
      "Cleveland           210\n",
      "Seattle             205\n",
      "Tampa               203\n",
      "Phoenix             197\n",
      "Minneapolis         195\n",
      "San Diego           195\n",
      "Detroit             190\n",
      "Las Vegas           189\n",
      "St. Louis           189\n",
      "New Haven           189\n",
      "Charlotte           188\n",
      "Indianapolis        183\n",
      "Salt Lake City      182\n",
      "Austin              182\n",
      "Raleigh             182\n",
      "Orlando             177\n",
      "Louisville          177\n",
      "Portland            175\n",
      "Baton Rouge         174\n",
      "Columbus            174\n",
      "Pittsburgh          173\n",
      "Baltimore           171\n",
      "San Antonio         171\n",
      "Omaha               169\n",
      "Oklahoma City       169\n",
      "Jackson             168\n",
      "El Paso             167\n",
      "Milwaukee           166\n",
      "Memphis             165\n",
      "Cincinnati          165\n",
      "Providence          164\n",
      "Tallahassee         163\n",
      "Norfolk             163\n",
      "Kansas City         163\n",
      "Richmond            161\n",
      "Harrisburg          159\n",
      "Sacramento          157\n",
      "Birmingham          156\n",
      "Nashville           154\n",
      "Honolulu            150\n",
      "Greensboro          150\n",
      "Jacksonville        149\n",
      "New Orleans         149\n",
      "Name: placeName, dtype: int64\n"
     ]
    }
   ],
   "source": [
    "def print_full(x):\n",
    "    pd.set_option('display.max_rows', len(x))\n",
    "    print(x)\n",
    "    pd.reset_option('display.max_rows')\n",
    "\n",
    "print_full(trends_agg_322.index.get_level_values(\"placeName\").value_counts())\n",
    "\n",
    "#trends_agg_322[\"trendMapped\"].value_counts()"
   ]
  },
  {
   "cell_type": "markdown",
   "metadata": {},
   "source": [
    "Here we get the mapped names for giphy retrieval"
   ]
  },
  {
   "cell_type": "code",
   "execution_count": 123,
   "metadata": {
    "collapsed": false
   },
   "outputs": [],
   "source": [
    "mike = [ dude.replace(\" \", \"+\") for dude in list(set(trends_agg_322[\"trendMapped\"]))]\n",
    "responses = []"
   ]
  },
  {
   "cell_type": "code",
   "execution_count": 124,
   "metadata": {
    "collapsed": false
   },
   "outputs": [],
   "source": [
    "for trend in mike:\n",
    "    resp = requests.get(\"http://api.giphy.com/v1/gifs/search?q=\" + trend + \"&api_key=dc6zaTOxFJmzC&limit=1\")\n",
    "    data = resp.json()\n",
    "    data[\"trend\"] = trend\n",
    "    responses.append(data)\n",
    "    "
   ]
  },
  {
   "cell_type": "code",
   "execution_count": 136,
   "metadata": {
    "collapsed": false
   },
   "outputs": [],
   "source": [
    "for resp in responses:\n",
    "    if resp[\"data\"]:\n",
    "        url = resp[\"data\"][0][\"images\"][\"original\"][\"url\"]\n",
    "        res = requests.get(url, stream=True)\n",
    "        with open(\"gifs_full/\"+resp[\"trend\"]+'.gif', 'wb') as out_file:\n",
    "            shutil.copyfileobj(res.raw, out_file)\n",
    "        del res"
   ]
  },
  {
   "cell_type": "code",
   "execution_count": 88,
   "metadata": {
    "collapsed": false
   },
   "outputs": [],
   "source": [
    "dude = pd.Series([\"NY\",\"NM\",\"XX\",\"CA\",\"CA\",\"AZ\",\"PA\",\"CA\",\"AZ\",\"CO\",\n",
    "                  \"CA\",\"DC\",\"VA\",\"CA\",\"IL\",\"MA\",\"GA\",\"TX\",\"TX\",\"FL\",\n",
    "                  \"CO\",\"OH\",\"WA\",\"FL\",\"AZ\",\"MN\",\"CA\",\"MI\",\"NV\",\"MO\",\n",
    "                  \"CT\",\"NC\",\"IN\",\"UT\",\"TX\",\"NC\",\"FL\",\"KY\",\"OR\",\"LA\",\n",
    "                  \"OH\",\"PA\",\"MD\",\"TX\",\"NE\",\"OK\",\"MS\",\"TX\",\"WI\",\"TN\",\n",
    "                  \"OH\",\"RI\",\"FL\",\"VA\",\"MO\",\"VA\",\"PA\",\"CA\",\"AL\",\"TN\",\n",
    "                  \"HI\",\"NC\",\"FL\",\"LA\"])"
   ]
  },
  {
   "cell_type": "code",
   "execution_count": 133,
   "metadata": {
    "collapsed": false
   },
   "outputs": [
    {
     "data": {
      "text/plain": [
       "['trend', u'pagination', u'meta', u'data']"
      ]
     },
     "execution_count": 133,
     "metadata": {},
     "output_type": "execute_result"
    }
   ],
   "source": [
    "responses[0].keys()"
   ]
  },
  {
   "cell_type": "code",
   "execution_count": 122,
   "metadata": {
    "collapsed": false
   },
   "outputs": [
    {
     "data": {
      "text/plain": [
       "u'taksim'"
      ]
     },
     "execution_count": 122,
     "metadata": {},
     "output_type": "execute_result"
    }
   ],
   "source": []
  },
  {
   "cell_type": "code",
   "execution_count": null,
   "metadata": {
    "collapsed": true
   },
   "outputs": [],
   "source": []
  }
 ],
 "metadata": {
  "kernelspec": {
   "display_name": "Python 2",
   "language": "python",
   "name": "python2"
  },
  "language_info": {
   "codemirror_mode": {
    "name": "ipython",
    "version": 2
   },
   "file_extension": ".py",
   "mimetype": "text/x-python",
   "name": "python",
   "nbconvert_exporter": "python",
   "pygments_lexer": "ipython2",
   "version": "2.7.11"
  }
 },
 "nbformat": 4,
 "nbformat_minor": 0
}
